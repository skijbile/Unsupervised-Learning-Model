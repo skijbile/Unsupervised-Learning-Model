{
 "cells": [
  {
   "cell_type": "markdown",
   "id": "9f566e09",
   "metadata": {},
   "source": [
    "# Unupervised Learning - Project"
   ]
  },
  {
   "cell_type": "markdown",
   "id": "dad75ccd",
   "metadata": {},
   "source": [
    "In this Project, we are going to perform a full unsupervised learning machine learning project on a \"Wholesale Data\" dataset. The dataset refers to clients of a wholesale distributor. It includes the annual spending in monetary units (m.u.) on diverse product categories\n",
    "\n",
    "[Kaggle Link](https://www.kaggle.com/datasets/binovi/wholesale-customers-data-set)"
   ]
  },
  {
   "cell_type": "code",
   "execution_count": 1,
   "id": "2c3366d9-0736-4b68-affa-15f81a710455",
   "metadata": {},
   "outputs": [],
   "source": [
    "#load libraries\n",
    "import pandas as pd\n",
    "import numpy as np\n",
    "import matplotlib.pyplot as plt\n",
    "import seaborn as sns\n",
    "import warnings\n",
    "from sklearn.preprocessing import StandardScaler\n",
    "from sklearn.cluster import KMeans\n",
    "from sklearn.metrics import silhouette_score # method to check number of clusters along with elbow rule\n",
    "from sklearn.cluster import AgglomerativeClustering\n",
    "import scipy.cluster.hierarchy as sch # cluster hierarchy to plot dendogram\n",
    "from sklearn.decomposition import PCA\n",
    "import plotly.express as px\n",
    "import plotly.graph_objects as go"
   ]
  },
  {
   "cell_type": "markdown",
   "id": "c5e57f31",
   "metadata": {},
   "source": [
    "# Part I : EDA - Exploratory Data Analysis & Pre-processing"
   ]
  },
  {
   "cell_type": "markdown",
   "id": "53c827a5",
   "metadata": {},
   "source": [
    "The given dataset seems to be a grocery sales dataset containing information about various products sold by a grocery store. To perform an exploratory data analysis (EDA) on this dataset, we can perform the following tasks:\n",
    "\n",
    "- Data Import: Import the dataset into a statistical software tool such as Python or R.\n",
    "- Data Cleaning: Check the dataset for any missing or incorrect data and clean the dataset accordingly. This may involve removing or imputing missing data or correcting any obvious errors.\n",
    "Data Description: Generate summary statistics such as mean, median, and standard deviation for each column of the dataset. This will help in understanding the distribution of data in each column.\n",
    "- Data Visualization: Create various visualizations such as histograms, box plots, scatter plots, and heatmaps to understand the relationships and trends between the different variables in the dataset. For example, we can create a scatter plot between the \"Fresh\" and \"Milk\" variables to see if there is any correlation between them.\n",
    "- Outlier Detection: Check for any outliers in the dataset and determine whether they are valid or erroneous data points.\n",
    "- Correlation Analysis: Calculate the correlation between different variables in the dataset to determine which variables are highly correlated and which ones are not. For example, we can calculate the correlation between \"Grocery\" and \"Detergents_Paper\" to see if there is any relationship between these two variables.\n",
    "- Data Transformation: If necessary, transform the data by standardizing or normalizing the variables to make them comparable across different scales.\n",
    "- Feature Selection: Identify the most important features or variables that contribute the most to the overall variance in the dataset. This can be done using various feature selection techniques such as principal component analysis (PCA) or random forest regression."
   ]
  },
  {
   "cell_type": "code",
   "execution_count": 2,
   "id": "5bfb7c9a",
   "metadata": {
    "scrolled": true
   },
   "outputs": [
    {
     "data": {
      "text/html": [
       "<div>\n",
       "<style scoped>\n",
       "    .dataframe tbody tr th:only-of-type {\n",
       "        vertical-align: middle;\n",
       "    }\n",
       "\n",
       "    .dataframe tbody tr th {\n",
       "        vertical-align: top;\n",
       "    }\n",
       "\n",
       "    .dataframe thead th {\n",
       "        text-align: right;\n",
       "    }\n",
       "</style>\n",
       "<table border=\"1\" class=\"dataframe\">\n",
       "  <thead>\n",
       "    <tr style=\"text-align: right;\">\n",
       "      <th></th>\n",
       "      <th>Channel</th>\n",
       "      <th>Region</th>\n",
       "      <th>Fresh</th>\n",
       "      <th>Milk</th>\n",
       "      <th>Grocery</th>\n",
       "      <th>Frozen</th>\n",
       "      <th>Detergents_Paper</th>\n",
       "      <th>Delicassen</th>\n",
       "    </tr>\n",
       "  </thead>\n",
       "  <tbody>\n",
       "    <tr>\n",
       "      <th>0</th>\n",
       "      <td>2</td>\n",
       "      <td>3</td>\n",
       "      <td>12669</td>\n",
       "      <td>9656</td>\n",
       "      <td>7561</td>\n",
       "      <td>214</td>\n",
       "      <td>2674</td>\n",
       "      <td>1338</td>\n",
       "    </tr>\n",
       "    <tr>\n",
       "      <th>1</th>\n",
       "      <td>2</td>\n",
       "      <td>3</td>\n",
       "      <td>7057</td>\n",
       "      <td>9810</td>\n",
       "      <td>9568</td>\n",
       "      <td>1762</td>\n",
       "      <td>3293</td>\n",
       "      <td>1776</td>\n",
       "    </tr>\n",
       "    <tr>\n",
       "      <th>2</th>\n",
       "      <td>2</td>\n",
       "      <td>3</td>\n",
       "      <td>6353</td>\n",
       "      <td>8808</td>\n",
       "      <td>7684</td>\n",
       "      <td>2405</td>\n",
       "      <td>3516</td>\n",
       "      <td>7844</td>\n",
       "    </tr>\n",
       "    <tr>\n",
       "      <th>3</th>\n",
       "      <td>1</td>\n",
       "      <td>3</td>\n",
       "      <td>13265</td>\n",
       "      <td>1196</td>\n",
       "      <td>4221</td>\n",
       "      <td>6404</td>\n",
       "      <td>507</td>\n",
       "      <td>1788</td>\n",
       "    </tr>\n",
       "    <tr>\n",
       "      <th>4</th>\n",
       "      <td>2</td>\n",
       "      <td>3</td>\n",
       "      <td>22615</td>\n",
       "      <td>5410</td>\n",
       "      <td>7198</td>\n",
       "      <td>3915</td>\n",
       "      <td>1777</td>\n",
       "      <td>5185</td>\n",
       "    </tr>\n",
       "  </tbody>\n",
       "</table>\n",
       "</div>"
      ],
      "text/plain": [
       "   Channel  Region  Fresh  Milk  Grocery  Frozen  Detergents_Paper  Delicassen\n",
       "0        2       3  12669  9656     7561     214              2674        1338\n",
       "1        2       3   7057  9810     9568    1762              3293        1776\n",
       "2        2       3   6353  8808     7684    2405              3516        7844\n",
       "3        1       3  13265  1196     4221    6404               507        1788\n",
       "4        2       3  22615  5410     7198    3915              1777        5185"
      ]
     },
     "execution_count": 2,
     "metadata": {},
     "output_type": "execute_result"
    }
   ],
   "source": [
    "#import dataset\n",
    "data= pd.read_csv('Wholesale_Data.csv')\n",
    "data.head()"
   ]
  },
  {
   "cell_type": "markdown",
   "id": "7894fec9-8d3c-41aa-be33-6efe90bbbca9",
   "metadata": {},
   "source": [
    "##### this is from the kaggle dataset to get an idea of what are the categories in the columns of the data and get more information on that can help understand it better \n",
    "\n",
    "##### Channel - Horeca (Hotel/Restaurant/Cafe or Retail channel (Nominal)\n",
    "\n",
    "##### Regions - Lisnon, Oporto or Other (Nominal)\n",
    "\n",
    "###### It includes the annual spending in monetary units (m.u.) on diverse product categories\n",
    "###### deli is a shortened form, or common nickname, of delicatessen"
   ]
  },
  {
   "cell_type": "code",
   "execution_count": 3,
   "id": "5d9107dc-4797-47d8-9e8b-e7c3235c5bb8",
   "metadata": {},
   "outputs": [
    {
     "data": {
      "text/plain": [
       "(440, 8)"
      ]
     },
     "execution_count": 3,
     "metadata": {},
     "output_type": "execute_result"
    }
   ],
   "source": [
    "#check size od data\n",
    "data.shape"
   ]
  },
  {
   "cell_type": "code",
   "execution_count": 4,
   "id": "8acc1616-cb17-43dd-878e-efda72004ba1",
   "metadata": {
    "scrolled": true
   },
   "outputs": [
    {
     "data": {
      "text/html": [
       "<div>\n",
       "<style scoped>\n",
       "    .dataframe tbody tr th:only-of-type {\n",
       "        vertical-align: middle;\n",
       "    }\n",
       "\n",
       "    .dataframe tbody tr th {\n",
       "        vertical-align: top;\n",
       "    }\n",
       "\n",
       "    .dataframe thead th {\n",
       "        text-align: right;\n",
       "    }\n",
       "</style>\n",
       "<table border=\"1\" class=\"dataframe\">\n",
       "  <thead>\n",
       "    <tr style=\"text-align: right;\">\n",
       "      <th></th>\n",
       "      <th>Channel</th>\n",
       "      <th>Region</th>\n",
       "      <th>Fresh</th>\n",
       "      <th>Milk</th>\n",
       "      <th>Grocery</th>\n",
       "      <th>Frozen</th>\n",
       "      <th>Detergents_Paper</th>\n",
       "      <th>Delicassen</th>\n",
       "    </tr>\n",
       "  </thead>\n",
       "  <tbody>\n",
       "    <tr>\n",
       "      <th>count</th>\n",
       "      <td>440.000000</td>\n",
       "      <td>440.000000</td>\n",
       "      <td>440.000000</td>\n",
       "      <td>440.000000</td>\n",
       "      <td>440.000000</td>\n",
       "      <td>440.000000</td>\n",
       "      <td>440.000000</td>\n",
       "      <td>440.000000</td>\n",
       "    </tr>\n",
       "    <tr>\n",
       "      <th>mean</th>\n",
       "      <td>1.322727</td>\n",
       "      <td>2.543182</td>\n",
       "      <td>12000.297727</td>\n",
       "      <td>5796.265909</td>\n",
       "      <td>7951.277273</td>\n",
       "      <td>3071.931818</td>\n",
       "      <td>2881.493182</td>\n",
       "      <td>1524.870455</td>\n",
       "    </tr>\n",
       "    <tr>\n",
       "      <th>std</th>\n",
       "      <td>0.468052</td>\n",
       "      <td>0.774272</td>\n",
       "      <td>12647.328865</td>\n",
       "      <td>7380.377175</td>\n",
       "      <td>9503.162829</td>\n",
       "      <td>4854.673333</td>\n",
       "      <td>4767.854448</td>\n",
       "      <td>2820.105937</td>\n",
       "    </tr>\n",
       "    <tr>\n",
       "      <th>min</th>\n",
       "      <td>1.000000</td>\n",
       "      <td>1.000000</td>\n",
       "      <td>3.000000</td>\n",
       "      <td>55.000000</td>\n",
       "      <td>3.000000</td>\n",
       "      <td>25.000000</td>\n",
       "      <td>3.000000</td>\n",
       "      <td>3.000000</td>\n",
       "    </tr>\n",
       "    <tr>\n",
       "      <th>25%</th>\n",
       "      <td>1.000000</td>\n",
       "      <td>2.000000</td>\n",
       "      <td>3127.750000</td>\n",
       "      <td>1533.000000</td>\n",
       "      <td>2153.000000</td>\n",
       "      <td>742.250000</td>\n",
       "      <td>256.750000</td>\n",
       "      <td>408.250000</td>\n",
       "    </tr>\n",
       "    <tr>\n",
       "      <th>50%</th>\n",
       "      <td>1.000000</td>\n",
       "      <td>3.000000</td>\n",
       "      <td>8504.000000</td>\n",
       "      <td>3627.000000</td>\n",
       "      <td>4755.500000</td>\n",
       "      <td>1526.000000</td>\n",
       "      <td>816.500000</td>\n",
       "      <td>965.500000</td>\n",
       "    </tr>\n",
       "    <tr>\n",
       "      <th>75%</th>\n",
       "      <td>2.000000</td>\n",
       "      <td>3.000000</td>\n",
       "      <td>16933.750000</td>\n",
       "      <td>7190.250000</td>\n",
       "      <td>10655.750000</td>\n",
       "      <td>3554.250000</td>\n",
       "      <td>3922.000000</td>\n",
       "      <td>1820.250000</td>\n",
       "    </tr>\n",
       "    <tr>\n",
       "      <th>max</th>\n",
       "      <td>2.000000</td>\n",
       "      <td>3.000000</td>\n",
       "      <td>112151.000000</td>\n",
       "      <td>73498.000000</td>\n",
       "      <td>92780.000000</td>\n",
       "      <td>60869.000000</td>\n",
       "      <td>40827.000000</td>\n",
       "      <td>47943.000000</td>\n",
       "    </tr>\n",
       "  </tbody>\n",
       "</table>\n",
       "</div>"
      ],
      "text/plain": [
       "          Channel      Region          Fresh          Milk       Grocery  \\\n",
       "count  440.000000  440.000000     440.000000    440.000000    440.000000   \n",
       "mean     1.322727    2.543182   12000.297727   5796.265909   7951.277273   \n",
       "std      0.468052    0.774272   12647.328865   7380.377175   9503.162829   \n",
       "min      1.000000    1.000000       3.000000     55.000000      3.000000   \n",
       "25%      1.000000    2.000000    3127.750000   1533.000000   2153.000000   \n",
       "50%      1.000000    3.000000    8504.000000   3627.000000   4755.500000   \n",
       "75%      2.000000    3.000000   16933.750000   7190.250000  10655.750000   \n",
       "max      2.000000    3.000000  112151.000000  73498.000000  92780.000000   \n",
       "\n",
       "             Frozen  Detergents_Paper    Delicassen  \n",
       "count    440.000000        440.000000    440.000000  \n",
       "mean    3071.931818       2881.493182   1524.870455  \n",
       "std     4854.673333       4767.854448   2820.105937  \n",
       "min       25.000000          3.000000      3.000000  \n",
       "25%      742.250000        256.750000    408.250000  \n",
       "50%     1526.000000        816.500000    965.500000  \n",
       "75%     3554.250000       3922.000000   1820.250000  \n",
       "max    60869.000000      40827.000000  47943.000000  "
      ]
     },
     "execution_count": 4,
     "metadata": {},
     "output_type": "execute_result"
    }
   ],
   "source": [
    "#generate statistical summary\n",
    "data.describe()"
   ]
  },
  {
   "cell_type": "code",
   "execution_count": 5,
   "id": "3edcd419-e6e8-4ad4-baae-1b4268e2ec6b",
   "metadata": {
    "scrolled": true
   },
   "outputs": [
    {
     "data": {
      "text/plain": [
       "Channel             0\n",
       "Region              0\n",
       "Fresh               0\n",
       "Milk                0\n",
       "Grocery             0\n",
       "Frozen              0\n",
       "Detergents_Paper    0\n",
       "Delicassen          0\n",
       "dtype: int64"
      ]
     },
     "execution_count": 5,
     "metadata": {},
     "output_type": "execute_result"
    }
   ],
   "source": [
    "#check if any null values are present\n",
    "data.isna().sum()"
   ]
  },
  {
   "cell_type": "code",
   "execution_count": 6,
   "id": "c1069891-3ae3-4e0f-856f-20e2912745d1",
   "metadata": {
    "scrolled": true
   },
   "outputs": [
    {
     "data": {
      "text/plain": [
       "Channel             0\n",
       "Region              0\n",
       "Fresh               0\n",
       "Milk                0\n",
       "Grocery             0\n",
       "Frozen              0\n",
       "Detergents_Paper    0\n",
       "Delicassen          0\n",
       "dtype: int64"
      ]
     },
     "execution_count": 6,
     "metadata": {},
     "output_type": "execute_result"
    }
   ],
   "source": [
    "#check zero values\n",
    "(data==0).sum()"
   ]
  },
  {
   "cell_type": "code",
   "execution_count": 7,
   "id": "29e069d9-46c1-4557-9eb8-8312375e0cbb",
   "metadata": {},
   "outputs": [
    {
     "data": {
      "text/html": [
       "<div>\n",
       "<style scoped>\n",
       "    .dataframe tbody tr th:only-of-type {\n",
       "        vertical-align: middle;\n",
       "    }\n",
       "\n",
       "    .dataframe tbody tr th {\n",
       "        vertical-align: top;\n",
       "    }\n",
       "\n",
       "    .dataframe thead th {\n",
       "        text-align: right;\n",
       "    }\n",
       "</style>\n",
       "<table border=\"1\" class=\"dataframe\">\n",
       "  <thead>\n",
       "    <tr style=\"text-align: right;\">\n",
       "      <th></th>\n",
       "      <th>Channel</th>\n",
       "      <th>Region</th>\n",
       "      <th>Fresh</th>\n",
       "      <th>Milk</th>\n",
       "      <th>Grocery</th>\n",
       "      <th>Frozen</th>\n",
       "      <th>Detergents_Paper</th>\n",
       "      <th>Delicassen</th>\n",
       "    </tr>\n",
       "  </thead>\n",
       "  <tbody>\n",
       "    <tr>\n",
       "      <th>Channel</th>\n",
       "      <td>1.000000</td>\n",
       "      <td>0.062028</td>\n",
       "      <td>-0.169172</td>\n",
       "      <td>0.460720</td>\n",
       "      <td>0.608792</td>\n",
       "      <td>-0.202046</td>\n",
       "      <td>0.636026</td>\n",
       "      <td>0.056011</td>\n",
       "    </tr>\n",
       "    <tr>\n",
       "      <th>Region</th>\n",
       "      <td>0.062028</td>\n",
       "      <td>1.000000</td>\n",
       "      <td>0.055287</td>\n",
       "      <td>0.032288</td>\n",
       "      <td>0.007696</td>\n",
       "      <td>-0.021044</td>\n",
       "      <td>-0.001483</td>\n",
       "      <td>0.045212</td>\n",
       "    </tr>\n",
       "    <tr>\n",
       "      <th>Fresh</th>\n",
       "      <td>-0.169172</td>\n",
       "      <td>0.055287</td>\n",
       "      <td>1.000000</td>\n",
       "      <td>0.100510</td>\n",
       "      <td>-0.011854</td>\n",
       "      <td>0.345881</td>\n",
       "      <td>-0.101953</td>\n",
       "      <td>0.244690</td>\n",
       "    </tr>\n",
       "    <tr>\n",
       "      <th>Milk</th>\n",
       "      <td>0.460720</td>\n",
       "      <td>0.032288</td>\n",
       "      <td>0.100510</td>\n",
       "      <td>1.000000</td>\n",
       "      <td>0.728335</td>\n",
       "      <td>0.123994</td>\n",
       "      <td>0.661816</td>\n",
       "      <td>0.406368</td>\n",
       "    </tr>\n",
       "    <tr>\n",
       "      <th>Grocery</th>\n",
       "      <td>0.608792</td>\n",
       "      <td>0.007696</td>\n",
       "      <td>-0.011854</td>\n",
       "      <td>0.728335</td>\n",
       "      <td>1.000000</td>\n",
       "      <td>-0.040193</td>\n",
       "      <td>0.924641</td>\n",
       "      <td>0.205497</td>\n",
       "    </tr>\n",
       "    <tr>\n",
       "      <th>Frozen</th>\n",
       "      <td>-0.202046</td>\n",
       "      <td>-0.021044</td>\n",
       "      <td>0.345881</td>\n",
       "      <td>0.123994</td>\n",
       "      <td>-0.040193</td>\n",
       "      <td>1.000000</td>\n",
       "      <td>-0.131525</td>\n",
       "      <td>0.390947</td>\n",
       "    </tr>\n",
       "    <tr>\n",
       "      <th>Detergents_Paper</th>\n",
       "      <td>0.636026</td>\n",
       "      <td>-0.001483</td>\n",
       "      <td>-0.101953</td>\n",
       "      <td>0.661816</td>\n",
       "      <td>0.924641</td>\n",
       "      <td>-0.131525</td>\n",
       "      <td>1.000000</td>\n",
       "      <td>0.069291</td>\n",
       "    </tr>\n",
       "    <tr>\n",
       "      <th>Delicassen</th>\n",
       "      <td>0.056011</td>\n",
       "      <td>0.045212</td>\n",
       "      <td>0.244690</td>\n",
       "      <td>0.406368</td>\n",
       "      <td>0.205497</td>\n",
       "      <td>0.390947</td>\n",
       "      <td>0.069291</td>\n",
       "      <td>1.000000</td>\n",
       "    </tr>\n",
       "  </tbody>\n",
       "</table>\n",
       "</div>"
      ],
      "text/plain": [
       "                   Channel    Region     Fresh      Milk   Grocery    Frozen  \\\n",
       "Channel           1.000000  0.062028 -0.169172  0.460720  0.608792 -0.202046   \n",
       "Region            0.062028  1.000000  0.055287  0.032288  0.007696 -0.021044   \n",
       "Fresh            -0.169172  0.055287  1.000000  0.100510 -0.011854  0.345881   \n",
       "Milk              0.460720  0.032288  0.100510  1.000000  0.728335  0.123994   \n",
       "Grocery           0.608792  0.007696 -0.011854  0.728335  1.000000 -0.040193   \n",
       "Frozen           -0.202046 -0.021044  0.345881  0.123994 -0.040193  1.000000   \n",
       "Detergents_Paper  0.636026 -0.001483 -0.101953  0.661816  0.924641 -0.131525   \n",
       "Delicassen        0.056011  0.045212  0.244690  0.406368  0.205497  0.390947   \n",
       "\n",
       "                  Detergents_Paper  Delicassen  \n",
       "Channel                   0.636026    0.056011  \n",
       "Region                   -0.001483    0.045212  \n",
       "Fresh                    -0.101953    0.244690  \n",
       "Milk                      0.661816    0.406368  \n",
       "Grocery                   0.924641    0.205497  \n",
       "Frozen                   -0.131525    0.390947  \n",
       "Detergents_Paper          1.000000    0.069291  \n",
       "Delicassen                0.069291    1.000000  "
      ]
     },
     "execution_count": 7,
     "metadata": {},
     "output_type": "execute_result"
    }
   ],
   "source": [
    "#to check for correlation between columns\n",
    "data.corr()"
   ]
  },
  {
   "cell_type": "markdown",
   "id": "70ba5498-de2b-497e-ab11-8fd47e97c25a",
   "metadata": {},
   "source": [
    "#### From the above we can conclude that there are some columns that have a higher relation with other columns highest one being the relation between grocery and detergents_paper, which is very close to 1. lets look at a visual correlation map below"
   ]
  },
  {
   "cell_type": "markdown",
   "id": "1c064ca9-43f0-447a-a76d-e14331e75bb2",
   "metadata": {},
   "source": [
    "#### Since Channel and Region are mostly catergorical data encoded as numeric we can cahnge its data type to string  drop those columns for heat map so that we can concentrate only on numerical columns"
   ]
  },
  {
   "cell_type": "code",
   "execution_count": 8,
   "id": "a09ac407-cdea-42e7-9697-30cdb48dcedc",
   "metadata": {},
   "outputs": [
    {
     "data": {
      "text/plain": [
       "Channel             object\n",
       "Region              object\n",
       "Fresh                int64\n",
       "Milk                 int64\n",
       "Grocery              int64\n",
       "Frozen               int64\n",
       "Detergents_Paper     int64\n",
       "Delicassen           int64\n",
       "dtype: object"
      ]
     },
     "execution_count": 8,
     "metadata": {},
     "output_type": "execute_result"
    }
   ],
   "source": [
    "columns_to_convert = ['Channel','Region']\n",
    "data[columns_to_convert]=data[columns_to_convert].astype(str)\n",
    "#verify the change\n",
    "data.dtypes"
   ]
  },
  {
   "cell_type": "code",
   "execution_count": 9,
   "id": "59722e44-70f8-4aea-991e-ac606e3c52df",
   "metadata": {
    "scrolled": true
   },
   "outputs": [
    {
     "data": {
      "image/png": "[encoded data removed]",
      "text/plain": [
       "<Figure size 1000x1000 with 2 Axes>"
      ]
     },
     "metadata": {},
     "output_type": "display_data"
    }
   ],
   "source": [
    "#create new data for heat map with only numeric features\n",
    "numeric_data=data.select_dtypes(include='number')\n",
    "corr=numeric_data.corr()\n",
    "\n",
    "#plot heat map\n",
    "plt.figure(figsize=(10,10))\n",
    "sns.heatmap(corr, cmap='coolwarm',linewidth=0.8)\n",
    "\n",
    "# Add annotations for all squares\n",
    "for i in range(len(corr)):\n",
    "    for j in range(len(corr.columns)):\n",
    "        plt.text(j+0.5, i+0.5, f\"{corr.iloc[i, j]:.2f}\", ha='center', va='center', fontsize=8) \n",
    "\n",
    "plt.title('Correlation heat map')\n",
    "plt.show()\n",
    "\n"
   ]
  },
  {
   "cell_type": "code",
   "execution_count": 10,
   "id": "5852d52c-0d6e-402a-a159-8b659ca27325",
   "metadata": {
    "scrolled": true
   },
   "outputs": [
    {
     "data": {
      "image/png": "[encoded data removed]",
      "text/plain": [
       "<Figure size 800x600 with 1 Axes>"
      ]
     },
     "metadata": {},
     "output_type": "display_data"
    }
   ],
   "source": [
    "# check for outliers\n",
    "#plot whisker plot to give an idea on outliers\n",
    "\n",
    "plt.figure(figsize=(8, 6))\n",
    "sns.boxplot(data=data)\n",
    "plt.title('Whisker Plots for Data')\n",
    "plt.show()"
   ]
  },
  {
   "cell_type": "markdown",
   "id": "5cb9cf56-9dc4-42ca-8c70-4362d14989d5",
   "metadata": {},
   "source": [
    "##### From the above visualization we can see that almost all of the columns have some drastic values for the spendings in each of the product categories.At this time I am using the technique of capping to convert the extreme outliers to its next highest value in the data column in an effort to offset the effect but at the same time not reduce the data points as this is a small data set to begin with"
   ]
  },
  {
   "cell_type": "code",
   "execution_count": 11,
   "id": "c7fc4e09-095d-4a8c-983b-f7944a6763ac",
   "metadata": {},
   "outputs": [],
   "source": [
    "upper_limits = {'Fresh': 75000, 'Milk': 57000, 'Grocery': 70000, \n",
    "                'Frozen': 35000, 'Detergents_Paper': 40000, 'Delicassen': 20000}\n",
    "\n",
    "# Perform capping for each column\n",
    "for column, limit in upper_limits.items():\n",
    "    data[column] = data[column].apply(lambda x: min(x, limit) if x > limit else x)# only change values if it is an outlier past the upperlimits specified"
   ]
  },
  {
   "cell_type": "code",
   "execution_count": 12,
   "id": "bf699dc2-5670-4d1d-b8fd-dbd0295c5c49",
   "metadata": {},
   "outputs": [],
   "source": [
    "# Save the capped dataset to a new CSV file\n",
    "#data.to_csv('wholesale_capped.csv', index=False)"
   ]
  },
  {
   "cell_type": "code",
   "execution_count": null,
   "id": "7fe5db94-bc23-404e-9302-bb842bd395b9",
   "metadata": {
    "collapsed": true,
    "jupyter": {
     "outputs_hidden": true
    },
    "scrolled": true
   },
   "outputs": [],
   "source": []
  },
  {
   "cell_type": "markdown",
   "id": "fd472b2a",
   "metadata": {},
   "source": [
    "# Part II - KMeans Clustering"
   ]
  },
  {
   "cell_type": "markdown",
   "id": "54982ce3",
   "metadata": {},
   "source": [
    "The objective of the analysis is to group similar products together into clusters based on their attributes such as fresh, milk, grocery, frozen, detergents_paper, and delicatessen. To perform the k-means clustering analysis, you will need to pre-process the dataset, determine the optimal number of clusters, initialize the centroids, assign data points to clusters, update the centroids, and repeat until convergence."
   ]
  },
  {
   "cell_type": "code",
   "execution_count": 13,
   "id": "f12b45dc-f90a-482c-9367-9dd55a1e5e4e",
   "metadata": {},
   "outputs": [],
   "source": [
    "df_columns=data.iloc[:,-6:]\n",
    "X=df_columns\n",
    "#standardize columns\n",
    "scalar=StandardScaler()\n",
    "X_scaled=scalar.fit_transform(X)"
   ]
  },
  {
   "cell_type": "code",
   "execution_count": 25,
   "id": "ed6d0978-67de-4f23-9de7-91aac01922a9",
   "metadata": {
    "scrolled": true
   },
   "outputs": [
    {
     "data": {
      "image/png": "[encoded data removed]",
      "text/plain": [
       "<Figure size 640x480 with 1 Axes>"
      ]
     },
     "metadata": {},
     "output_type": "display_data"
    }
   ],
   "source": [
    "#elbow rule \n",
    "\n",
    "distortion=[]\n",
    "for i in range(1, 10):  # Checking for 1 to 10 clusters\n",
    "        kmeans = KMeans(n_clusters=i, init='k-means++', random_state=42)\n",
    "        kmeans.fit(X_scaled)\n",
    "        distortion.append(kmeans.inertia_)\n",
    "    \n",
    "plt.plot(range(1, 10), distortion)\n",
    "plt.title('Elbow Method')\n",
    "plt.xlabel('Number of clusters')\n",
    "plt.ylabel('Distortion')\n",
    "warnings.filterwarnings('ignore') # to igonore warnings generated\n",
    "plt.show()"
   ]
  },
  {
   "cell_type": "markdown",
   "id": "121bb9a7-2181-4186-9418-bf29ef0d66f1",
   "metadata": {},
   "source": [
    "#### From the above visualization we can see that either 3 or 5 for the number of clusters could be a optimal option but as we cannot find anything definative we can verify with the silhouette score to get the right result"
   ]
  },
  {
   "cell_type": "code",
   "execution_count": 15,
   "id": "4fe55289",
   "metadata": {},
   "outputs": [
    {
     "data": {
      "image/png": "[encoded data removed]",
      "text/plain": [
       "<Figure size 640x480 with 1 Axes>"
      ]
     },
     "metadata": {},
     "output_type": "display_data"
    }
   ],
   "source": [
    "#sillhoute score to verify the number of clusters \n",
    "#highest score displays the best option for the  number of clusters\n",
    "scores = []\n",
    "for i in range(2, 10):  # silhouette score isn't defined for a single cluster\n",
    "        kmeans = KMeans(n_clusters=i, random_state=42)\n",
    "        kmeans.fit(X_scaled)\n",
    "        score = silhouette_score(X_scaled, kmeans.labels_)\n",
    "        scores.append(score)\n",
    "    \n",
    "plt.plot(range(2, 10), scores)\n",
    "plt.title('Silhouette Score')\n",
    "plt.xlabel('Number of clusters')\n",
    "plt.ylabel('Score')\n",
    "warnings.filterwarnings('ignore') # to igonore warnings generated\n",
    "plt.show()\n"
   ]
  },
  {
   "cell_type": "markdown",
   "id": "875e0611-cd3d-44ca-b399-61d9c4641f2a",
   "metadata": {},
   "source": [
    "#### The highest silhouette score can be seen for 3 clusters thus verifying our result from the elbow rule. 3 clusters should be able to give us a good model"
   ]
  },
  {
   "cell_type": "markdown",
   "id": "a8d84e82-9ff9-4ce2-a989-27fd43ba820c",
   "metadata": {},
   "source": [
    "#### As the data set only consists of 440 rows, I am using cross validation and tuning it to silhouette score to improve the model.performing multiple splits will help with the consistency of the resulting clusters"
   ]
  },
  {
   "cell_type": "code",
   "execution_count": 16,
   "id": "60612b4b-8f5b-46bc-83fe-a98002f92775",
   "metadata": {
    "scrolled": true
   },
   "outputs": [],
   "source": [
    "#fit the model with 3 clusters\n",
    "\n",
    "km = KMeans(n_clusters=3, # how many clusters we expected \n",
    "            n_init=10, # how many initial runs\n",
    "            random_state=0)\n",
    "\n",
    "# fit and predict\n",
    "y_km = km.fit_predict(X_scaled)\n"
   ]
  },
  {
   "cell_type": "code",
   "execution_count": 17,
   "id": "33894d00-e981-452a-b88b-3e17451b2587",
   "metadata": {},
   "outputs": [
    {
     "data": {
      "text/plain": [
       "(440,)"
      ]
     },
     "execution_count": 17,
     "metadata": {},
     "output_type": "execute_result"
    }
   ],
   "source": [
    "y_km.shape # gives you which cluster each row of the column belongs to "
   ]
  },
  {
   "cell_type": "code",
   "execution_count": 18,
   "id": "fd2f08d5-04fd-4357-bce4-105e64540bbf",
   "metadata": {},
   "outputs": [
    {
     "name": "stdout",
     "output_type": "stream",
     "text": [
      "0.4774765193605236\n"
     ]
    }
   ],
   "source": [
    "avg_silhouette_score=silhouette_score(X_scaled, y_km)\n",
    "print(avg_silhouette_score)"
   ]
  },
  {
   "cell_type": "markdown",
   "id": "44f48cda",
   "metadata": {},
   "source": [
    "# Part III - Hierarchical Clustering "
   ]
  },
  {
   "cell_type": "markdown",
   "id": "18ba2210",
   "metadata": {},
   "source": [
    "Hierarchical clustering is a popular unsupervised machine learning algorithm that is used to identify patterns and group similar data points together in a hierarchy. The algorithm works by iteratively merging or splitting clusters based on a similarity measure until a dendrogram is formed.\n",
    "\n",
    "To perform hierarchical clustering analysis, you will need to pre-process the dataset, determine the optimal number of clusters using techniques such as dendrogram."
   ]
  },
  {
   "cell_type": "code",
   "execution_count": 19,
   "id": "2b2a4ff1",
   "metadata": {},
   "outputs": [
    {
     "data": {
      "image/png": "[encoded data removed]",
      "text/plain": [
       "<Figure size 640x480 with 1 Axes>"
      ]
     },
     "metadata": {},
     "output_type": "display_data"
    }
   ],
   "source": [
    "# plot_dendrogram function to find the number of clusters\n",
    "\n",
    "dendrogram = sch.dendrogram(sch.linkage(X_scaled, method='ward'))\n",
    "plt.title(\"Dendrogram\")\n",
    "plt.ylabel(\"Euclidean distances\")\n",
    "plt.xlabel('Points')\n",
    "plt.show()"
   ]
  },
  {
   "cell_type": "markdown",
   "id": "fad618b1-bb46-452b-9047-116ef5edb579",
   "metadata": {},
   "source": [
    "#### From the above dendogram we can see that the optimal number of clusters is 4 we can use this to perform agglomerative clustering"
   ]
  },
  {
   "cell_type": "code",
   "execution_count": 20,
   "id": "622069d6-a70e-4827-88cd-9d0dd932382b",
   "metadata": {},
   "outputs": [],
   "source": [
    "# create an object\n",
    "ac = AgglomerativeClustering(metric='euclidean',\n",
    "                             linkage='ward',\n",
    "                             n_clusters = 4)\n",
    "y_hc = ac.fit_predict(X_scaled)"
   ]
  },
  {
   "cell_type": "code",
   "execution_count": 21,
   "id": "4b8b5a04-21a2-4ea6-bec8-47eee5772e4f",
   "metadata": {},
   "outputs": [
    {
     "name": "stdout",
     "output_type": "stream",
     "text": [
      "0.3036793812205607\n"
     ]
    }
   ],
   "source": [
    "avg_silhouette_score_hc=silhouette_score(X_scaled, y_hc)\n",
    "print(avg_silhouette_score_hc)"
   ]
  },
  {
   "cell_type": "markdown",
   "id": "dd516495",
   "metadata": {},
   "source": [
    "# Part IV - PCA"
   ]
  },
  {
   "cell_type": "markdown",
   "id": "0a7cf638",
   "metadata": {},
   "source": [
    "In this section you are going to perform principal component analysis (PCA) to draw conclusions about the underlying structure of the wholesale customer data. Since using PCA on a dataset calculates the dimensions which best maximize variance, we will find which compound combinations of features best describe customers."
   ]
  },
  {
   "cell_type": "code",
   "execution_count": 32,
   "id": "7579251f-6b94-4f7e-9b0c-07827f0612a1",
   "metadata": {},
   "outputs": [],
   "source": [
    "pca = PCA(n_components=None)\n",
    "pca1=pca.fit(X_scaled) #object pca to access its attributes\n",
    "X_pca = pca.fit_transform(X_scaled)"
   ]
  },
  {
   "cell_type": "code",
   "execution_count": 33,
   "id": "207a6679-ddfc-4b18-9e92-a5940d4266ec",
   "metadata": {
    "scrolled": true
   },
   "outputs": [
    {
     "data": {
      "image/png": "[encoded data removed]",
      "text/plain": [
       "<Figure size 1000x600 with 1 Axes>"
      ]
     },
     "metadata": {},
     "output_type": "display_data"
    }
   ],
   "source": [
    "plt.figure(figsize=(10,6))\n",
    "plt.scatter(x=[i+1 for i in range(len(pca1.explained_variance_ratio_))],\n",
    "            y=pca1.explained_variance_ratio_,\n",
    "           s=200, alpha=0.75,c='orange',edgecolor='k')\n",
    "plt.grid(True)\n",
    "plt.title(\"Explained variance ratio of the \\nfitted principal component vector\\n\",fontsize=25)\n",
    "plt.xlabel(\"Principal components\",fontsize=15)\n",
    "plt.xticks([i+1 for i in range(len(pca1.explained_variance_ratio_))],fontsize=15)\n",
    "plt.yticks(fontsize=15)\n",
    "plt.ylabel(\"Explained variance ratio\",fontsize=15)\n",
    "plt.show()"
   ]
  },
  {
   "cell_type": "markdown",
   "id": "c9815e7d-9cee-4416-aa62-9773156112f9",
   "metadata": {},
   "source": [
    "#### We can see that PC1 and PC2 best caputures variance of almost 70% after dimentionality reduction but fort he purpose of this assignement I have plotted for 2 and 3 components to visualize the clustering pattern. "
   ]
  },
  {
   "cell_type": "code",
   "execution_count": 36,
   "id": "ecfd148a",
   "metadata": {
    "scrolled": true
   },
   "outputs": [
    {
     "data": {
      "application/vnd.plotly.v1+json": {
       "config": {
        "plotlyServerURL": "https://plot.ly"
       },
       "data": [
        {
         "marker": {
          "color": [
           0.21278510652491447,
           0.48241030711809463,
           1.1899629628593462,
           -0.7696575078261174,
           0.382605270275111,
           -0.13844260891178026,
           -0.3819996015619827,
           0.21732476907591303,
           -0.5494921993916607,
           1.677528153760346,
           0.6731484658768223,
           -0.9862718483205427,
           1.1111592589193853,
           0.8244478547132407,
           0.9141477906878416,
           -1.015568707981104,
           0.570275265330184,
           -0.17448760250257478,
           0.43117983215809413,
           -0.3679026254272859,
           -0.2802131900602395,
           -1.178966939763866,
           -0.03198786956864258,
           5.657726750124446,
           1.5194949471978851,
           -0.22541966249102832,
           -1.0838631015262268,
           -1.1580455788735442,
           3.4243439917358485,
           -0.8289534514944923,
           0.17256480313094386,
           -0.7522072532096344,
           -1.0304586265553137,
           -0.365552313316896,
           -1.1321431198513225,
           0.13137238695213266,
           0.007240389128217405,
           0.9636428277175829,
           1.5885339367245963,
           -0.7290418911134848,
           0.23009193044822357,
           -0.15835499822700017,
           0.8074702924433225,
           1.928059899588083,
           0.2257529047676061,
           3.099487322564913,
           1.9317511554993527,
           10.043674144393618,
           0.45031054416633626,
           3.676181795220091,
           -0.9005487371699369,
           -0.5626721148929142,
           -0.26250469483211,
           0.6671027118781876,
           -0.9880974901098415,
           -0.5280950795755458,
           4.703244442337125,
           0.9438009582546544,
           -1.1543417328771595,
           -0.024497741838743183,
           -0.29064982372583487,
           8.650205150034576,
           0.014190930677143436,
           1.4608787237645975,
           -0.8901334620698061,
           5.926946127104616,
           -0.560961661765481,
           0.6039617311816788,
           -0.1361165139477634,
           -1.119975792712253,
           -0.8225996276836842,
           2.5502442452516436,
           -0.7075019743332916,
           -0.264259290241372,
           0.07075112324657018,
           -1.212269579685743,
           -0.5944693962544036,
           2.7962040913471005,
           -1.2143661029205721,
           -0.6776087085142811,
           -1.122253351979364,
           1.0127859860095816,
           0.6388208623004509,
           -1.052723741414198,
           -0.48472308374366363,
           11.473490959355724,
           7.369051046132587,
           1.7981426784928065,
           -1.1059811804557185,
           -0.2938804986300667,
           -1.2704764292291006,
           -0.8183248471433934,
           5.544615828343832,
           -0.4065326337204948,
           0.7371476221129397,
           -0.7963225373396312,
           -0.35995822192658244,
           -1.4662152961479942,
           -1.454865015890932,
           -1.1031117181408165,
           1.237954711062776,
           1.3676883670823285,
           0.18891700231358163,
           0.16615067957616073,
           -0.8600306540773548,
           -0.9466468930434162,
           0.6635803657561324,
           1.4927193632113056,
           0.010254812770999667,
           1.6794938139759599,
           -0.9981759434771418,
           1.4199562115615874,
           -0.5871957418329423,
           -0.893436377139253,
           -1.060856086518744,
           -1.1173709451602198,
           -1.0246489643883285,
           -0.6677169944638942,
           -0.9566489786043566,
           -1.0462224411021506,
           -0.9788388440978167,
           -1.101726341846232,
           -1.332578285764167,
           0.140624781142696,
           -0.7834227844042371,
           -0.2124808494264644,
           -1.0518559884926229,
           0.4293424293754399,
           -0.5020913732831954,
           -0.9220759892288086,
           -1.0568027205657964,
           -1.420501277641222,
           -1.026371670710934,
           -1.2697164274691704,
           -1.1528236562615408,
           -1.1843067060181818,
           0.11680243363236494,
           -0.2989045429941312,
           -0.35810354326371546,
           -0.7220377636161739,
           -0.1925974545323216,
           0.11454596705349662,
           -0.3265222754970888,
           -1.1499441443529694,
           -0.9910035322977784,
           3.4387621749110897,
           -1.1447533123067708,
           -0.8768143671605549,
           -1.3161730379218772,
           -1.0047136748816494,
           -1.0634200672130785,
           -0.8702750979754525,
           -1.0891085826319995,
           -0.39878364552969686,
           -1.530837012930707,
           2.141808996899132,
           1.0339970418606963,
           -1.0450375830780378,
           0.2819884405340954,
           0.9412159658085757,
           0.3713508846974401,
           -1.1167571479059202,
           -0.9632692882665148,
           3.0288038262294235,
           0.07368924845651668,
           1.926106894593596,
           0.6641252721586979,
           -0.7913868063608358,
           -1.3382283160857187,
           -1.2004667697435472,
           0.8255566524999299,
           3.602663727039627,
           -0.2817393408022606,
           1.5285057062205831,
           -0.8733527739911219,
           0.5366633526295361,
           -0.1754190454914904,
           -0.25828456760991597,
           -0.5741258092323172,
           -0.6171633127280147,
           0.0814117289400062,
           4.076901161103388,
           0.5889642806587047,
           6.479024067495813,
           -1.138518845200733,
           -0.8904007403010499,
           -1.1981773001385212,
           0.15165808425439417,
           0.6678170595948446,
           0.8029421773380382,
           -0.7940487223207536,
           -1.3695376218226616,
           -1.1905306860905622,
           0.7483190880676945,
           -1.0470694500124917,
           -0.4006960555226798,
           0.09695787072001932,
           0.3764410825369449,
           -0.7118419826003379,
           -1.1077872056056897,
           2.2205377986321517,
           3.0339834661779617,
           1.0856078430993428,
           -1.2379314655527676,
           -0.9377227189627696,
           2.015132502935967,
           -1.3256615302165862,
           -0.13950053248967223,
           -0.36666945060358747,
           2.046541867777943,
           -0.9076181685265229,
           5.8502901120364825,
           -1.0212963673345459,
           0.04327059814780918,
           0.483038975866377,
           1.2928948348660267,
           3.6585341530411606,
           -1.0419440278276142,
           1.4677518684343014,
           -1.3680997211657755,
           -1.2135389769294556,
           0.22931481458496936,
           -1.1098037193039265,
           -0.6717059513903711,
           -1.2692450825745323,
           -0.7892951218023356,
           0.08913371087238695,
           -1.1155164037894816,
           -0.8814074728181335,
           -0.8644776032589034,
           -0.19933229283082324,
           -0.21359423926926163,
           -0.9276768487609819,
           -0.8950907946332582,
           -0.6006102767345785,
           -0.679821882098253,
           -1.1630602961825824,
           -0.9326780793921916,
           -1.4013451387606644,
           -0.4913721770645635,
           -0.23812595340547707,
           -0.9548849037245,
           -1.0691484671519105,
           -0.37132191698140354,
           0.40717452028751405,
           1.2352782242651796,
           -1.066729702081609,
           -1.3276506380137796,
           -0.7881795333496175,
           -0.8915929247302169,
           -1.1252293094427397,
           5.296232190231089,
           -0.7423375630163218,
           0.4770189751883545,
           0.8611994004210792,
           -1.1832587012500282,
           -0.6928535773360461,
           -0.6538926833639342,
           -0.2608350864786281,
           -0.2768309230301648,
           -0.8356931982851912,
           -1.2555160802902716,
           -1.1102493628098558,
           -0.6023859061522071,
           1.040558571963709,
           1.8659892771465387,
           1.5545305517954764,
           -0.5798239411213282,
           1.200898599889183,
           -1.3165770528482448,
           -1.308262761875447,
           -0.8062917265299439,
           -0.3057475563101041,
           -0.7693483442764566,
           -1.038196902901771,
           -1.3341848439329085,
           -0.2580059188020322,
           -1.1572267633682018,
           -0.8809613675335664,
           0.26966084437106785,
           -0.9742622279935715,
           0.007281211704841481,
           -0.43983933988637364,
           -0.7257256909228746,
           0.32378271927205265,
           -1.0816365551382103,
           -1.1004041705019605,
           -0.8856675389006163,
           -1.273117688222214,
           -1.3407586762558075,
           -0.8723421032777843,
           -0.9173897158847097,
           -0.7439703127337864,
           0.9008231012419322,
           -0.5435001987264694,
           -0.755354512781342,
           -0.9173035324464055,
           -0.32151283034824346,
           0.12930814866736,
           -1.2761253455883985,
           -0.013382911740195283,
           1.8222463522945407,
           0.2810530040455989,
           0.7775054802358718,
           2.287373091620242,
           0.4917775260741224,
           1.9274425773524593,
           -0.9465288989199875,
           -1.1297330101883478,
           1.812847880397723,
           -0.9417579094267624,
           -0.6624175423567503,
           1.939665977218959,
           -1.1871676079240618,
           -0.6033428012252358,
           1.3190332551638517,
           -1.092601734438597,
           -0.5813480985598971,
           -0.9687337640167305,
           3.1865707233768243,
           -0.9574312451345419,
           -0.8338133446214868,
           -0.9972264446225554,
           -0.4178008407560719,
           -0.8376733524778415,
           2.003390927783869,
           -1.1216307730016606,
           -1.2829409286904943,
           -0.7889553749053937,
           -0.9155550087990882,
           -0.8510083890881661,
           2.5944033703199794,
           -0.7217707998144359,
           7.630055249967244,
           -0.5975174783465855,
           0.5340875930759684,
           -1.1686062781554505,
           -0.9950009226471175,
           -0.8459475978764804,
           -0.6730829400374456,
           0.4031013800319905,
           0.5193400989147855,
           -0.011847755910280722,
           2.437258347241566,
           -1.2359403664788235,
           -0.3322278773202051,
           0.9155215302543473,
           0.5706011850278536,
           -0.9823464837181615,
           2.3699327312088148,
           -1.1457557548250399,
           2.5460029582877994,
           -1.3179157814339286,
           1.425490148095317,
           -0.2221336661804461,
           -1.322943301508907,
           -1.3417085564676008,
           0.7431897030945129,
           0.7079645628580046,
           -0.8182145124436373,
           -0.9867296482126322,
           -1.343809694339186,
           -1.1348230465522136,
           -0.9772910988725313,
           -1.239823278453448,
           0.4229470508642529,
           -1.1410280258811492,
           -1.3425999804655064,
           -1.1215805484276522,
           -1.4016498150368977,
           -0.4107655564820538,
           -0.9419568606660662,
           -0.38994570323209465,
           0.13037342170479757,
           -1.1003011923675774,
           -1.274657508752814,
           0.7767358497296105,
           -0.8151959333546382,
           -0.9931676099781273,
           -0.3612149104228298,
           -1.105525609067716,
           -0.8349354756695502,
           0.30524460076971915,
           -1.083212427481263,
           1.9481129808786508,
           -1.1375667464534525,
           -0.8866262645458889,
           -1.051244698539848,
           -1.2803813129094628,
           -1.157108816640224,
           -1.1297674565270335,
           -0.8981599994163213,
           -0.8826070174856425,
           -0.46647728505129227,
           -1.1442760716211093,
           -1.1708139917485219,
           0.7094909280365562,
           -1.112312366101321,
           -1.2993692488328188,
           -1.2913817071707452,
           -1.1878909480645412,
           -0.6987551863735153,
           -0.7240671112305093,
           -0.2137788259953035,
           -0.6689195236215819,
           -1.2301255519329974,
           -0.4072329345385495,
           1.6501556362492007,
           -0.441984296304783,
           0.14955606933044852,
           -0.5795694910231926,
           -0.41014317015396423,
           -0.13847791290979075,
           -0.11030938702601208,
           -0.9338994336195834,
           0.1722705305177824,
           0.9149165804402482,
           0.1435525300448749,
           1.1655746237517841,
           -0.6832137505694996,
           0.6845792869997045,
           0.107172160195723,
           -0.8034393867457064,
           -0.6026230104809747,
           -0.08901459755046978,
           -0.7298485223940508,
           0.9998857765574709,
           0.5428195425974655,
           -0.604622341938504,
           -0.7895464967987733,
           0.1621991677120706,
           -0.2671180142444157,
           -0.8807471442553149,
           -0.9355083978671107,
           -0.2905659641177966,
           0.9534813935838378,
           -0.8730612563971266,
           3.565120502616256,
           -0.8866315772991559,
           -1.1876544456620448
          ],
          "colorscale": [
           [
            0,
            "#30123b"
           ],
           [
            0.07142857142857142,
            "#4145ab"
           ],
           [
            0.14285714285714285,
            "#4675ed"
           ],
           [
            0.21428571428571427,
            "#39a2fc"
           ],
           [
            0.2857142857142857,
            "#1bcfd4"
           ],
           [
            0.35714285714285715,
            "#24eca6"
           ],
           [
            0.42857142857142855,
            "#61fc6c"
           ],
           [
            0.5,
            "#a4fc3b"
           ],
           [
            0.5714285714285714,
            "#d1e834"
           ],
           [
            0.6428571428571429,
            "#f3c63a"
           ],
           [
            0.7142857142857143,
            "#fe9b2d"
           ],
           [
            0.7857142857142857,
            "#f36315"
           ],
           [
            0.8571428571428571,
            "#d93806"
           ],
           [
            0.9285714285714286,
            "#b11901"
           ],
           [
            1,
            "#7a0402"
           ]
          ],
          "opacity": 0.8,
          "size": 8
         },
         "mode": "markers",
         "type": "scatter3d",
         "x": [
          0.21278510652491447,
          0.48241030711809463,
          1.1899629628593462,
          -0.7696575078261174,
          0.382605270275111,
          -0.13844260891178026,
          -0.3819996015619827,
          0.21732476907591303,
          -0.5494921993916607,
          1.677528153760346,
          0.6731484658768223,
          -0.9862718483205427,
          1.1111592589193853,
          0.8244478547132407,
          0.9141477906878416,
          -1.015568707981104,
          0.570275265330184,
          -0.17448760250257478,
          0.43117983215809413,
          -0.3679026254272859,
          -0.2802131900602395,
          -1.178966939763866,
          -0.03198786956864258,
          5.657726750124446,
          1.5194949471978851,
          -0.22541966249102832,
          -1.0838631015262268,
          -1.1580455788735442,
          3.4243439917358485,
          -0.8289534514944923,
          0.17256480313094386,
          -0.7522072532096344,
          -1.0304586265553137,
          -0.365552313316896,
          -1.1321431198513225,
          0.13137238695213266,
          0.007240389128217405,
          0.9636428277175829,
          1.5885339367245963,
          -0.7290418911134848,
          0.23009193044822357,
          -0.15835499822700017,
          0.8074702924433225,
          1.928059899588083,
          0.2257529047676061,
          3.099487322564913,
          1.9317511554993527,
          10.043674144393618,
          0.45031054416633626,
          3.676181795220091,
          -0.9005487371699369,
          -0.5626721148929142,
          -0.26250469483211,
          0.6671027118781876,
          -0.9880974901098415,
          -0.5280950795755458,
          4.703244442337125,
          0.9438009582546544,
          -1.1543417328771595,
          -0.024497741838743183,
          -0.29064982372583487,
          8.650205150034576,
          0.014190930677143436,
          1.4608787237645975,
          -0.8901334620698061,
          5.926946127104616,
          -0.560961661765481,
          0.6039617311816788,
          -0.1361165139477634,
          -1.119975792712253,
          -0.8225996276836842,
          2.5502442452516436,
          -0.7075019743332916,
          -0.264259290241372,
          0.07075112324657018,
          -1.212269579685743,
          -0.5944693962544036,
          2.7962040913471005,
          -1.2143661029205721,
          -0.6776087085142811,
          -1.122253351979364,
          1.0127859860095816,
          0.6388208623004509,
          -1.052723741414198,
          -0.48472308374366363,
          11.473490959355724,
          7.369051046132587,
          1.7981426784928065,
          -1.1059811804557185,
          -0.2938804986300667,
          -1.2704764292291006,
          -0.8183248471433934,
          5.544615828343832,
          -0.4065326337204948,
          0.7371476221129397,
          -0.7963225373396312,
          -0.35995822192658244,
          -1.4662152961479942,
          -1.454865015890932,
          -1.1031117181408165,
          1.237954711062776,
          1.3676883670823285,
          0.18891700231358163,
          0.16615067957616073,
          -0.8600306540773548,
          -0.9466468930434162,
          0.6635803657561324,
          1.4927193632113056,
          0.010254812770999667,
          1.6794938139759599,
          -0.9981759434771418,
          1.4199562115615874,
          -0.5871957418329423,
          -0.893436377139253,
          -1.060856086518744,
          -1.1173709451602198,
          -1.0246489643883285,
          -0.6677169944638942,
          -0.9566489786043566,
          -1.0462224411021506,
          -0.9788388440978167,
          -1.101726341846232,
          -1.332578285764167,
          0.140624781142696,
          -0.7834227844042371,
          -0.2124808494264644,
          -1.0518559884926229,
          0.4293424293754399,
          -0.5020913732831954,
          -0.9220759892288086,
          -1.0568027205657964,
          -1.420501277641222,
          -1.026371670710934,
          -1.2697164274691704,
          -1.1528236562615408,
          -1.1843067060181818,
          0.11680243363236494,
          -0.2989045429941312,
          -0.35810354326371546,
          -0.7220377636161739,
          -0.1925974545323216,
          0.11454596705349662,
          -0.3265222754970888,
          -1.1499441443529694,
          -0.9910035322977784,
          3.4387621749110897,
          -1.1447533123067708,
          -0.8768143671605549,
          -1.3161730379218772,
          -1.0047136748816494,
          -1.0634200672130785,
          -0.8702750979754525,
          -1.0891085826319995,
          -0.39878364552969686,
          -1.530837012930707,
          2.141808996899132,
          1.0339970418606963,
          -1.0450375830780378,
          0.2819884405340954,
          0.9412159658085757,
          0.3713508846974401,
          -1.1167571479059202,
          -0.9632692882665148,
          3.0288038262294235,
          0.07368924845651668,
          1.926106894593596,
          0.6641252721586979,
          -0.7913868063608358,
          -1.3382283160857187,
          -1.2004667697435472,
          0.8255566524999299,
          3.602663727039627,
          -0.2817393408022606,
          1.5285057062205831,
          -0.8733527739911219,
          0.5366633526295361,
          -0.1754190454914904,
          -0.25828456760991597,
          -0.5741258092323172,
          -0.6171633127280147,
          0.0814117289400062,
          4.076901161103388,
          0.5889642806587047,
          6.479024067495813,
          -1.138518845200733,
          -0.8904007403010499,
          -1.1981773001385212,
          0.15165808425439417,
          0.6678170595948446,
          0.8029421773380382,
          -0.7940487223207536,
          -1.3695376218226616,
          -1.1905306860905622,
          0.7483190880676945,
          -1.0470694500124917,
          -0.4006960555226798,
          0.09695787072001932,
          0.3764410825369449,
          -0.7118419826003379,
          -1.1077872056056897,
          2.2205377986321517,
          3.0339834661779617,
          1.0856078430993428,
          -1.2379314655527676,
          -0.9377227189627696,
          2.015132502935967,
          -1.3256615302165862,
          -0.13950053248967223,
          -0.36666945060358747,
          2.046541867777943,
          -0.9076181685265229,
          5.8502901120364825,
          -1.0212963673345459,
          0.04327059814780918,
          0.483038975866377,
          1.2928948348660267,
          3.6585341530411606,
          -1.0419440278276142,
          1.4677518684343014,
          -1.3680997211657755,
          -1.2135389769294556,
          0.22931481458496936,
          -1.1098037193039265,
          -0.6717059513903711,
          -1.2692450825745323,
          -0.7892951218023356,
          0.08913371087238695,
          -1.1155164037894816,
          -0.8814074728181335,
          -0.8644776032589034,
          -0.19933229283082324,
          -0.21359423926926163,
          -0.9276768487609819,
          -0.8950907946332582,
          -0.6006102767345785,
          -0.679821882098253,
          -1.1630602961825824,
          -0.9326780793921916,
          -1.4013451387606644,
          -0.4913721770645635,
          -0.23812595340547707,
          -0.9548849037245,
          -1.0691484671519105,
          -0.37132191698140354,
          0.40717452028751405,
          1.2352782242651796,
          -1.066729702081609,
          -1.3276506380137796,
          -0.7881795333496175,
          -0.8915929247302169,
          -1.1252293094427397,
          5.296232190231089,
          -0.7423375630163218,
          0.4770189751883545,
          0.8611994004210792,
          -1.1832587012500282,
          -0.6928535773360461,
          -0.6538926833639342,
          -0.2608350864786281,
          -0.2768309230301648,
          -0.8356931982851912,
          -1.2555160802902716,
          -1.1102493628098558,
          -0.6023859061522071,
          1.040558571963709,
          1.8659892771465387,
          1.5545305517954764,
          -0.5798239411213282,
          1.200898599889183,
          -1.3165770528482448,
          -1.308262761875447,
          -0.8062917265299439,
          -0.3057475563101041,
          -0.7693483442764566,
          -1.038196902901771,
          -1.3341848439329085,
          -0.2580059188020322,
          -1.1572267633682018,
          -0.8809613675335664,
          0.26966084437106785,
          -0.9742622279935715,
          0.007281211704841481,
          -0.43983933988637364,
          -0.7257256909228746,
          0.32378271927205265,
          -1.0816365551382103,
          -1.1004041705019605,
          -0.8856675389006163,
          -1.273117688222214,
          -1.3407586762558075,
          -0.8723421032777843,
          -0.9173897158847097,
          -0.7439703127337864,
          0.9008231012419322,
          -0.5435001987264694,
          -0.755354512781342,
          -0.9173035324464055,
          -0.32151283034824346,
          0.12930814866736,
          -1.2761253455883985,
          -0.013382911740195283,
          1.8222463522945407,
          0.2810530040455989,
          0.7775054802358718,
          2.287373091620242,
          0.4917775260741224,
          1.9274425773524593,
          -0.9465288989199875,
          -1.1297330101883478,
          1.812847880397723,
          -0.9417579094267624,
          -0.6624175423567503,
          1.939665977218959,
          -1.1871676079240618,
          -0.6033428012252358,
          1.3190332551638517,
          -1.092601734438597,
          -0.5813480985598971,
          -0.9687337640167305,
          3.1865707233768243,
          -0.9574312451345419,
          -0.8338133446214868,
          -0.9972264446225554,
          -0.4178008407560719,
          -0.8376733524778415,
          2.003390927783869,
          -1.1216307730016606,
          -1.2829409286904943,
          -0.7889553749053937,
          -0.9155550087990882,
          -0.8510083890881661,
          2.5944033703199794,
          -0.7217707998144359,
          7.630055249967244,
          -0.5975174783465855,
          0.5340875930759684,
          -1.1686062781554505,
          -0.9950009226471175,
          -0.8459475978764804,
          -0.6730829400374456,
          0.4031013800319905,
          0.5193400989147855,
          -0.011847755910280722,
          2.437258347241566,
          -1.2359403664788235,
          -0.3322278773202051,
          0.9155215302543473,
          0.5706011850278536,
          -0.9823464837181615,
          2.3699327312088148,
          -1.1457557548250399,
          2.5460029582877994,
          -1.3179157814339286,
          1.425490148095317,
          -0.2221336661804461,
          -1.322943301508907,
          -1.3417085564676008,
          0.7431897030945129,
          0.7079645628580046,
          -0.8182145124436373,
          -0.9867296482126322,
          -1.343809694339186,
          -1.1348230465522136,
          -0.9772910988725313,
          -1.239823278453448,
          0.4229470508642529,
          -1.1410280258811492,
          -1.3425999804655064,
          -1.1215805484276522,
          -1.4016498150368977,
          -0.4107655564820538,
          -0.9419568606660662,
          -0.38994570323209465,
          0.13037342170479757,
          -1.1003011923675774,
          -1.274657508752814,
          0.7767358497296105,
          -0.8151959333546382,
          -0.9931676099781273,
          -0.3612149104228298,
          -1.105525609067716,
          -0.8349354756695502,
          0.30524460076971915,
          -1.083212427481263,
          1.9481129808786508,
          -1.1375667464534525,
          -0.8866262645458889,
          -1.051244698539848,
          -1.2803813129094628,
          -1.157108816640224,
          -1.1297674565270335,
          -0.8981599994163213,
          -0.8826070174856425,
          -0.46647728505129227,
          -1.1442760716211093,
          -1.1708139917485219,
          0.7094909280365562,
          -1.112312366101321,
          -1.2993692488328188,
          -1.2913817071707452,
          -1.1878909480645412,
          -0.6987551863735153,
          -0.7240671112305093,
          -0.2137788259953035,
          -0.6689195236215819,
          -1.2301255519329974,
          -0.4072329345385495,
          1.6501556362492007,
          -0.441984296304783,
          0.14955606933044852,
          -0.5795694910231926,
          -0.41014317015396423,
          -0.13847791290979075,
          -0.11030938702601208,
          -0.9338994336195834,
          0.1722705305177824,
          0.9149165804402482,
          0.1435525300448749,
          1.1655746237517841,
          -0.6832137505694996,
          0.6845792869997045,
          0.107172160195723,
          -0.8034393867457064,
          -0.6026230104809747,
          -0.08901459755046978,
          -0.7298485223940508,
          0.9998857765574709,
          0.5428195425974655,
          -0.604622341938504,
          -0.7895464967987733,
          0.1621991677120706,
          -0.2671180142444157,
          -0.8807471442553149,
          -0.9355083978671107,
          -0.2905659641177966,
          0.9534813935838378,
          -0.8730612563971266,
          3.565120502616256,
          -0.8866315772991559,
          -1.1876544456620448
         ],
         "y": [
          -0.3388737335012512,
          -0.3340223107639474,
          1.2126531232669409,
          0.766926510251036,
          1.6006967928018587,
          -0.3263417577903503,
          -0.6018021972678749,
          -0.1800179260604221,
          -0.7523192292058445,
          -0.746479705560451,
          -0.37842555683275514,
          -0.27536643720613985,
          0.8398603840003728,
          -0.07837599002915757,
          0.22939961473256082,
          -0.5880530215239668,
          -1.1329625730897777,
          0.3617691544667514,
          0.5912270838082948,
          -0.8006237709583803,
          0.21714471248017064,
          -0.28149956049364677,
          2.5569966426721935,
          4.66583361453335,
          1.3991655998124406,
          -0.6187496010057607,
          -0.054923137790430614,
          -0.30761864528652755,
          -0.15488474653050407,
          1.17232484443221,
          0.3862513998629524,
          -0.5084645638761611,
          -0.061207221736408295,
          1.3152118318483437,
          -0.9346913715919333,
          -1.2089012470173808,
          1.5578979535984923,
          -0.40447561836848356,
          -1.2718337523563297,
          3.6093717113886723,
          2.6948619910555878,
          0.5431667495932209,
          -1.107446618250976,
          -1.7370675610058344,
          -0.9190351014296699,
          0.07760198911071807,
          -0.949884285276708,
          2.0195653350844744,
          -0.5253351468145472,
          -1.313285894958766,
          0.19811861567320765,
          -1.0088908432387076,
          0.965433885554615,
          -1.3113152160370207,
          0.7948025966471995,
          -0.5987848977624137,
          -1.2951947787306353,
          -1.0199063852341894,
          -0.3072751879540414,
          -0.6635128367522685,
          -0.9655616210496737,
          -0.47322845009368086,
          -0.18437172119407377,
          -0.4949697205675693,
          -0.19230510539672807,
          -2.5719970130238585,
          -1.3757615601628146,
          -0.2321680666080036,
          0.5585674443073655,
          -0.6125316578758936,
          1.4766361278054898,
          3.482376187838694,
          0.34047704843623294,
          1.0020445338459132,
          -0.31384710946898897,
          0.7068226841105123,
          0.1150321639628137,
          -1.1494883297488752,
          -0.3165496267470526,
          -0.6054218321599799,
          -0.6765826810604477,
          -1.5799566801460772,
          -0.23150870234385912,
          0.32720281304808074,
          -0.6190579494817583,
          -2.2820466720162096,
          -0.6890892519338145,
          5.129136099721457,
          0.5833053847258578,
          1.2340588277871736,
          -0.047345714246171476,
          0.9442839804766969,
          -0.2157805616220307,
          5.073286891418414,
          -1.0932345131531696,
          -0.9652629547253685,
          -1.3547418123379917,
          -0.9852755720315949,
          -0.9507201990330915,
          0.19533003622556744,
          0.07977407504831664,
          -0.886568441683932,
          -0.5791395228035181,
          4.48948822179525,
          -0.2535491023399317,
          0.009197485206436476,
          -1.057265359073335,
          -0.613692834801933,
          -0.8705076669913299,
          -1.2899646036048602,
          0.1368076192075944,
          -0.5605873855812671,
          1.6558027035958838,
          0.35647779110971817,
          0.3647079497679735,
          -0.12001212285702989,
          -0.37423467687632633,
          -0.3395338233963962,
          0.7630090296563263,
          -0.048143691700390186,
          0.24803389668595982,
          -0.5328608617874857,
          -0.06190459929157891,
          -0.3870972924499796,
          1.5765487387628843,
          4.834272620634155,
          1.0374398614640645,
          0.44945207766034495,
          -1.1186711981690058,
          1.4960107926099644,
          0.331460503797875,
          -0.9002904223761138,
          -0.33584917352580823,
          -0.5461288128085358,
          -0.5610073124664146,
          -0.619347508018727,
          -0.02795782223123117,
          -0.960086063978446,
          0.27827020625266274,
          -0.561282420981805,
          0.5385870104194376,
          0.7406615386450377,
          0.969642934932068,
          0.6249956882389516,
          -0.20207435599702736,
          -0.1514479960840717,
          -0.518837594085915,
          -0.4467939612795625,
          -0.17671171026603683,
          0.8038400982262289,
          -0.0034263199640003337,
          -0.5631548310304442,
          0.17417795266494165,
          -0.40928625161848825,
          -1.0807212841996632,
          -1.2876715353143122,
          -0.6607700644372692,
          0.22164726204602087,
          -0.7432222426030143,
          -1.5586322120110527,
          -0.7989098869800094,
          0.15843476321399627,
          0.06242712916264244,
          -1.414360426015587,
          -0.7101946842299781,
          0.25342038603669287,
          -0.2096996942558683,
          -0.8662784547080398,
          -0.5559608090771597,
          -0.37299314415741175,
          -1.3684958609746798,
          -0.010273887746077232,
          -1.0549680470313432,
          -1.5491267295277413,
          -0.47398333862282055,
          -0.9223283416495286,
          1.9951526358871137,
          0.36701161120048553,
          -0.3602229380448125,
          0.19189219560295934,
          0.03914001557162784,
          6.597056249510479,
          -1.43494050848848,
          10.60302050347907,
          -1.175044168078084,
          -0.32293729450290726,
          -0.3651492088054537,
          -0.366373866192961,
          -0.726137474899948,
          -0.8683221250208398,
          0.7585969477831277,
          -0.36142352099201003,
          -0.7172537040830042,
          -1.3991026323395426,
          -0.45240550859097567,
          1.1801481664190505,
          3.638925444410858,
          -0.8107202505240009,
          -0.020601412790394895,
          -0.544017939082474,
          -0.9983208144858398,
          -0.999049674995131,
          2.398914348575581,
          -1.1008190184847413,
          -0.581643282002451,
          -1.5084059229019349,
          -0.6517593065921671,
          -0.8831592081896447,
          -0.8209423517436814,
          -1.3438861647716625,
          0.49562334266892427,
          -0.5556520385654775,
          -0.19937946363894637,
          -0.7323200393411328,
          -1.1185098883751754,
          -0.6582327985514785,
          -1.9328199661475758,
          0.3377960583399603,
          0.19778631540744274,
          -0.5882812280166791,
          -0.015877481955475947,
          -1.1130886154586983,
          0.23162904653991476,
          0.04527887738234758,
          -0.5305485218640265,
          -0.3190070933785925,
          0.2520781604141379,
          -0.45328336176856765,
          -1.1058907268224565,
          0.45266145708235406,
          1.0285022097731213,
          -0.7199073827114638,
          0.3211634937952731,
          -0.9625554993052955,
          0.7886420239095685,
          -0.8324271334900771,
          -0.39566529859120864,
          0.7359861346999679,
          -0.5749245553104942,
          2.305886042934669,
          2.0734967158336755,
          0.566326109487782,
          0.3329954427473534,
          -0.06945486795164398,
          -0.44224859537037536,
          -0.90186430203021,
          -0.3308255298850368,
          -0.039029527155231496,
          -0.18734401451841703,
          0.1894450802569111,
          -0.5716991603451528,
          0.09052474396837094,
          0.6336952358582342,
          0.4439811893842707,
          0.8567080024311041,
          0.936235192376099,
          -0.5023693022527658,
          0.02841101260201404,
          3.1859653368015084,
          1.8620959659192,
          -0.5387568679766708,
          0.2827254103802446,
          0.22367562481585446,
          -0.550101813842705,
          -1.2185050678962597,
          1.477157670573922,
          -0.6631574406961435,
          1.2354847954464936,
          -0.8175284885248053,
          -0.037253775593425555,
          -0.11487986497951871,
          -0.4660744904467437,
          -0.7949866653175932,
          1.7171534578460201,
          -0.7432994433190828,
          -0.8648188154782545,
          1.3221267774076162,
          1.722906753830945,
          0.5722243122693339,
          0.006448801511994024,
          -0.5726435499145428,
          -0.03903447509730594,
          2.271450156363718,
          1.8775707854126724,
          3.7158109724909316,
          0.8269637097936948,
          -0.5874979224237787,
          0.9974255424112303,
          -0.2197906820755457,
          1.0626563204896942,
          -0.622867077852075,
          -0.3428323855462215,
          -0.2611708842121274,
          -1.0266215897985749,
          0.3222924733739025,
          -0.8282583081665578,
          0.3381143564067616,
          -0.6835217875906029,
          -0.7740365098820234,
          -1.0378605815549418,
          0.07086743760171799,
          -1.2286049885808603,
          -1.233189612310018,
          -1.635185750738486,
          -1.3836833004936968,
          -1.1589083323899276,
          -0.7942603290604089,
          0.03437614373846143,
          -0.6275579513526857,
          -1.03925159533038,
          1.2407283064693548,
          0.5923029172061512,
          -1.9860233646007046,
          0.004838160118734136,
          -0.26337651055535344,
          -0.34398032882470947,
          -0.1727222401115767,
          -0.6352645224953344,
          -0.3227182217213681,
          -0.7943895140505515,
          -0.7736509461370945,
          -0.10993997163856911,
          0.07897112560286244,
          -0.493946746486209,
          0.6810682483801461,
          6.669808005352499,
          -0.23768328979546574,
          -0.9303830746938142,
          1.1218279200460557,
          -0.05197604699928173,
          0.027346804932935103,
          -0.9404923751155417,
          0.8668584194939887,
          -3.464597370083971,
          2.114786768118538,
          0.5324100227374784,
          -0.20265215111415036,
          0.6447119734781466,
          1.1406181616759754,
          0.7449130928602368,
          -1.2137778567621795,
          -0.771679578941415,
          -1.015012704562213,
          -1.9980796059932553,
          -0.5940723899422882,
          -1.244368699186337,
          -0.8622268697265479,
          0.43313798651633617,
          -0.677885988537248,
          -1.2752577273113737,
          -0.48658099789131426,
          -0.9762863508802173,
          -0.9433239937109461,
          -1.5479245973701834,
          0.9816558854019924,
          -1.079691770533691,
          0.5156046362044393,
          -1.7738616226116997,
          0.9289808664539875,
          -0.8304821571025917,
          0.2639497961697697,
          -0.645056465978492,
          -0.800017408701066,
          -0.9333369993017909,
          -0.7694882041689599,
          -0.21918392079625876,
          -0.41502003632043455,
          -0.6795253397808918,
          0.3138642575492206,
          -0.6134848940772281,
          1.3950356034403177,
          1.1253400800723616,
          0.35492853164887483,
          0.3983957589205931,
          -0.46497567470760093,
          -0.7756200555432596,
          -0.19495297646210655,
          1.1158456617346946,
          -0.6583885887516545,
          -1.0253610072453636,
          0.7561436405761675,
          1.2650106487998471,
          1.3983423621459368,
          -0.43567928054586763,
          1.1111896879585963,
          0.023653489113865278,
          -0.576642915518498,
          0.3478039711205856,
          -0.34758635640442115,
          -0.10440709862303811,
          0.04195308387964199,
          -0.4352860798331744,
          -0.8628056830055739,
          1.399008976374499,
          -0.2854856479783543,
          -0.23699848700966356,
          -0.19742540263184125,
          0.5670096660980188,
          0.2406020812367076,
          -0.38749674985908134,
          -0.1728344541074494,
          2.4888951028926187,
          0.1931223787131297,
          0.16304629956125305,
          0.45624458187651634,
          -0.4517238236699362,
          1.5954064453462797,
          -0.8206304640638479,
          -0.6251998164515159,
          0.6999565101370238,
          -0.3025367000145274,
          0.23197357712833502,
          -1.4052617754508818,
          2.1608794317468076,
          -0.053305113135297504,
          -0.3199381801125485,
          -0.9730907687222428,
          -0.8791657763513283,
          -1.450004554419563,
          -0.3283327190033121,
          -1.0908112710003361,
          -0.02236913483676695,
          0.41761503018429913,
          -0.12309508639556262,
          -0.48303320527516935,
          2.0384413222930298,
          -0.0015316193634770142,
          2.8262591096015015,
          -0.6483511537464252,
          -0.14769828737589205,
          -0.6180552414909797,
          1.4746819434230896,
          -0.14034521244525278,
          -0.46365814640258896,
          -0.25447310654920563,
          2.53769826932841,
          1.9155706767556682,
          -1.042640015162147,
          2.3460090390863464e-05,
          -1.0168288321092804
         ],
         "z": [
          -0.17263147841738866,
          0.34649905020683863,
          2.011523893873391,
          0.26026601762527035,
          0.3536226535367416,
          0.1461375701905166,
          -0.41341528963886814,
          0.4565533260551265,
          0.113802202506715,
          0.2020240631348969,
          0.5252111738047253,
          -0.3386190806624116,
          -1.0875465960521857,
          -1.068955738045301,
          -0.8991415048133937,
          -0.22901436587140683,
          0.38742020001538346,
          1.2350811552090228,
          -0.05818120674488378,
          -0.14666039544468296,
          -0.25006318116056586,
          0.3245975964481071,
          -0.17545611170544403,
          3.182974937244868,
          0.31302505857418694,
          -0.8510054510634094,
          0.08818117785482106,
          -0.42442606760835383,
          1.1043865019751222,
          -2.23193032906094,
          -0.20758702322176148,
          0.5685464039040574,
          -0.9746794202429687,
          -1.0239778016808476,
          0.3972295763381714,
          0.264238171029357,
          -0.3481641320216541,
          -0.6084609595608008,
          -0.09542975266667565,
          -2.0481112943924726,
          0.7780607945154203,
          -0.17779395666302458,
          -0.6719520472131262,
          -0.13662985720475807,
          -0.43023260836669763,
          1.1325458625196487,
          0.2689790509495645,
          -1.4774067571736575,
          -0.2177327121809906,
          -0.18311104865092293,
          0.7121233101629849,
          0.16062927099377264,
          -2.070611104980107,
          0.2191546027223518,
          -0.954841541359123,
          0.29796575078402315,
          -0.061414504050118834,
          0.06644396380308458,
          -0.37862781772555165,
          0.2525474135266402,
          -0.3318482349996568,
          -2.6445467311260695,
          0.1828268569216372,
          -0.09962926407262492,
          0.5008859973446026,
          -0.5165559851936552,
          0.20080784442504934,
          -0.9346888345623001,
          1.3524523168858966,
          -0.08622932338874938,
          0.18558347449159307,
          2.8046447382625503,
          0.5970604171369287,
          -0.40723266967063587,
          0.25468766052990227,
          -0.45353219802495154,
          0.9140767614326284,
          -0.7917382606327561,
          -0.18720122677929038,
          0.7080238716534946,
          0.03928172583490961,
          0.06317367782277801,
          0.18467219761778578,
          -0.688361267046619,
          -0.46402210873039285,
          -1.7498820868368432,
          -1.3498780704498943,
          1.4865930421051645,
          0.34919653694251,
          -0.2889486070726693,
          -0.10527216794916767,
          0.278362710831111,
          0.47634929051061065,
          2.2115423275355615,
          -0.09997413414186716,
          0.5444084721547425,
          0.23573125757985175,
          0.4206584287328958,
          0.43433917403515726,
          0.13190573353851895,
          0.21690590284689482,
          0.5183660859056226,
          0.5005756711679304,
          -1.8487145556616988,
          -0.40098124182528827,
          -0.2768271054090059,
          0.4590459528735174,
          -0.09173924918983865,
          0.5400337174503479,
          0.10488174103864531,
          0.1531176192197728,
          -0.34881342217962313,
          0.29000079852849403,
          -0.001024077480132594,
          -0.35267031804712257,
          -0.07981406147413174,
          -0.23297123703531142,
          0.28259141663904325,
          -0.4304845759002415,
          0.21005192841853096,
          -0.3554178188136144,
          0.3318339494973231,
          -0.08438795727759238,
          -0.25766191105846514,
          -1.3556591251720431,
          -3.5416657311017845,
          -0.32978364109598807,
          -0.41394779688041505,
          0.40799966837957036,
          -1.866886470528706,
          0.49997204784043203,
          0.3571149986428763,
          -0.5198081426054283,
          -0.11586488397439396,
          0.07596978152576335,
          0.09875138955470669,
          0.6478527565352593,
          0.1907740201525186,
          0.33045904206972143,
          0.3144366628005342,
          -0.055215876309661106,
          -1.139746485335494,
          -1.927892214594179,
          0.22654687297679463,
          -0.7949156898040441,
          -0.7548899319742687,
          0.056869439052224136,
          -0.04512248810966148,
          0.32165939922038356,
          -1.3035790446690276,
          -0.36415830404365995,
          0.8031141561952644,
          -0.6840505136222246,
          0.6968125855409322,
          0.3606983452595946,
          0.2677972527354762,
          0.5981066174001125,
          -0.5403069931063766,
          0.49112178814169566,
          0.06361292550415347,
          0.5903602117652846,
          0.21454195933518666,
          -0.34567105603025444,
          -0.42022144089633146,
          0.08297481218397237,
          -0.17182346109482366,
          0.8452893379338371,
          0.3355909076150917,
          0.19256140268301952,
          0.3370530612408627,
          0.18097360631557646,
          1.7499215575704876,
          0.4048448977445852,
          0.05318202058745468,
          0.8229095477886834,
          0.45941544755053193,
          -2.241054583590813,
          0.35161987763106056,
          -0.15770233137684397,
          1.0013994563970032,
          0.2235920589076695,
          -1.5458608567669943,
          0.11566300004070515,
          5.241418820054805,
          0.3157937343832817,
          0.09361386772019066,
          0.5305476943136861,
          0.3998008607981315,
          -0.2078391158449286,
          0.6673520649352287,
          -0.27762911588789635,
          -0.4534489315323282,
          0.14684640959774534,
          0.1629136296115171,
          0.2239126930686436,
          0.12015650927752237,
          0.09773492578189626,
          0.45874108895828547,
          -0.09942573282608311,
          -0.14279805554713498,
          0.06197541268501393,
          0.028689257290124368,
          0.7716327596094034,
          0.33055597291181826,
          0.624497768089667,
          0.02909697001919175,
          0.08121917915060561,
          0.19210879064478273,
          0.4424786521919408,
          -0.2572330049403259,
          -0.19712582701723153,
          -0.33964175998295243,
          0.4189295167098955,
          0.4007103389186937,
          0.19530165001115626,
          0.6020390394460717,
          -0.38570343520837386,
          -0.3784329658574488,
          1.8225585655553977,
          0.2601418505764518,
          -0.30242670068553645,
          -0.10593439680414829,
          0.5227590563371394,
          0.7917425369579691,
          0.11282009939244068,
          -0.25084323822243654,
          -0.6349122144582546,
          0.42454709268415053,
          0.20030511875211704,
          0.41393683636790435,
          0.6183807888632191,
          0.4602646753224905,
          -1.1146720380720665,
          0.38245391052157446,
          0.2228709722895633,
          0.407803156993258,
          -0.04137315150648609,
          -0.24350180343755046,
          0.019525577508717588,
          -1.9377986813895833,
          0.13812884511676685,
          -0.8927237387850394,
          -0.5149437971218292,
          0.2172374821387024,
          0.38730608235982616,
          0.48154387564713447,
          0.04964140708222768,
          -0.224383631384664,
          -0.45465118799193976,
          0.2587574395407218,
          0.45222389053868106,
          0.8026870714221368,
          0.7551911220630606,
          -1.3289795112743568,
          0.8952670581569173,
          -1.384274113538181,
          -0.24488650032395354,
          0.22237546752881915,
          -2.1167429315728157,
          -2.8341345850778272,
          -0.05320054912759546,
          0.30918886268509815,
          -0.9439828620295675,
          0.40512805714378286,
          0.3381039905446518,
          1.5457155542396515,
          0.7717086051670345,
          0.11913047726093644,
          -0.5681538353060931,
          -0.4493213554997501,
          0.38237058853705164,
          0.7534798897187722,
          0.660859276416886,
          -1.3054853839094518,
          0.6440093133409802,
          0.5088390707103937,
          -0.6371956067523862,
          0.7082819992608799,
          0.2810929333159127,
          -0.4313424415013837,
          0.5073020482179349,
          0.09652594230651888,
          -2.2220654292642665,
          -0.4003052673673433,
          -3.2343855596469644,
          -2.2680108261917464,
          0.006901165774599413,
          0.062367777756562215,
          -0.5951901075402631,
          -2.3623687448959765,
          0.593642525172335,
          0.2961656249157489,
          0.6345395441249745,
          0.11164249837802616,
          -0.5785244191373164,
          -0.14863989002654013,
          -0.5333719697132984,
          -0.11912732050950707,
          0.017410024078193052,
          0.42043406540839356,
          -0.24006984506100548,
          -0.26030642144051086,
          0.0670248325249366,
          -0.25206347643300747,
          0.3572543754451831,
          0.36369653040539895,
          0.04188789698730119,
          -0.47352579894958663,
          0.08801709486347518,
          0.426075734262007,
          0.8619263873478885,
          -1.4748703256667977,
          -0.4912104284687993,
          0.03315352804481814,
          -0.022988701861244066,
          1.114103710595744,
          0.3253310247137709,
          0.7180572577520747,
          -0.3020731448764837,
          -0.1739715183764651,
          0.5256101789056264,
          0.1666234429359107,
          -0.49039430005,
          -0.5013001264468027,
          -0.9112665665006955,
          1.50675940528166,
          0.4922272193323417,
          0.5034456336707047,
          0.062151950524062145,
          0.4587333840187214,
          0.1529607884604815,
          -0.5446690548338593,
          -0.27654438545155813,
          -2.1219505174235156,
          0.7634064577852564,
          -0.9889390733668396,
          -0.2974647838055841,
          0.4004415296057499,
          1.2742169657761089,
          1.1566309260054866,
          0.39503582739538673,
          0.5676415810373561,
          0.56072941947206,
          -0.4794388897099544,
          0.394198624887243,
          0.19186139541213795,
          0.27002216694824066,
          -1.258081750843682,
          0.3705762816106332,
          -0.33889609611064847,
          0.49702555766778184,
          0.5695312098375688,
          0.44026135917030484,
          0.15119569988625586,
          0.41713041011695434,
          0.40471025372680686,
          -0.7974332207162026,
          -0.11063563128712141,
          1.9135811558704097,
          0.5955799367964318,
          -0.6534207044780014,
          0.24233434052181976,
          0.4499481346888396,
          0.08375630286122632,
          0.37456680220508237,
          0.7745066164838871,
          -0.06283804379343957,
          0.3270491961889739,
          -0.8517394607921001,
          0.11360637030149959,
          -1.6195042034352427,
          -0.32712961672249874,
          1.4496046738988069,
          0.18834150568513364,
          0.22690865999438284,
          0.043631959831491304,
          0.601154361569923,
          -1.798195267730046,
          0.49812796282587246,
          0.06943296565880046,
          -1.239355894636362,
          -0.09257885422294466,
          -1.091256027031188,
          0.5367915839398003,
          1.2465372864114843,
          0.02270794984955996,
          0.6620195488214666,
          -0.6424456388170532,
          -0.07001198533430965,
          0.10352814509052627,
          0.7112914271117814,
          0.742102360996604,
          0.5627466494302152,
          -0.48651445535349064,
          -0.27060856227764724,
          -0.041423801596619236,
          0.7008547139451703,
          0.1865659667087164,
          -0.009189248431027905,
          -0.08044021088932528,
          0.5441001722490102,
          -0.20633449856531816,
          -1.2759994517702975,
          -1.1756034705116423,
          -0.41194346153679595,
          0.12363046809007967,
          -0.5444545530320518,
          -0.19332236329638564,
          -0.11656971041317443,
          1.1611057659839346,
          0.41662950893627715,
          1.4576576581035137,
          0.17365303277110689,
          1.5800269845929138,
          0.3128930937687344,
          0.2771088383643626,
          0.13939796779913047,
          0.14077042687229038,
          0.15632860211571498,
          0.19482951733305193,
          0.09351908462932436,
          -0.4086096319863334,
          -1.0674100360042935,
          -0.6240938119204554,
          -0.8701677795465171,
          0.945664666568261,
          -0.08908851797230175,
          -0.4505171355106428,
          0.36524364129863696,
          0.44793691420509796,
          0.5763264393624783,
          0.8795658961124777,
          -0.9857505558450955,
          0.7285753082116058,
          -0.6086024869239391,
          -0.3877334874952145,
          -1.3494623205870127,
          -0.8398146579727465,
          0.30947844857185514,
          0.197287162531778
         ]
        }
       ],
       "layout": {
        "autosize": true,
        "scene": {
         "aspectmode": "auto",
         "aspectratio": {
          "x": 1.11028907683524,
          "y": 1.201071096899063,
          "z": 0.7498859501891619
         },
         "camera": {
          "center": {
           "x": 0,
           "y": 0,
           "z": 0
          },
          "eye": {
           "x": 0.7823499225064381,
           "y": 0.4316244910804961,
           "z": -0.013197153544102022
          },
          "projection": {
           "type": "perspective"
          },
          "up": {
           "x": 0,
           "y": 0,
           "z": 1
          }
         },
         "xaxis": {
          "title": {
           "text": "PC1"
          },
          "type": "linear"
         },
         "yaxis": {
          "title": {
           "text": "PC2"
          },
          "type": "linear"
         },
         "zaxis": {
          "title": {
           "text": "PC3"
          },
          "type": "linear"
         }
        },
        "template": {
         "data": {
          "bar": [
           {
            "error_x": {
             "color": "#2a3f5f"
            },
            "error_y": {
             "color": "#2a3f5f"
            },
            "marker": {
             "line": {
              "color": "#E5ECF6",
              "width": 0.5
             },
             "pattern": {
              "fillmode": "overlay",
              "size": 10,
              "solidity": 0.2
             }
            },
            "type": "bar"
           }
          ],
          "barpolar": [
           {
            "marker": {
             "line": {
              "color": "#E5ECF6",
              "width": 0.5
             },
             "pattern": {
              "fillmode": "overlay",
              "size": 10,
              "solidity": 0.2
             }
            },
            "type": "barpolar"
           }
          ],
          "carpet": [
           {
            "aaxis": {
             "endlinecolor": "#2a3f5f",
             "gridcolor": "white",
             "linecolor": "white",
             "minorgridcolor": "white",
             "startlinecolor": "#2a3f5f"
            },
            "baxis": {
             "endlinecolor": "#2a3f5f",
             "gridcolor": "white",
             "linecolor": "white",
             "minorgridcolor": "white",
             "startlinecolor": "#2a3f5f"
            },
            "type": "carpet"
           }
          ],
          "choropleth": [
           {
            "colorbar": {
             "outlinewidth": 0,
             "ticks": ""
            },
            "type": "choropleth"
           }
          ],
          "contour": [
           {
            "colorbar": {
             "outlinewidth": 0,
             "ticks": ""
            },
            "colorscale": [
             [
              0,
              "#0d0887"
             ],
             [
              0.1111111111111111,
              "#46039f"
             ],
             [
              0.2222222222222222,
              "#7201a8"
             ],
             [
              0.3333333333333333,
              "#9c179e"
             ],
             [
              0.4444444444444444,
              "#bd3786"
             ],
             [
              0.5555555555555556,
              "#d8576b"
             ],
             [
              0.6666666666666666,
              "#ed7953"
             ],
             [
              0.7777777777777778,
              "#fb9f3a"
             ],
             [
              0.8888888888888888,
              "#fdca26"
             ],
             [
              1,
              "#f0f921"
             ]
            ],
            "type": "contour"
           }
          ],
          "contourcarpet": [
           {
            "colorbar": {
             "outlinewidth": 0,
             "ticks": ""
            },
            "type": "contourcarpet"
           }
          ],
          "heatmap": [
           {
            "colorbar": {
             "outlinewidth": 0,
             "ticks": ""
            },
            "colorscale": [
             [
              0,
              "#0d0887"
             ],
             [
              0.1111111111111111,
              "#46039f"
             ],
             [
              0.2222222222222222,
              "#7201a8"
             ],
             [
              0.3333333333333333,
              "#9c179e"
             ],
             [
              0.4444444444444444,
              "#bd3786"
             ],
             [
              0.5555555555555556,
              "#d8576b"
             ],
             [
              0.6666666666666666,
              "#ed7953"
             ],
             [
              0.7777777777777778,
              "#fb9f3a"
             ],
             [
              0.8888888888888888,
              "#fdca26"
             ],
             [
              1,
              "#f0f921"
             ]
            ],
            "type": "heatmap"
           }
          ],
          "heatmapgl": [
           {
            "colorbar": {
             "outlinewidth": 0,
             "ticks": ""
            },
            "colorscale": [
             [
              0,
              "#0d0887"
             ],
             [
              0.1111111111111111,
              "#46039f"
             ],
             [
              0.2222222222222222,
              "#7201a8"
             ],
             [
              0.3333333333333333,
              "#9c179e"
             ],
             [
              0.4444444444444444,
              "#bd3786"
             ],
             [
              0.5555555555555556,
              "#d8576b"
             ],
             [
              0.6666666666666666,
              "#ed7953"
             ],
             [
              0.7777777777777778,
              "#fb9f3a"
             ],
             [
              0.8888888888888888,
              "#fdca26"
             ],
             [
              1,
              "#f0f921"
             ]
            ],
            "type": "heatmapgl"
           }
          ],
          "histogram": [
           {
            "marker": {
             "pattern": {
              "fillmode": "overlay",
              "size": 10,
              "solidity": 0.2
             }
            },
            "type": "histogram"
           }
          ],
          "histogram2d": [
           {
            "colorbar": {
             "outlinewidth": 0,
             "ticks": ""
            },
            "colorscale": [
             [
              0,
              "#0d0887"
             ],
             [
              0.1111111111111111,
              "#46039f"
             ],
             [
              0.2222222222222222,
              "#7201a8"
             ],
             [
              0.3333333333333333,
              "#9c179e"
             ],
             [
              0.4444444444444444,
              "#bd3786"
             ],
             [
              0.5555555555555556,
              "#d8576b"
             ],
             [
              0.6666666666666666,
              "#ed7953"
             ],
             [
              0.7777777777777778,
              "#fb9f3a"
             ],
             [
              0.8888888888888888,
              "#fdca26"
             ],
             [
              1,
              "#f0f921"
             ]
            ],
            "type": "histogram2d"
           }
          ],
          "histogram2dcontour": [
           {
            "colorbar": {
             "outlinewidth": 0,
             "ticks": ""
            },
            "colorscale": [
             [
              0,
              "#0d0887"
             ],
             [
              0.1111111111111111,
              "#46039f"
             ],
             [
              0.2222222222222222,
              "#7201a8"
             ],
             [
              0.3333333333333333,
              "#9c179e"
             ],
             [
              0.4444444444444444,
              "#bd3786"
             ],
             [
              0.5555555555555556,
              "#d8576b"
             ],
             [
              0.6666666666666666,
              "#ed7953"
             ],
             [
              0.7777777777777778,
              "#fb9f3a"
             ],
             [
              0.8888888888888888,
              "#fdca26"
             ],
             [
              1,
              "#f0f921"
             ]
            ],
            "type": "histogram2dcontour"
           }
          ],
          "mesh3d": [
           {
            "colorbar": {
             "outlinewidth": 0,
             "ticks": ""
            },
            "type": "mesh3d"
           }
          ],
          "parcoords": [
           {
            "line": {
             "colorbar": {
              "outlinewidth": 0,
              "ticks": ""
             }
            },
            "type": "parcoords"
           }
          ],
          "pie": [
           {
            "automargin": true,
            "type": "pie"
           }
          ],
          "scatter": [
           {
            "fillpattern": {
             "fillmode": "overlay",
             "size": 10,
             "solidity": 0.2
            },
            "type": "scatter"
           }
          ],
          "scatter3d": [
           {
            "line": {
             "colorbar": {
              "outlinewidth": 0,
              "ticks": ""
             }
            },
            "marker": {
             "colorbar": {
              "outlinewidth": 0,
              "ticks": ""
             }
            },
            "type": "scatter3d"
           }
          ],
          "scattercarpet": [
           {
            "marker": {
             "colorbar": {
              "outlinewidth": 0,
              "ticks": ""
             }
            },
            "type": "scattercarpet"
           }
          ],
          "scattergeo": [
           {
            "marker": {
             "colorbar": {
              "outlinewidth": 0,
              "ticks": ""
             }
            },
            "type": "scattergeo"
           }
          ],
          "scattergl": [
           {
            "marker": {
             "colorbar": {
              "outlinewidth": 0,
              "ticks": ""
             }
            },
            "type": "scattergl"
           }
          ],
          "scattermapbox": [
           {
            "marker": {
             "colorbar": {
              "outlinewidth": 0,
              "ticks": ""
             }
            },
            "type": "scattermapbox"
           }
          ],
          "scatterpolar": [
           {
            "marker": {
             "colorbar": {
              "outlinewidth": 0,
              "ticks": ""
             }
            },
            "type": "scatterpolar"
           }
          ],
          "scatterpolargl": [
           {
            "marker": {
             "colorbar": {
              "outlinewidth": 0,
              "ticks": ""
             }
            },
            "type": "scatterpolargl"
           }
          ],
          "scatterternary": [
           {
            "marker": {
             "colorbar": {
              "outlinewidth": 0,
              "ticks": ""
             }
            },
            "type": "scatterternary"
           }
          ],
          "surface": [
           {
            "colorbar": {
             "outlinewidth": 0,
             "ticks": ""
            },
            "colorscale": [
             [
              0,
              "#0d0887"
             ],
             [
              0.1111111111111111,
              "#46039f"
             ],
             [
              0.2222222222222222,
              "#7201a8"
             ],
             [
              0.3333333333333333,
              "#9c179e"
             ],
             [
              0.4444444444444444,
              "#bd3786"
             ],
             [
              0.5555555555555556,
              "#d8576b"
             ],
             [
              0.6666666666666666,
              "#ed7953"
             ],
             [
              0.7777777777777778,
              "#fb9f3a"
             ],
             [
              0.8888888888888888,
              "#fdca26"
             ],
             [
              1,
              "#f0f921"
             ]
            ],
            "type": "surface"
           }
          ],
          "table": [
           {
            "cells": {
             "fill": {
              "color": "#EBF0F8"
             },
             "line": {
              "color": "white"
             }
            },
            "header": {
             "fill": {
              "color": "#C8D4E3"
             },
             "line": {
              "color": "white"
             }
            },
            "type": "table"
           }
          ]
         },
         "layout": {
          "annotationdefaults": {
           "arrowcolor": "#2a3f5f",
           "arrowhead": 0,
           "arrowwidth": 1
          },
          "autotypenumbers": "strict",
          "coloraxis": {
           "colorbar": {
            "outlinewidth": 0,
            "ticks": ""
           }
          },
          "colorscale": {
           "diverging": [
            [
             0,
             "#8e0152"
            ],
            [
             0.1,
             "#c51b7d"
            ],
            [
             0.2,
             "#de77ae"
            ],
            [
             0.3,
             "#f1b6da"
            ],
            [
             0.4,
             "#fde0ef"
            ],
            [
             0.5,
             "#f7f7f7"
            ],
            [
             0.6,
             "#e6f5d0"
            ],
            [
             0.7,
             "#b8e186"
            ],
            [
             0.8,
             "#7fbc41"
            ],
            [
             0.9,
             "#4d9221"
            ],
            [
             1,
             "#276419"
            ]
           ],
           "sequential": [
            [
             0,
             "#0d0887"
            ],
            [
             0.1111111111111111,
             "#46039f"
            ],
            [
             0.2222222222222222,
             "#7201a8"
            ],
            [
             0.3333333333333333,
             "#9c179e"
            ],
            [
             0.4444444444444444,
             "#bd3786"
            ],
            [
             0.5555555555555556,
             "#d8576b"
            ],
            [
             0.6666666666666666,
             "#ed7953"
            ],
            [
             0.7777777777777778,
             "#fb9f3a"
            ],
            [
             0.8888888888888888,
             "#fdca26"
            ],
            [
             1,
             "#f0f921"
            ]
           ],
           "sequentialminus": [
            [
             0,
             "#0d0887"
            ],
            [
             0.1111111111111111,
             "#46039f"
            ],
            [
             0.2222222222222222,
             "#7201a8"
            ],
            [
             0.3333333333333333,
             "#9c179e"
            ],
            [
             0.4444444444444444,
             "#bd3786"
            ],
            [
             0.5555555555555556,
             "#d8576b"
            ],
            [
             0.6666666666666666,
             "#ed7953"
            ],
            [
             0.7777777777777778,
             "#fb9f3a"
            ],
            [
             0.8888888888888888,
             "#fdca26"
            ],
            [
             1,
             "#f0f921"
            ]
           ]
          },
          "colorway": [
           "#636efa",
           "#EF553B",
           "#00cc96",
           "#ab63fa",
           "#FFA15A",
           "#19d3f3",
           "#FF6692",
           "#B6E880",
           "#FF97FF",
           "#FECB52"
          ],
          "font": {
           "color": "#2a3f5f"
          },
          "geo": {
           "bgcolor": "white",
           "lakecolor": "white",
           "landcolor": "#E5ECF6",
           "showlakes": true,
           "showland": true,
           "subunitcolor": "white"
          },
          "hoverlabel": {
           "align": "left"
          },
          "hovermode": "closest",
          "mapbox": {
           "style": "light"
          },
          "paper_bgcolor": "white",
          "plot_bgcolor": "#E5ECF6",
          "polar": {
           "angularaxis": {
            "gridcolor": "white",
            "linecolor": "white",
            "ticks": ""
           },
           "bgcolor": "#E5ECF6",
           "radialaxis": {
            "gridcolor": "white",
            "linecolor": "white",
            "ticks": ""
           }
          },
          "scene": {
           "xaxis": {
            "backgroundcolor": "#E5ECF6",
            "gridcolor": "white",
            "gridwidth": 2,
            "linecolor": "white",
            "showbackground": true,
            "ticks": "",
            "zerolinecolor": "white"
           },
           "yaxis": {
            "backgroundcolor": "#E5ECF6",
            "gridcolor": "white",
            "gridwidth": 2,
            "linecolor": "white",
            "showbackground": true,
            "ticks": "",
            "zerolinecolor": "white"
           },
           "zaxis": {
            "backgroundcolor": "#E5ECF6",
            "gridcolor": "white",
            "gridwidth": 2,
            "linecolor": "white",
            "showbackground": true,
            "ticks": "",
            "zerolinecolor": "white"
           }
          },
          "shapedefaults": {
           "line": {
            "color": "#2a3f5f"
           }
          },
          "ternary": {
           "aaxis": {
            "gridcolor": "white",
            "linecolor": "white",
            "ticks": ""
           },
           "baxis": {
            "gridcolor": "white",
            "linecolor": "white",
            "ticks": ""
           },
           "bgcolor": "#E5ECF6",
           "caxis": {
            "gridcolor": "white",
            "linecolor": "white",
            "ticks": ""
           }
          },
          "title": {
           "x": 0.05
          },
          "xaxis": {
           "automargin": true,
           "gridcolor": "white",
           "linecolor": "white",
           "ticks": "",
           "title": {
            "standoff": 15
           },
           "zerolinecolor": "white",
           "zerolinewidth": 2
          },
          "yaxis": {
           "automargin": true,
           "gridcolor": "white",
           "linecolor": "white",
           "ticks": "",
           "title": {
            "standoff": 15
           },
           "zerolinecolor": "white",
           "zerolinewidth": 2
          }
         }
        },
        "title": {
         "text": "PCA of Sample Data"
        }
       }
      },
      "image/png": "[encoded data removed]",
      "text/html": [
       "<div>                            <div id=\"014ff3a1-0482-4952-b2ef-423ce216ae12\" class=\"plotly-graph-div\" style=\"height:525px; width:100%;\"></div>            <script type=\"text/javascript\">                require([\"plotly\"], function(Plotly) {                    window.PLOTLYENV=window.PLOTLYENV || {};                                    if (document.getElementById(\"014ff3a1-0482-4952-b2ef-423ce216ae12\")) {                    Plotly.newPlot(                        \"014ff3a1-0482-4952-b2ef-423ce216ae12\",                        [{\"marker\":{\"color\":[0.21278510652491447,0.48241030711809463,1.1899629628593462,-0.7696575078261174,0.382605270275111,-0.13844260891178026,-0.3819996015619827,0.21732476907591303,-0.5494921993916607,1.677528153760346,0.6731484658768223,-0.9862718483205427,1.1111592589193853,0.8244478547132407,0.9141477906878416,-1.015568707981104,0.570275265330184,-0.17448760250257478,0.43117983215809413,-0.3679026254272859,-0.2802131900602395,-1.178966939763866,-0.03198786956864258,5.657726750124446,1.5194949471978851,-0.22541966249102832,-1.0838631015262268,-1.1580455788735442,3.4243439917358485,-0.8289534514944923,0.17256480313094386,-0.7522072532096344,-1.0304586265553137,-0.365552313316896,-1.1321431198513225,0.13137238695213266,0.007240389128217405,0.9636428277175829,1.5885339367245963,-0.7290418911134848,0.23009193044822357,-0.15835499822700017,0.8074702924433225,1.928059899588083,0.2257529047676061,3.099487322564913,1.9317511554993527,10.043674144393618,0.45031054416633626,3.676181795220091,-0.9005487371699369,-0.5626721148929142,-0.26250469483211,0.6671027118781876,-0.9880974901098415,-0.5280950795755458,4.703244442337125,0.9438009582546544,-1.1543417328771595,-0.024497741838743183,-0.29064982372583487,8.650205150034576,0.014190930677143436,1.4608787237645975,-0.8901334620698061,5.926946127104616,-0.560961661765481,0.6039617311816788,-0.1361165139477634,-1.119975792712253,-0.8225996276836842,2.5502442452516436,-0.7075019743332916,-0.264259290241372,0.07075112324657018,-1.212269579685743,-0.5944693962544036,2.7962040913471005,-1.2143661029205721,-0.6776087085142811,-1.122253351979364,1.0127859860095816,0.6388208623004509,-1.052723741414198,-0.48472308374366363,11.473490959355724,7.369051046132587,1.7981426784928065,-1.1059811804557185,-0.2938804986300667,-1.2704764292291006,-0.8183248471433934,5.544615828343832,-0.4065326337204948,0.7371476221129397,-0.7963225373396312,-0.35995822192658244,-1.4662152961479942,-1.454865015890932,-1.1031117181408165,1.237954711062776,1.3676883670823285,0.18891700231358163,0.16615067957616073,-0.8600306540773548,-0.9466468930434162,0.6635803657561324,1.4927193632113056,0.010254812770999667,1.6794938139759599,-0.9981759434771418,1.4199562115615874,-0.5871957418329423,-0.893436377139253,-1.060856086518744,-1.1173709451602198,-1.0246489643883285,-0.6677169944638942,-0.9566489786043566,-1.0462224411021506,-0.9788388440978167,-1.101726341846232,-1.332578285764167,0.140624781142696,-0.7834227844042371,-0.2124808494264644,-1.0518559884926229,0.4293424293754399,-0.5020913732831954,-0.9220759892288086,-1.0568027205657964,-1.420501277641222,-1.026371670710934,-1.2697164274691704,-1.1528236562615408,-1.1843067060181818,0.11680243363236494,-0.2989045429941312,-0.35810354326371546,-0.7220377636161739,-0.1925974545323216,0.11454596705349662,-0.3265222754970888,-1.1499441443529694,-0.9910035322977784,3.4387621749110897,-1.1447533123067708,-0.8768143671605549,-1.3161730379218772,-1.0047136748816494,-1.0634200672130785,-0.8702750979754525,-1.0891085826319995,-0.39878364552969686,-1.530837012930707,2.141808996899132,1.0339970418606963,-1.0450375830780378,0.2819884405340954,0.9412159658085757,0.3713508846974401,-1.1167571479059202,-0.9632692882665148,3.0288038262294235,0.07368924845651668,1.926106894593596,0.6641252721586979,-0.7913868063608358,-1.3382283160857187,-1.2004667697435472,0.8255566524999299,3.602663727039627,-0.2817393408022606,1.5285057062205831,-0.8733527739911219,0.5366633526295361,-0.1754190454914904,-0.25828456760991597,-0.5741258092323172,-0.6171633127280147,0.0814117289400062,4.076901161103388,0.5889642806587047,6.479024067495813,-1.138518845200733,-0.8904007403010499,-1.1981773001385212,0.15165808425439417,0.6678170595948446,0.8029421773380382,-0.7940487223207536,-1.3695376218226616,-1.1905306860905622,0.7483190880676945,-1.0470694500124917,-0.4006960555226798,0.09695787072001932,0.3764410825369449,-0.7118419826003379,-1.1077872056056897,2.2205377986321517,3.0339834661779617,1.0856078430993428,-1.2379314655527676,-0.9377227189627696,2.015132502935967,-1.3256615302165862,-0.13950053248967223,-0.36666945060358747,2.046541867777943,-0.9076181685265229,5.8502901120364825,-1.0212963673345459,0.04327059814780918,0.483038975866377,1.2928948348660267,3.6585341530411606,-1.0419440278276142,1.4677518684343014,-1.3680997211657755,-1.2135389769294556,0.22931481458496936,-1.1098037193039265,-0.6717059513903711,-1.2692450825745323,-0.7892951218023356,0.08913371087238695,-1.1155164037894816,-0.8814074728181335,-0.8644776032589034,-0.19933229283082324,-0.21359423926926163,-0.9276768487609819,-0.8950907946332582,-0.6006102767345785,-0.679821882098253,-1.1630602961825824,-0.9326780793921916,-1.4013451387606644,-0.4913721770645635,-0.23812595340547707,-0.9548849037245,-1.0691484671519105,-0.37132191698140354,0.40717452028751405,1.2352782242651796,-1.066729702081609,-1.3276506380137796,-0.7881795333496175,-0.8915929247302169,-1.1252293094427397,5.296232190231089,-0.7423375630163218,0.4770189751883545,0.8611994004210792,-1.1832587012500282,-0.6928535773360461,-0.6538926833639342,-0.2608350864786281,-0.2768309230301648,-0.8356931982851912,-1.2555160802902716,-1.1102493628098558,-0.6023859061522071,1.040558571963709,1.8659892771465387,1.5545305517954764,-0.5798239411213282,1.200898599889183,-1.3165770528482448,-1.308262761875447,-0.8062917265299439,-0.3057475563101041,-0.7693483442764566,-1.038196902901771,-1.3341848439329085,-0.2580059188020322,-1.1572267633682018,-0.8809613675335664,0.26966084437106785,-0.9742622279935715,0.007281211704841481,-0.43983933988637364,-0.7257256909228746,0.32378271927205265,-1.0816365551382103,-1.1004041705019605,-0.8856675389006163,-1.273117688222214,-1.3407586762558075,-0.8723421032777843,-0.9173897158847097,-0.7439703127337864,0.9008231012419322,-0.5435001987264694,-0.755354512781342,-0.9173035324464055,-0.32151283034824346,0.12930814866736,-1.2761253455883985,-0.013382911740195283,1.8222463522945407,0.2810530040455989,0.7775054802358718,2.287373091620242,0.4917775260741224,1.9274425773524593,-0.9465288989199875,-1.1297330101883478,1.812847880397723,-0.9417579094267624,-0.6624175423567503,1.939665977218959,-1.1871676079240618,-0.6033428012252358,1.3190332551638517,-1.092601734438597,-0.5813480985598971,-0.9687337640167305,3.1865707233768243,-0.9574312451345419,-0.8338133446214868,-0.9972264446225554,-0.4178008407560719,-0.8376733524778415,2.003390927783869,-1.1216307730016606,-1.2829409286904943,-0.7889553749053937,-0.9155550087990882,-0.8510083890881661,2.5944033703199794,-0.7217707998144359,7.630055249967244,-0.5975174783465855,0.5340875930759684,-1.1686062781554505,-0.9950009226471175,-0.8459475978764804,-0.6730829400374456,0.4031013800319905,0.5193400989147855,-0.011847755910280722,2.437258347241566,-1.2359403664788235,-0.3322278773202051,0.9155215302543473,0.5706011850278536,-0.9823464837181615,2.3699327312088148,-1.1457557548250399,2.5460029582877994,-1.3179157814339286,1.425490148095317,-0.2221336661804461,-1.322943301508907,-1.3417085564676008,0.7431897030945129,0.7079645628580046,-0.8182145124436373,-0.9867296482126322,-1.343809694339186,-1.1348230465522136,-0.9772910988725313,-1.239823278453448,0.4229470508642529,-1.1410280258811492,-1.3425999804655064,-1.1215805484276522,-1.4016498150368977,-0.4107655564820538,-0.9419568606660662,-0.38994570323209465,0.13037342170479757,-1.1003011923675774,-1.274657508752814,0.7767358497296105,-0.8151959333546382,-0.9931676099781273,-0.3612149104228298,-1.105525609067716,-0.8349354756695502,0.30524460076971915,-1.083212427481263,1.9481129808786508,-1.1375667464534525,-0.8866262645458889,-1.051244698539848,-1.2803813129094628,-1.157108816640224,-1.1297674565270335,-0.8981599994163213,-0.8826070174856425,-0.46647728505129227,-1.1442760716211093,-1.1708139917485219,0.7094909280365562,-1.112312366101321,-1.2993692488328188,-1.2913817071707452,-1.1878909480645412,-0.6987551863735153,-0.7240671112305093,-0.2137788259953035,-0.6689195236215819,-1.2301255519329974,-0.4072329345385495,1.6501556362492007,-0.441984296304783,0.14955606933044852,-0.5795694910231926,-0.41014317015396423,-0.13847791290979075,-0.11030938702601208,-0.9338994336195834,0.1722705305177824,0.9149165804402482,0.1435525300448749,1.1655746237517841,-0.6832137505694996,0.6845792869997045,0.107172160195723,-0.8034393867457064,-0.6026230104809747,-0.08901459755046978,-0.7298485223940508,0.9998857765574709,0.5428195425974655,-0.604622341938504,-0.7895464967987733,0.1621991677120706,-0.2671180142444157,-0.8807471442553149,-0.9355083978671107,-0.2905659641177966,0.9534813935838378,-0.8730612563971266,3.565120502616256,-0.8866315772991559,-1.1876544456620448],\"colorscale\":[[0.0,\"#30123b\"],[0.07142857142857142,\"#4145ab\"],[0.14285714285714285,\"#4675ed\"],[0.21428571428571427,\"#39a2fc\"],[0.2857142857142857,\"#1bcfd4\"],[0.35714285714285715,\"#24eca6\"],[0.42857142857142855,\"#61fc6c\"],[0.5,\"#a4fc3b\"],[0.5714285714285714,\"#d1e834\"],[0.6428571428571429,\"#f3c63a\"],[0.7142857142857143,\"#fe9b2d\"],[0.7857142857142857,\"#f36315\"],[0.8571428571428571,\"#d93806\"],[0.9285714285714286,\"#b11901\"],[1.0,\"#7a0402\"]],\"opacity\":0.8,\"size\":8},\"mode\":\"markers\",\"x\":[0.21278510652491447,0.48241030711809463,1.1899629628593462,-0.7696575078261174,0.382605270275111,-0.13844260891178026,-0.3819996015619827,0.21732476907591303,-0.5494921993916607,1.677528153760346,0.6731484658768223,-0.9862718483205427,1.1111592589193853,0.8244478547132407,0.9141477906878416,-1.015568707981104,0.570275265330184,-0.17448760250257478,0.43117983215809413,-0.3679026254272859,-0.2802131900602395,-1.178966939763866,-0.03198786956864258,5.657726750124446,1.5194949471978851,-0.22541966249102832,-1.0838631015262268,-1.1580455788735442,3.4243439917358485,-0.8289534514944923,0.17256480313094386,-0.7522072532096344,-1.0304586265553137,-0.365552313316896,-1.1321431198513225,0.13137238695213266,0.007240389128217405,0.9636428277175829,1.5885339367245963,-0.7290418911134848,0.23009193044822357,-0.15835499822700017,0.8074702924433225,1.928059899588083,0.2257529047676061,3.099487322564913,1.9317511554993527,10.043674144393618,0.45031054416633626,3.676181795220091,-0.9005487371699369,-0.5626721148929142,-0.26250469483211,0.6671027118781876,-0.9880974901098415,-0.5280950795755458,4.703244442337125,0.9438009582546544,-1.1543417328771595,-0.024497741838743183,-0.29064982372583487,8.650205150034576,0.014190930677143436,1.4608787237645975,-0.8901334620698061,5.926946127104616,-0.560961661765481,0.6039617311816788,-0.1361165139477634,-1.119975792712253,-0.8225996276836842,2.5502442452516436,-0.7075019743332916,-0.264259290241372,0.07075112324657018,-1.212269579685743,-0.5944693962544036,2.7962040913471005,-1.2143661029205721,-0.6776087085142811,-1.122253351979364,1.0127859860095816,0.6388208623004509,-1.052723741414198,-0.48472308374366363,11.473490959355724,7.369051046132587,1.7981426784928065,-1.1059811804557185,-0.2938804986300667,-1.2704764292291006,-0.8183248471433934,5.544615828343832,-0.4065326337204948,0.7371476221129397,-0.7963225373396312,-0.35995822192658244,-1.4662152961479942,-1.454865015890932,-1.1031117181408165,1.237954711062776,1.3676883670823285,0.18891700231358163,0.16615067957616073,-0.8600306540773548,-0.9466468930434162,0.6635803657561324,1.4927193632113056,0.010254812770999667,1.6794938139759599,-0.9981759434771418,1.4199562115615874,-0.5871957418329423,-0.893436377139253,-1.060856086518744,-1.1173709451602198,-1.0246489643883285,-0.6677169944638942,-0.9566489786043566,-1.0462224411021506,-0.9788388440978167,-1.101726341846232,-1.332578285764167,0.140624781142696,-0.7834227844042371,-0.2124808494264644,-1.0518559884926229,0.4293424293754399,-0.5020913732831954,-0.9220759892288086,-1.0568027205657964,-1.420501277641222,-1.026371670710934,-1.2697164274691704,-1.1528236562615408,-1.1843067060181818,0.11680243363236494,-0.2989045429941312,-0.35810354326371546,-0.7220377636161739,-0.1925974545323216,0.11454596705349662,-0.3265222754970888,-1.1499441443529694,-0.9910035322977784,3.4387621749110897,-1.1447533123067708,-0.8768143671605549,-1.3161730379218772,-1.0047136748816494,-1.0634200672130785,-0.8702750979754525,-1.0891085826319995,-0.39878364552969686,-1.530837012930707,2.141808996899132,1.0339970418606963,-1.0450375830780378,0.2819884405340954,0.9412159658085757,0.3713508846974401,-1.1167571479059202,-0.9632692882665148,3.0288038262294235,0.07368924845651668,1.926106894593596,0.6641252721586979,-0.7913868063608358,-1.3382283160857187,-1.2004667697435472,0.8255566524999299,3.602663727039627,-0.2817393408022606,1.5285057062205831,-0.8733527739911219,0.5366633526295361,-0.1754190454914904,-0.25828456760991597,-0.5741258092323172,-0.6171633127280147,0.0814117289400062,4.076901161103388,0.5889642806587047,6.479024067495813,-1.138518845200733,-0.8904007403010499,-1.1981773001385212,0.15165808425439417,0.6678170595948446,0.8029421773380382,-0.7940487223207536,-1.3695376218226616,-1.1905306860905622,0.7483190880676945,-1.0470694500124917,-0.4006960555226798,0.09695787072001932,0.3764410825369449,-0.7118419826003379,-1.1077872056056897,2.2205377986321517,3.0339834661779617,1.0856078430993428,-1.2379314655527676,-0.9377227189627696,2.015132502935967,-1.3256615302165862,-0.13950053248967223,-0.36666945060358747,2.046541867777943,-0.9076181685265229,5.8502901120364825,-1.0212963673345459,0.04327059814780918,0.483038975866377,1.2928948348660267,3.6585341530411606,-1.0419440278276142,1.4677518684343014,-1.3680997211657755,-1.2135389769294556,0.22931481458496936,-1.1098037193039265,-0.6717059513903711,-1.2692450825745323,-0.7892951218023356,0.08913371087238695,-1.1155164037894816,-0.8814074728181335,-0.8644776032589034,-0.19933229283082324,-0.21359423926926163,-0.9276768487609819,-0.8950907946332582,-0.6006102767345785,-0.679821882098253,-1.1630602961825824,-0.9326780793921916,-1.4013451387606644,-0.4913721770645635,-0.23812595340547707,-0.9548849037245,-1.0691484671519105,-0.37132191698140354,0.40717452028751405,1.2352782242651796,-1.066729702081609,-1.3276506380137796,-0.7881795333496175,-0.8915929247302169,-1.1252293094427397,5.296232190231089,-0.7423375630163218,0.4770189751883545,0.8611994004210792,-1.1832587012500282,-0.6928535773360461,-0.6538926833639342,-0.2608350864786281,-0.2768309230301648,-0.8356931982851912,-1.2555160802902716,-1.1102493628098558,-0.6023859061522071,1.040558571963709,1.8659892771465387,1.5545305517954764,-0.5798239411213282,1.200898599889183,-1.3165770528482448,-1.308262761875447,-0.8062917265299439,-0.3057475563101041,-0.7693483442764566,-1.038196902901771,-1.3341848439329085,-0.2580059188020322,-1.1572267633682018,-0.8809613675335664,0.26966084437106785,-0.9742622279935715,0.007281211704841481,-0.43983933988637364,-0.7257256909228746,0.32378271927205265,-1.0816365551382103,-1.1004041705019605,-0.8856675389006163,-1.273117688222214,-1.3407586762558075,-0.8723421032777843,-0.9173897158847097,-0.7439703127337864,0.9008231012419322,-0.5435001987264694,-0.755354512781342,-0.9173035324464055,-0.32151283034824346,0.12930814866736,-1.2761253455883985,-0.013382911740195283,1.8222463522945407,0.2810530040455989,0.7775054802358718,2.287373091620242,0.4917775260741224,1.9274425773524593,-0.9465288989199875,-1.1297330101883478,1.812847880397723,-0.9417579094267624,-0.6624175423567503,1.939665977218959,-1.1871676079240618,-0.6033428012252358,1.3190332551638517,-1.092601734438597,-0.5813480985598971,-0.9687337640167305,3.1865707233768243,-0.9574312451345419,-0.8338133446214868,-0.9972264446225554,-0.4178008407560719,-0.8376733524778415,2.003390927783869,-1.1216307730016606,-1.2829409286904943,-0.7889553749053937,-0.9155550087990882,-0.8510083890881661,2.5944033703199794,-0.7217707998144359,7.630055249967244,-0.5975174783465855,0.5340875930759684,-1.1686062781554505,-0.9950009226471175,-0.8459475978764804,-0.6730829400374456,0.4031013800319905,0.5193400989147855,-0.011847755910280722,2.437258347241566,-1.2359403664788235,-0.3322278773202051,0.9155215302543473,0.5706011850278536,-0.9823464837181615,2.3699327312088148,-1.1457557548250399,2.5460029582877994,-1.3179157814339286,1.425490148095317,-0.2221336661804461,-1.322943301508907,-1.3417085564676008,0.7431897030945129,0.7079645628580046,-0.8182145124436373,-0.9867296482126322,-1.343809694339186,-1.1348230465522136,-0.9772910988725313,-1.239823278453448,0.4229470508642529,-1.1410280258811492,-1.3425999804655064,-1.1215805484276522,-1.4016498150368977,-0.4107655564820538,-0.9419568606660662,-0.38994570323209465,0.13037342170479757,-1.1003011923675774,-1.274657508752814,0.7767358497296105,-0.8151959333546382,-0.9931676099781273,-0.3612149104228298,-1.105525609067716,-0.8349354756695502,0.30524460076971915,-1.083212427481263,1.9481129808786508,-1.1375667464534525,-0.8866262645458889,-1.051244698539848,-1.2803813129094628,-1.157108816640224,-1.1297674565270335,-0.8981599994163213,-0.8826070174856425,-0.46647728505129227,-1.1442760716211093,-1.1708139917485219,0.7094909280365562,-1.112312366101321,-1.2993692488328188,-1.2913817071707452,-1.1878909480645412,-0.6987551863735153,-0.7240671112305093,-0.2137788259953035,-0.6689195236215819,-1.2301255519329974,-0.4072329345385495,1.6501556362492007,-0.441984296304783,0.14955606933044852,-0.5795694910231926,-0.41014317015396423,-0.13847791290979075,-0.11030938702601208,-0.9338994336195834,0.1722705305177824,0.9149165804402482,0.1435525300448749,1.1655746237517841,-0.6832137505694996,0.6845792869997045,0.107172160195723,-0.8034393867457064,-0.6026230104809747,-0.08901459755046978,-0.7298485223940508,0.9998857765574709,0.5428195425974655,-0.604622341938504,-0.7895464967987733,0.1621991677120706,-0.2671180142444157,-0.8807471442553149,-0.9355083978671107,-0.2905659641177966,0.9534813935838378,-0.8730612563971266,3.565120502616256,-0.8866315772991559,-1.1876544456620448],\"y\":[-0.3388737335012512,-0.3340223107639474,1.2126531232669409,0.766926510251036,1.6006967928018587,-0.3263417577903503,-0.6018021972678749,-0.1800179260604221,-0.7523192292058445,-0.746479705560451,-0.37842555683275514,-0.27536643720613985,0.8398603840003728,-0.07837599002915757,0.22939961473256082,-0.5880530215239668,-1.1329625730897777,0.3617691544667514,0.5912270838082948,-0.8006237709583803,0.21714471248017064,-0.28149956049364677,2.5569966426721935,4.66583361453335,1.3991655998124406,-0.6187496010057607,-0.054923137790430614,-0.30761864528652755,-0.15488474653050407,1.17232484443221,0.3862513998629524,-0.5084645638761611,-0.061207221736408295,1.3152118318483437,-0.9346913715919333,-1.2089012470173808,1.5578979535984923,-0.40447561836848356,-1.2718337523563297,3.6093717113886723,2.6948619910555878,0.5431667495932209,-1.107446618250976,-1.7370675610058344,-0.9190351014296699,0.07760198911071807,-0.949884285276708,2.0195653350844744,-0.5253351468145472,-1.313285894958766,0.19811861567320765,-1.0088908432387076,0.965433885554615,-1.3113152160370207,0.7948025966471995,-0.5987848977624137,-1.2951947787306353,-1.0199063852341894,-0.3072751879540414,-0.6635128367522685,-0.9655616210496737,-0.47322845009368086,-0.18437172119407377,-0.4949697205675693,-0.19230510539672807,-2.5719970130238585,-1.3757615601628146,-0.2321680666080036,0.5585674443073655,-0.6125316578758936,1.4766361278054898,3.482376187838694,0.34047704843623294,1.0020445338459132,-0.31384710946898897,0.7068226841105123,0.1150321639628137,-1.1494883297488752,-0.3165496267470526,-0.6054218321599799,-0.6765826810604477,-1.5799566801460772,-0.23150870234385912,0.32720281304808074,-0.6190579494817583,-2.2820466720162096,-0.6890892519338145,5.129136099721457,0.5833053847258578,1.2340588277871736,-0.047345714246171476,0.9442839804766969,-0.2157805616220307,5.073286891418414,-1.0932345131531696,-0.9652629547253685,-1.3547418123379917,-0.9852755720315949,-0.9507201990330915,0.19533003622556744,0.07977407504831664,-0.886568441683932,-0.5791395228035181,4.48948822179525,-0.2535491023399317,0.009197485206436476,-1.057265359073335,-0.613692834801933,-0.8705076669913299,-1.2899646036048602,0.1368076192075944,-0.5605873855812671,1.6558027035958838,0.35647779110971817,0.3647079497679735,-0.12001212285702989,-0.37423467687632633,-0.3395338233963962,0.7630090296563263,-0.048143691700390186,0.24803389668595982,-0.5328608617874857,-0.06190459929157891,-0.3870972924499796,1.5765487387628843,4.834272620634155,1.0374398614640645,0.44945207766034495,-1.1186711981690058,1.4960107926099644,0.331460503797875,-0.9002904223761138,-0.33584917352580823,-0.5461288128085358,-0.5610073124664146,-0.619347508018727,-0.02795782223123117,-0.960086063978446,0.27827020625266274,-0.561282420981805,0.5385870104194376,0.7406615386450377,0.969642934932068,0.6249956882389516,-0.20207435599702736,-0.1514479960840717,-0.518837594085915,-0.4467939612795625,-0.17671171026603683,0.8038400982262289,-0.0034263199640003337,-0.5631548310304442,0.17417795266494165,-0.40928625161848825,-1.0807212841996632,-1.2876715353143122,-0.6607700644372692,0.22164726204602087,-0.7432222426030143,-1.5586322120110527,-0.7989098869800094,0.15843476321399627,0.06242712916264244,-1.414360426015587,-0.7101946842299781,0.25342038603669287,-0.2096996942558683,-0.8662784547080398,-0.5559608090771597,-0.37299314415741175,-1.3684958609746798,-0.010273887746077232,-1.0549680470313432,-1.5491267295277413,-0.47398333862282055,-0.9223283416495286,1.9951526358871137,0.36701161120048553,-0.3602229380448125,0.19189219560295934,0.03914001557162784,6.597056249510479,-1.43494050848848,10.60302050347907,-1.175044168078084,-0.32293729450290726,-0.3651492088054537,-0.366373866192961,-0.726137474899948,-0.8683221250208398,0.7585969477831277,-0.36142352099201003,-0.7172537040830042,-1.3991026323395426,-0.45240550859097567,1.1801481664190505,3.638925444410858,-0.8107202505240009,-0.020601412790394895,-0.544017939082474,-0.9983208144858398,-0.999049674995131,2.398914348575581,-1.1008190184847413,-0.581643282002451,-1.5084059229019349,-0.6517593065921671,-0.8831592081896447,-0.8209423517436814,-1.3438861647716625,0.49562334266892427,-0.5556520385654775,-0.19937946363894637,-0.7323200393411328,-1.1185098883751754,-0.6582327985514785,-1.9328199661475758,0.3377960583399603,0.19778631540744274,-0.5882812280166791,-0.015877481955475947,-1.1130886154586983,0.23162904653991476,0.04527887738234758,-0.5305485218640265,-0.3190070933785925,0.2520781604141379,-0.45328336176856765,-1.1058907268224565,0.45266145708235406,1.0285022097731213,-0.7199073827114638,0.3211634937952731,-0.9625554993052955,0.7886420239095685,-0.8324271334900771,-0.39566529859120864,0.7359861346999679,-0.5749245553104942,2.305886042934669,2.0734967158336755,0.566326109487782,0.3329954427473534,-0.06945486795164398,-0.44224859537037536,-0.90186430203021,-0.3308255298850368,-0.039029527155231496,-0.18734401451841703,0.1894450802569111,-0.5716991603451528,0.09052474396837094,0.6336952358582342,0.4439811893842707,0.8567080024311041,0.936235192376099,-0.5023693022527658,0.02841101260201404,3.1859653368015084,1.8620959659192,-0.5387568679766708,0.2827254103802446,0.22367562481585446,-0.550101813842705,-1.2185050678962597,1.477157670573922,-0.6631574406961435,1.2354847954464936,-0.8175284885248053,-0.037253775593425555,-0.11487986497951871,-0.4660744904467437,-0.7949866653175932,1.7171534578460201,-0.7432994433190828,-0.8648188154782545,1.3221267774076162,1.722906753830945,0.5722243122693339,0.006448801511994024,-0.5726435499145428,-0.03903447509730594,2.271450156363718,1.8775707854126724,3.7158109724909316,0.8269637097936948,-0.5874979224237787,0.9974255424112303,-0.2197906820755457,1.0626563204896942,-0.622867077852075,-0.3428323855462215,-0.2611708842121274,-1.0266215897985749,0.3222924733739025,-0.8282583081665578,0.3381143564067616,-0.6835217875906029,-0.7740365098820234,-1.0378605815549418,0.07086743760171799,-1.2286049885808603,-1.233189612310018,-1.635185750738486,-1.3836833004936968,-1.1589083323899276,-0.7942603290604089,0.03437614373846143,-0.6275579513526857,-1.03925159533038,1.2407283064693548,0.5923029172061512,-1.9860233646007046,0.004838160118734136,-0.26337651055535344,-0.34398032882470947,-0.1727222401115767,-0.6352645224953344,-0.3227182217213681,-0.7943895140505515,-0.7736509461370945,-0.10993997163856911,0.07897112560286244,-0.493946746486209,0.6810682483801461,6.669808005352499,-0.23768328979546574,-0.9303830746938142,1.1218279200460557,-0.05197604699928173,0.027346804932935103,-0.9404923751155417,0.8668584194939887,-3.464597370083971,2.114786768118538,0.5324100227374784,-0.20265215111415036,0.6447119734781466,1.1406181616759754,0.7449130928602368,-1.2137778567621795,-0.771679578941415,-1.015012704562213,-1.9980796059932553,-0.5940723899422882,-1.244368699186337,-0.8622268697265479,0.43313798651633617,-0.677885988537248,-1.2752577273113737,-0.48658099789131426,-0.9762863508802173,-0.9433239937109461,-1.5479245973701834,0.9816558854019924,-1.079691770533691,0.5156046362044393,-1.7738616226116997,0.9289808664539875,-0.8304821571025917,0.2639497961697697,-0.645056465978492,-0.800017408701066,-0.9333369993017909,-0.7694882041689599,-0.21918392079625876,-0.41502003632043455,-0.6795253397808918,0.3138642575492206,-0.6134848940772281,1.3950356034403177,1.1253400800723616,0.35492853164887483,0.3983957589205931,-0.46497567470760093,-0.7756200555432596,-0.19495297646210655,1.1158456617346946,-0.6583885887516545,-1.0253610072453636,0.7561436405761675,1.2650106487998471,1.3983423621459368,-0.43567928054586763,1.1111896879585963,0.023653489113865278,-0.576642915518498,0.3478039711205856,-0.34758635640442115,-0.10440709862303811,0.04195308387964199,-0.4352860798331744,-0.8628056830055739,1.399008976374499,-0.2854856479783543,-0.23699848700966356,-0.19742540263184125,0.5670096660980188,0.2406020812367076,-0.38749674985908134,-0.1728344541074494,2.4888951028926187,0.1931223787131297,0.16304629956125305,0.45624458187651634,-0.4517238236699362,1.5954064453462797,-0.8206304640638479,-0.6251998164515159,0.6999565101370238,-0.3025367000145274,0.23197357712833502,-1.4052617754508818,2.1608794317468076,-0.053305113135297504,-0.3199381801125485,-0.9730907687222428,-0.8791657763513283,-1.450004554419563,-0.3283327190033121,-1.0908112710003361,-0.02236913483676695,0.41761503018429913,-0.12309508639556262,-0.48303320527516935,2.0384413222930298,-0.0015316193634770142,2.8262591096015015,-0.6483511537464252,-0.14769828737589205,-0.6180552414909797,1.4746819434230896,-0.14034521244525278,-0.46365814640258896,-0.25447310654920563,2.53769826932841,1.9155706767556682,-1.042640015162147,2.3460090390863464e-05,-1.0168288321092804],\"z\":[-0.17263147841738866,0.34649905020683863,2.011523893873391,0.26026601762527035,0.3536226535367416,0.1461375701905166,-0.41341528963886814,0.4565533260551265,0.113802202506715,0.2020240631348969,0.5252111738047253,-0.3386190806624116,-1.0875465960521857,-1.068955738045301,-0.8991415048133937,-0.22901436587140683,0.38742020001538346,1.2350811552090228,-0.05818120674488378,-0.14666039544468296,-0.25006318116056586,0.3245975964481071,-0.17545611170544403,3.182974937244868,0.31302505857418694,-0.8510054510634094,0.08818117785482106,-0.42442606760835383,1.1043865019751222,-2.23193032906094,-0.20758702322176148,0.5685464039040574,-0.9746794202429687,-1.0239778016808476,0.3972295763381714,0.264238171029357,-0.3481641320216541,-0.6084609595608008,-0.09542975266667565,-2.0481112943924726,0.7780607945154203,-0.17779395666302458,-0.6719520472131262,-0.13662985720475807,-0.43023260836669763,1.1325458625196487,0.2689790509495645,-1.4774067571736575,-0.2177327121809906,-0.18311104865092293,0.7121233101629849,0.16062927099377264,-2.070611104980107,0.2191546027223518,-0.954841541359123,0.29796575078402315,-0.061414504050118834,0.06644396380308458,-0.37862781772555165,0.2525474135266402,-0.3318482349996568,-2.6445467311260695,0.1828268569216372,-0.09962926407262492,0.5008859973446026,-0.5165559851936552,0.20080784442504934,-0.9346888345623001,1.3524523168858966,-0.08622932338874938,0.18558347449159307,2.8046447382625503,0.5970604171369287,-0.40723266967063587,0.25468766052990227,-0.45353219802495154,0.9140767614326284,-0.7917382606327561,-0.18720122677929038,0.7080238716534946,0.03928172583490961,0.06317367782277801,0.18467219761778578,-0.688361267046619,-0.46402210873039285,-1.7498820868368432,-1.3498780704498943,1.4865930421051645,0.34919653694251,-0.2889486070726693,-0.10527216794916767,0.278362710831111,0.47634929051061065,2.2115423275355615,-0.09997413414186716,0.5444084721547425,0.23573125757985175,0.4206584287328958,0.43433917403515726,0.13190573353851895,0.21690590284689482,0.5183660859056226,0.5005756711679304,-1.8487145556616988,-0.40098124182528827,-0.2768271054090059,0.4590459528735174,-0.09173924918983865,0.5400337174503479,0.10488174103864531,0.1531176192197728,-0.34881342217962313,0.29000079852849403,-0.001024077480132594,-0.35267031804712257,-0.07981406147413174,-0.23297123703531142,0.28259141663904325,-0.4304845759002415,0.21005192841853096,-0.3554178188136144,0.3318339494973231,-0.08438795727759238,-0.25766191105846514,-1.3556591251720431,-3.5416657311017845,-0.32978364109598807,-0.41394779688041505,0.40799966837957036,-1.866886470528706,0.49997204784043203,0.3571149986428763,-0.5198081426054283,-0.11586488397439396,0.07596978152576335,0.09875138955470669,0.6478527565352593,0.1907740201525186,0.33045904206972143,0.3144366628005342,-0.055215876309661106,-1.139746485335494,-1.927892214594179,0.22654687297679463,-0.7949156898040441,-0.7548899319742687,0.056869439052224136,-0.04512248810966148,0.32165939922038356,-1.3035790446690276,-0.36415830404365995,0.8031141561952644,-0.6840505136222246,0.6968125855409322,0.3606983452595946,0.2677972527354762,0.5981066174001125,-0.5403069931063766,0.49112178814169566,0.06361292550415347,0.5903602117652846,0.21454195933518666,-0.34567105603025444,-0.42022144089633146,0.08297481218397237,-0.17182346109482366,0.8452893379338371,0.3355909076150917,0.19256140268301952,0.3370530612408627,0.18097360631557646,1.7499215575704876,0.4048448977445852,0.05318202058745468,0.8229095477886834,0.45941544755053193,-2.241054583590813,0.35161987763106056,-0.15770233137684397,1.0013994563970032,0.2235920589076695,-1.5458608567669943,0.11566300004070515,5.241418820054805,0.3157937343832817,0.09361386772019066,0.5305476943136861,0.3998008607981315,-0.2078391158449286,0.6673520649352287,-0.27762911588789635,-0.4534489315323282,0.14684640959774534,0.1629136296115171,0.2239126930686436,0.12015650927752237,0.09773492578189626,0.45874108895828547,-0.09942573282608311,-0.14279805554713498,0.06197541268501393,0.028689257290124368,0.7716327596094034,0.33055597291181826,0.624497768089667,0.02909697001919175,0.08121917915060561,0.19210879064478273,0.4424786521919408,-0.2572330049403259,-0.19712582701723153,-0.33964175998295243,0.4189295167098955,0.4007103389186937,0.19530165001115626,0.6020390394460717,-0.38570343520837386,-0.3784329658574488,1.8225585655553977,0.2601418505764518,-0.30242670068553645,-0.10593439680414829,0.5227590563371394,0.7917425369579691,0.11282009939244068,-0.25084323822243654,-0.6349122144582546,0.42454709268415053,0.20030511875211704,0.41393683636790435,0.6183807888632191,0.4602646753224905,-1.1146720380720665,0.38245391052157446,0.2228709722895633,0.407803156993258,-0.04137315150648609,-0.24350180343755046,0.019525577508717588,-1.9377986813895833,0.13812884511676685,-0.8927237387850394,-0.5149437971218292,0.2172374821387024,0.38730608235982616,0.48154387564713447,0.04964140708222768,-0.224383631384664,-0.45465118799193976,0.2587574395407218,0.45222389053868106,0.8026870714221368,0.7551911220630606,-1.3289795112743568,0.8952670581569173,-1.384274113538181,-0.24488650032395354,0.22237546752881915,-2.1167429315728157,-2.8341345850778272,-0.05320054912759546,0.30918886268509815,-0.9439828620295675,0.40512805714378286,0.3381039905446518,1.5457155542396515,0.7717086051670345,0.11913047726093644,-0.5681538353060931,-0.4493213554997501,0.38237058853705164,0.7534798897187722,0.660859276416886,-1.3054853839094518,0.6440093133409802,0.5088390707103937,-0.6371956067523862,0.7082819992608799,0.2810929333159127,-0.4313424415013837,0.5073020482179349,0.09652594230651888,-2.2220654292642665,-0.4003052673673433,-3.2343855596469644,-2.2680108261917464,0.006901165774599413,0.062367777756562215,-0.5951901075402631,-2.3623687448959765,0.593642525172335,0.2961656249157489,0.6345395441249745,0.11164249837802616,-0.5785244191373164,-0.14863989002654013,-0.5333719697132984,-0.11912732050950707,0.017410024078193052,0.42043406540839356,-0.24006984506100548,-0.26030642144051086,0.0670248325249366,-0.25206347643300747,0.3572543754451831,0.36369653040539895,0.04188789698730119,-0.47352579894958663,0.08801709486347518,0.426075734262007,0.8619263873478885,-1.4748703256667977,-0.4912104284687993,0.03315352804481814,-0.022988701861244066,1.114103710595744,0.3253310247137709,0.7180572577520747,-0.3020731448764837,-0.1739715183764651,0.5256101789056264,0.1666234429359107,-0.49039430005,-0.5013001264468027,-0.9112665665006955,1.50675940528166,0.4922272193323417,0.5034456336707047,0.062151950524062145,0.4587333840187214,0.1529607884604815,-0.5446690548338593,-0.27654438545155813,-2.1219505174235156,0.7634064577852564,-0.9889390733668396,-0.2974647838055841,0.4004415296057499,1.2742169657761089,1.1566309260054866,0.39503582739538673,0.5676415810373561,0.56072941947206,-0.4794388897099544,0.394198624887243,0.19186139541213795,0.27002216694824066,-1.258081750843682,0.3705762816106332,-0.33889609611064847,0.49702555766778184,0.5695312098375688,0.44026135917030484,0.15119569988625586,0.41713041011695434,0.40471025372680686,-0.7974332207162026,-0.11063563128712141,1.9135811558704097,0.5955799367964318,-0.6534207044780014,0.24233434052181976,0.4499481346888396,0.08375630286122632,0.37456680220508237,0.7745066164838871,-0.06283804379343957,0.3270491961889739,-0.8517394607921001,0.11360637030149959,-1.6195042034352427,-0.32712961672249874,1.4496046738988069,0.18834150568513364,0.22690865999438284,0.043631959831491304,0.601154361569923,-1.798195267730046,0.49812796282587246,0.06943296565880046,-1.239355894636362,-0.09257885422294466,-1.091256027031188,0.5367915839398003,1.2465372864114843,0.02270794984955996,0.6620195488214666,-0.6424456388170532,-0.07001198533430965,0.10352814509052627,0.7112914271117814,0.742102360996604,0.5627466494302152,-0.48651445535349064,-0.27060856227764724,-0.041423801596619236,0.7008547139451703,0.1865659667087164,-0.009189248431027905,-0.08044021088932528,0.5441001722490102,-0.20633449856531816,-1.2759994517702975,-1.1756034705116423,-0.41194346153679595,0.12363046809007967,-0.5444545530320518,-0.19332236329638564,-0.11656971041317443,1.1611057659839346,0.41662950893627715,1.4576576581035137,0.17365303277110689,1.5800269845929138,0.3128930937687344,0.2771088383643626,0.13939796779913047,0.14077042687229038,0.15632860211571498,0.19482951733305193,0.09351908462932436,-0.4086096319863334,-1.0674100360042935,-0.6240938119204554,-0.8701677795465171,0.945664666568261,-0.08908851797230175,-0.4505171355106428,0.36524364129863696,0.44793691420509796,0.5763264393624783,0.8795658961124777,-0.9857505558450955,0.7285753082116058,-0.6086024869239391,-0.3877334874952145,-1.3494623205870127,-0.8398146579727465,0.30947844857185514,0.197287162531778],\"type\":\"scatter3d\"}],                        {\"template\":{\"data\":{\"histogram2dcontour\":[{\"type\":\"histogram2dcontour\",\"colorbar\":{\"outlinewidth\":0,\"ticks\":\"\"},\"colorscale\":[[0.0,\"#0d0887\"],[0.1111111111111111,\"#46039f\"],[0.2222222222222222,\"#7201a8\"],[0.3333333333333333,\"#9c179e\"],[0.4444444444444444,\"#bd3786\"],[0.5555555555555556,\"#d8576b\"],[0.6666666666666666,\"#ed7953\"],[0.7777777777777778,\"#fb9f3a\"],[0.8888888888888888,\"#fdca26\"],[1.0,\"#f0f921\"]]}],\"choropleth\":[{\"type\":\"choropleth\",\"colorbar\":{\"outlinewidth\":0,\"ticks\":\"\"}}],\"histogram2d\":[{\"type\":\"histogram2d\",\"colorbar\":{\"outlinewidth\":0,\"ticks\":\"\"},\"colorscale\":[[0.0,\"#0d0887\"],[0.1111111111111111,\"#46039f\"],[0.2222222222222222,\"#7201a8\"],[0.3333333333333333,\"#9c179e\"],[0.4444444444444444,\"#bd3786\"],[0.5555555555555556,\"#d8576b\"],[0.6666666666666666,\"#ed7953\"],[0.7777777777777778,\"#fb9f3a\"],[0.8888888888888888,\"#fdca26\"],[1.0,\"#f0f921\"]]}],\"heatmap\":[{\"type\":\"heatmap\",\"colorbar\":{\"outlinewidth\":0,\"ticks\":\"\"},\"colorscale\":[[0.0,\"#0d0887\"],[0.1111111111111111,\"#46039f\"],[0.2222222222222222,\"#7201a8\"],[0.3333333333333333,\"#9c179e\"],[0.4444444444444444,\"#bd3786\"],[0.5555555555555556,\"#d8576b\"],[0.6666666666666666,\"#ed7953\"],[0.7777777777777778,\"#fb9f3a\"],[0.8888888888888888,\"#fdca26\"],[1.0,\"#f0f921\"]]}],\"heatmapgl\":[{\"type\":\"heatmapgl\",\"colorbar\":{\"outlinewidth\":0,\"ticks\":\"\"},\"colorscale\":[[0.0,\"#0d0887\"],[0.1111111111111111,\"#46039f\"],[0.2222222222222222,\"#7201a8\"],[0.3333333333333333,\"#9c179e\"],[0.4444444444444444,\"#bd3786\"],[0.5555555555555556,\"#d8576b\"],[0.6666666666666666,\"#ed7953\"],[0.7777777777777778,\"#fb9f3a\"],[0.8888888888888888,\"#fdca26\"],[1.0,\"#f0f921\"]]}],\"contourcarpet\":[{\"type\":\"contourcarpet\",\"colorbar\":{\"outlinewidth\":0,\"ticks\":\"\"}}],\"contour\":[{\"type\":\"contour\",\"colorbar\":{\"outlinewidth\":0,\"ticks\":\"\"},\"colorscale\":[[0.0,\"#0d0887\"],[0.1111111111111111,\"#46039f\"],[0.2222222222222222,\"#7201a8\"],[0.3333333333333333,\"#9c179e\"],[0.4444444444444444,\"#bd3786\"],[0.5555555555555556,\"#d8576b\"],[0.6666666666666666,\"#ed7953\"],[0.7777777777777778,\"#fb9f3a\"],[0.8888888888888888,\"#fdca26\"],[1.0,\"#f0f921\"]]}],\"surface\":[{\"type\":\"surface\",\"colorbar\":{\"outlinewidth\":0,\"ticks\":\"\"},\"colorscale\":[[0.0,\"#0d0887\"],[0.1111111111111111,\"#46039f\"],[0.2222222222222222,\"#7201a8\"],[0.3333333333333333,\"#9c179e\"],[0.4444444444444444,\"#bd3786\"],[0.5555555555555556,\"#d8576b\"],[0.6666666666666666,\"#ed7953\"],[0.7777777777777778,\"#fb9f3a\"],[0.8888888888888888,\"#fdca26\"],[1.0,\"#f0f921\"]]}],\"mesh3d\":[{\"type\":\"mesh3d\",\"colorbar\":{\"outlinewidth\":0,\"ticks\":\"\"}}],\"scatter\":[{\"fillpattern\":{\"fillmode\":\"overlay\",\"size\":10,\"solidity\":0.2},\"type\":\"scatter\"}],\"parcoords\":[{\"type\":\"parcoords\",\"line\":{\"colorbar\":{\"outlinewidth\":0,\"ticks\":\"\"}}}],\"scatterpolargl\":[{\"type\":\"scatterpolargl\",\"marker\":{\"colorbar\":{\"outlinewidth\":0,\"ticks\":\"\"}}}],\"bar\":[{\"error_x\":{\"color\":\"#2a3f5f\"},\"error_y\":{\"color\":\"#2a3f5f\"},\"marker\":{\"line\":{\"color\":\"#E5ECF6\",\"width\":0.5},\"pattern\":{\"fillmode\":\"overlay\",\"size\":10,\"solidity\":0.2}},\"type\":\"bar\"}],\"scattergeo\":[{\"type\":\"scattergeo\",\"marker\":{\"colorbar\":{\"outlinewidth\":0,\"ticks\":\"\"}}}],\"scatterpolar\":[{\"type\":\"scatterpolar\",\"marker\":{\"colorbar\":{\"outlinewidth\":0,\"ticks\":\"\"}}}],\"histogram\":[{\"marker\":{\"pattern\":{\"fillmode\":\"overlay\",\"size\":10,\"solidity\":0.2}},\"type\":\"histogram\"}],\"scattergl\":[{\"type\":\"scattergl\",\"marker\":{\"colorbar\":{\"outlinewidth\":0,\"ticks\":\"\"}}}],\"scatter3d\":[{\"type\":\"scatter3d\",\"line\":{\"colorbar\":{\"outlinewidth\":0,\"ticks\":\"\"}},\"marker\":{\"colorbar\":{\"outlinewidth\":0,\"ticks\":\"\"}}}],\"scattermapbox\":[{\"type\":\"scattermapbox\",\"marker\":{\"colorbar\":{\"outlinewidth\":0,\"ticks\":\"\"}}}],\"scatterternary\":[{\"type\":\"scatterternary\",\"marker\":{\"colorbar\":{\"outlinewidth\":0,\"ticks\":\"\"}}}],\"scattercarpet\":[{\"type\":\"scattercarpet\",\"marker\":{\"colorbar\":{\"outlinewidth\":0,\"ticks\":\"\"}}}],\"carpet\":[{\"aaxis\":{\"endlinecolor\":\"#2a3f5f\",\"gridcolor\":\"white\",\"linecolor\":\"white\",\"minorgridcolor\":\"white\",\"startlinecolor\":\"#2a3f5f\"},\"baxis\":{\"endlinecolor\":\"#2a3f5f\",\"gridcolor\":\"white\",\"linecolor\":\"white\",\"minorgridcolor\":\"white\",\"startlinecolor\":\"#2a3f5f\"},\"type\":\"carpet\"}],\"table\":[{\"cells\":{\"fill\":{\"color\":\"#EBF0F8\"},\"line\":{\"color\":\"white\"}},\"header\":{\"fill\":{\"color\":\"#C8D4E3\"},\"line\":{\"color\":\"white\"}},\"type\":\"table\"}],\"barpolar\":[{\"marker\":{\"line\":{\"color\":\"#E5ECF6\",\"width\":0.5},\"pattern\":{\"fillmode\":\"overlay\",\"size\":10,\"solidity\":0.2}},\"type\":\"barpolar\"}],\"pie\":[{\"automargin\":true,\"type\":\"pie\"}]},\"layout\":{\"autotypenumbers\":\"strict\",\"colorway\":[\"#636efa\",\"#EF553B\",\"#00cc96\",\"#ab63fa\",\"#FFA15A\",\"#19d3f3\",\"#FF6692\",\"#B6E880\",\"#FF97FF\",\"#FECB52\"],\"font\":{\"color\":\"#2a3f5f\"},\"hovermode\":\"closest\",\"hoverlabel\":{\"align\":\"left\"},\"paper_bgcolor\":\"white\",\"plot_bgcolor\":\"#E5ECF6\",\"polar\":{\"bgcolor\":\"#E5ECF6\",\"angularaxis\":{\"gridcolor\":\"white\",\"linecolor\":\"white\",\"ticks\":\"\"},\"radialaxis\":{\"gridcolor\":\"white\",\"linecolor\":\"white\",\"ticks\":\"\"}},\"ternary\":{\"bgcolor\":\"#E5ECF6\",\"aaxis\":{\"gridcolor\":\"white\",\"linecolor\":\"white\",\"ticks\":\"\"},\"baxis\":{\"gridcolor\":\"white\",\"linecolor\":\"white\",\"ticks\":\"\"},\"caxis\":{\"gridcolor\":\"white\",\"linecolor\":\"white\",\"ticks\":\"\"}},\"coloraxis\":{\"colorbar\":{\"outlinewidth\":0,\"ticks\":\"\"}},\"colorscale\":{\"sequential\":[[0.0,\"#0d0887\"],[0.1111111111111111,\"#46039f\"],[0.2222222222222222,\"#7201a8\"],[0.3333333333333333,\"#9c179e\"],[0.4444444444444444,\"#bd3786\"],[0.5555555555555556,\"#d8576b\"],[0.6666666666666666,\"#ed7953\"],[0.7777777777777778,\"#fb9f3a\"],[0.8888888888888888,\"#fdca26\"],[1.0,\"#f0f921\"]],\"sequentialminus\":[[0.0,\"#0d0887\"],[0.1111111111111111,\"#46039f\"],[0.2222222222222222,\"#7201a8\"],[0.3333333333333333,\"#9c179e\"],[0.4444444444444444,\"#bd3786\"],[0.5555555555555556,\"#d8576b\"],[0.6666666666666666,\"#ed7953\"],[0.7777777777777778,\"#fb9f3a\"],[0.8888888888888888,\"#fdca26\"],[1.0,\"#f0f921\"]],\"diverging\":[[0,\"#8e0152\"],[0.1,\"#c51b7d\"],[0.2,\"#de77ae\"],[0.3,\"#f1b6da\"],[0.4,\"#fde0ef\"],[0.5,\"#f7f7f7\"],[0.6,\"#e6f5d0\"],[0.7,\"#b8e186\"],[0.8,\"#7fbc41\"],[0.9,\"#4d9221\"],[1,\"#276419\"]]},\"xaxis\":{\"gridcolor\":\"white\",\"linecolor\":\"white\",\"ticks\":\"\",\"title\":{\"standoff\":15},\"zerolinecolor\":\"white\",\"automargin\":true,\"zerolinewidth\":2},\"yaxis\":{\"gridcolor\":\"white\",\"linecolor\":\"white\",\"ticks\":\"\",\"title\":{\"standoff\":15},\"zerolinecolor\":\"white\",\"automargin\":true,\"zerolinewidth\":2},\"scene\":{\"xaxis\":{\"backgroundcolor\":\"#E5ECF6\",\"gridcolor\":\"white\",\"linecolor\":\"white\",\"showbackground\":true,\"ticks\":\"\",\"zerolinecolor\":\"white\",\"gridwidth\":2},\"yaxis\":{\"backgroundcolor\":\"#E5ECF6\",\"gridcolor\":\"white\",\"linecolor\":\"white\",\"showbackground\":true,\"ticks\":\"\",\"zerolinecolor\":\"white\",\"gridwidth\":2},\"zaxis\":{\"backgroundcolor\":\"#E5ECF6\",\"gridcolor\":\"white\",\"linecolor\":\"white\",\"showbackground\":true,\"ticks\":\"\",\"zerolinecolor\":\"white\",\"gridwidth\":2}},\"shapedefaults\":{\"line\":{\"color\":\"#2a3f5f\"}},\"annotationdefaults\":{\"arrowcolor\":\"#2a3f5f\",\"arrowhead\":0,\"arrowwidth\":1},\"geo\":{\"bgcolor\":\"white\",\"landcolor\":\"#E5ECF6\",\"subunitcolor\":\"white\",\"showland\":true,\"showlakes\":true,\"lakecolor\":\"white\"},\"title\":{\"x\":0.05},\"mapbox\":{\"style\":\"light\"}}},\"title\":{\"text\":\"PCA of Sample Data\"},\"scene\":{\"xaxis\":{\"title\":{\"text\":\"PC1\"}},\"yaxis\":{\"title\":{\"text\":\"PC2\"}},\"zaxis\":{\"title\":{\"text\":\"PC3\"}}}},                        {\"responsive\": true}                    ).then(function(){\n",
       "                            \n",
       "var gd = document.getElementById('014ff3a1-0482-4952-b2ef-423ce216ae12');\n",
       "var x = new MutationObserver(function (mutations, observer) {{\n",
       "        var display = window.getComputedStyle(gd).display;\n",
       "        if (!display || display === 'none') {{\n",
       "            console.log([gd, 'removed!']);\n",
       "            Plotly.purge(gd);\n",
       "            observer.disconnect();\n",
       "        }}\n",
       "}});\n",
       "\n",
       "// Listen for the removal of the full notebook cells\n",
       "var notebookContainer = gd.closest('#notebook-container');\n",
       "if (notebookContainer) {{\n",
       "    x.observe(notebookContainer, {childList: true});\n",
       "}}\n",
       "\n",
       "// Listen for the clearing of the current output cell\n",
       "var outputEl = gd.closest('.output');\n",
       "if (outputEl) {{\n",
       "    x.observe(outputEl, {childList: true});\n",
       "}}\n",
       "\n",
       "                        })                };                });            </script>        </div>"
      ]
     },
     "metadata": {},
     "output_type": "display_data"
    }
   ],
   "source": [
    "pca3 = PCA(n_components=3)  # Reduce to 3 dimensions for visualization\n",
    "X_pca3 = pca3.fit_transform(X_scaled)\n",
    "\n",
    "# Create a DataFrame for plotting\n",
    "df = pd.DataFrame(data=X_pca3, columns=['PC1', 'PC2','PC3'])\n",
    "\n",
    "# Plot using plotly\n",
    "fig = go.Figure(data=[go.Scatter3d(\n",
    "    x=df['PC1'],\n",
    "    y=df['PC2'],\n",
    "    z=df['PC3'],\n",
    "    mode='markers',\n",
    "    marker=dict(\n",
    "        size=8,\n",
    "        color=df['PC1'], # Set color to PC1 value for better visualization\n",
    "        colorscale='Turbo',  \n",
    "        opacity=0.8\n",
    "    )\n",
    ")])\n",
    "# Update layout\n",
    "fig.update_layout(\n",
    "    title='PCA of Sample Data',\n",
    "    scene=dict(\n",
    "        xaxis=dict(title='PC1'),\n",
    "        yaxis=dict(title='PC2'),\n",
    "        zaxis=dict(title='PC3')\n",
    "    )\n",
    ")\n",
    "\n",
    "fig.show()"
   ]
  },
  {
   "cell_type": "code",
   "execution_count": 38,
   "id": "dc334bee-18e8-465b-8eac-4042a776f5f9",
   "metadata": {},
   "outputs": [
    {
     "data": {
      "application/vnd.plotly.v1+json": {
       "config": {
        "plotlyServerURL": "https://plot.ly"
       },
       "data": [
        {
         "hovertemplate": "PC1=%{marker.color}<br>PC2=%{y}<extra></extra>",
         "legendgroup": "",
         "marker": {
          "color": [
           0.21278510652491447,
           0.48241030711809463,
           1.1899629628593462,
           -0.7696575078261174,
           0.382605270275111,
           -0.13844260891178026,
           -0.3819996015619827,
           0.21732476907591303,
           -0.5494921993916607,
           1.677528153760346,
           0.6731484658768223,
           -0.9862718483205427,
           1.1111592589193853,
           0.8244478547132407,
           0.9141477906878416,
           -1.015568707981104,
           0.570275265330184,
           -0.17448760250257478,
           0.43117983215809413,
           -0.3679026254272859,
           -0.2802131900602395,
           -1.178966939763866,
           -0.03198786956864258,
           5.657726750124446,
           1.5194949471978851,
           -0.22541966249102832,
           -1.0838631015262268,
           -1.1580455788735442,
           3.4243439917358485,
           -0.8289534514944923,
           0.17256480313094386,
           -0.7522072532096344,
           -1.0304586265553137,
           -0.365552313316896,
           -1.1321431198513225,
           0.13137238695213266,
           0.007240389128217405,
           0.9636428277175829,
           1.5885339367245963,
           -0.7290418911134848,
           0.23009193044822357,
           -0.15835499822700017,
           0.8074702924433225,
           1.928059899588083,
           0.2257529047676061,
           3.099487322564913,
           1.9317511554993527,
           10.043674144393618,
           0.45031054416633626,
           3.676181795220091,
           -0.9005487371699369,
           -0.5626721148929142,
           -0.26250469483211,
           0.6671027118781876,
           -0.9880974901098415,
           -0.5280950795755458,
           4.703244442337125,
           0.9438009582546544,
           -1.1543417328771595,
           -0.024497741838743183,
           -0.29064982372583487,
           8.650205150034576,
           0.014190930677143436,
           1.4608787237645975,
           -0.8901334620698061,
           5.926946127104616,
           -0.560961661765481,
           0.6039617311816788,
           -0.1361165139477634,
           -1.119975792712253,
           -0.8225996276836842,
           2.5502442452516436,
           -0.7075019743332916,
           -0.264259290241372,
           0.07075112324657018,
           -1.212269579685743,
           -0.5944693962544036,
           2.7962040913471005,
           -1.2143661029205721,
           -0.6776087085142811,
           -1.122253351979364,
           1.0127859860095816,
           0.6388208623004509,
           -1.052723741414198,
           -0.48472308374366363,
           11.473490959355724,
           7.369051046132587,
           1.7981426784928065,
           -1.1059811804557185,
           -0.2938804986300667,
           -1.2704764292291006,
           -0.8183248471433934,
           5.544615828343832,
           -0.4065326337204948,
           0.7371476221129397,
           -0.7963225373396312,
           -0.35995822192658244,
           -1.4662152961479942,
           -1.454865015890932,
           -1.1031117181408165,
           1.237954711062776,
           1.3676883670823285,
           0.18891700231358163,
           0.16615067957616073,
           -0.8600306540773548,
           -0.9466468930434162,
           0.6635803657561324,
           1.4927193632113056,
           0.010254812770999667,
           1.6794938139759599,
           -0.9981759434771418,
           1.4199562115615874,
           -0.5871957418329423,
           -0.893436377139253,
           -1.060856086518744,
           -1.1173709451602198,
           -1.0246489643883285,
           -0.6677169944638942,
           -0.9566489786043566,
           -1.0462224411021506,
           -0.9788388440978167,
           -1.101726341846232,
           -1.332578285764167,
           0.140624781142696,
           -0.7834227844042371,
           -0.2124808494264644,
           -1.0518559884926229,
           0.4293424293754399,
           -0.5020913732831954,
           -0.9220759892288086,
           -1.0568027205657964,
           -1.420501277641222,
           -1.026371670710934,
           -1.2697164274691704,
           -1.1528236562615408,
           -1.1843067060181818,
           0.11680243363236494,
           -0.2989045429941312,
           -0.35810354326371546,
           -0.7220377636161739,
           -0.1925974545323216,
           0.11454596705349662,
           -0.3265222754970888,
           -1.1499441443529694,
           -0.9910035322977784,
           3.4387621749110897,
           -1.1447533123067708,
           -0.8768143671605549,
           -1.3161730379218772,
           -1.0047136748816494,
           -1.0634200672130785,
           -0.8702750979754525,
           -1.0891085826319995,
           -0.39878364552969686,
           -1.530837012930707,
           2.141808996899132,
           1.0339970418606963,
           -1.0450375830780378,
           0.2819884405340954,
           0.9412159658085757,
           0.3713508846974401,
           -1.1167571479059202,
           -0.9632692882665148,
           3.0288038262294235,
           0.07368924845651668,
           1.926106894593596,
           0.6641252721586979,
           -0.7913868063608358,
           -1.3382283160857187,
           -1.2004667697435472,
           0.8255566524999299,
           3.602663727039627,
           -0.2817393408022606,
           1.5285057062205831,
           -0.8733527739911219,
           0.5366633526295361,
           -0.1754190454914904,
           -0.25828456760991597,
           -0.5741258092323172,
           -0.6171633127280147,
           0.0814117289400062,
           4.076901161103388,
           0.5889642806587047,
           6.479024067495813,
           -1.138518845200733,
           -0.8904007403010499,
           -1.1981773001385212,
           0.15165808425439417,
           0.6678170595948446,
           0.8029421773380382,
           -0.7940487223207536,
           -1.3695376218226616,
           -1.1905306860905622,
           0.7483190880676945,
           -1.0470694500124917,
           -0.4006960555226798,
           0.09695787072001932,
           0.3764410825369449,
           -0.7118419826003379,
           -1.1077872056056897,
           2.2205377986321517,
           3.0339834661779617,
           1.0856078430993428,
           -1.2379314655527676,
           -0.9377227189627696,
           2.015132502935967,
           -1.3256615302165862,
           -0.13950053248967223,
           -0.36666945060358747,
           2.046541867777943,
           -0.9076181685265229,
           5.8502901120364825,
           -1.0212963673345459,
           0.04327059814780918,
           0.483038975866377,
           1.2928948348660267,
           3.6585341530411606,
           -1.0419440278276142,
           1.4677518684343014,
           -1.3680997211657755,
           -1.2135389769294556,
           0.22931481458496936,
           -1.1098037193039265,
           -0.6717059513903711,
           -1.2692450825745323,
           -0.7892951218023356,
           0.08913371087238695,
           -1.1155164037894816,
           -0.8814074728181335,
           -0.8644776032589034,
           -0.19933229283082324,
           -0.21359423926926163,
           -0.9276768487609819,
           -0.8950907946332582,
           -0.6006102767345785,
           -0.679821882098253,
           -1.1630602961825824,
           -0.9326780793921916,
           -1.4013451387606644,
           -0.4913721770645635,
           -0.23812595340547707,
           -0.9548849037245,
           -1.0691484671519105,
           -0.37132191698140354,
           0.40717452028751405,
           1.2352782242651796,
           -1.066729702081609,
           -1.3276506380137796,
           -0.7881795333496175,
           -0.8915929247302169,
           -1.1252293094427397,
           5.296232190231089,
           -0.7423375630163218,
           0.4770189751883545,
           0.8611994004210792,
           -1.1832587012500282,
           -0.6928535773360461,
           -0.6538926833639342,
           -0.2608350864786281,
           -0.2768309230301648,
           -0.8356931982851912,
           -1.2555160802902716,
           -1.1102493628098558,
           -0.6023859061522071,
           1.040558571963709,
           1.8659892771465387,
           1.5545305517954764,
           -0.5798239411213282,
           1.200898599889183,
           -1.3165770528482448,
           -1.308262761875447,
           -0.8062917265299439,
           -0.3057475563101041,
           -0.7693483442764566,
           -1.038196902901771,
           -1.3341848439329085,
           -0.2580059188020322,
           -1.1572267633682018,
           -0.8809613675335664,
           0.26966084437106785,
           -0.9742622279935715,
           0.007281211704841481,
           -0.43983933988637364,
           -0.7257256909228746,
           0.32378271927205265,
           -1.0816365551382103,
           -1.1004041705019605,
           -0.8856675389006163,
           -1.273117688222214,
           -1.3407586762558075,
           -0.8723421032777843,
           -0.9173897158847097,
           -0.7439703127337864,
           0.9008231012419322,
           -0.5435001987264694,
           -0.755354512781342,
           -0.9173035324464055,
           -0.32151283034824346,
           0.12930814866736,
           -1.2761253455883985,
           -0.013382911740195283,
           1.8222463522945407,
           0.2810530040455989,
           0.7775054802358718,
           2.287373091620242,
           0.4917775260741224,
           1.9274425773524593,
           -0.9465288989199875,
           -1.1297330101883478,
           1.812847880397723,
           -0.9417579094267624,
           -0.6624175423567503,
           1.939665977218959,
           -1.1871676079240618,
           -0.6033428012252358,
           1.3190332551638517,
           -1.092601734438597,
           -0.5813480985598971,
           -0.9687337640167305,
           3.1865707233768243,
           -0.9574312451345419,
           -0.8338133446214868,
           -0.9972264446225554,
           -0.4178008407560719,
           -0.8376733524778415,
           2.003390927783869,
           -1.1216307730016606,
           -1.2829409286904943,
           -0.7889553749053937,
           -0.9155550087990882,
           -0.8510083890881661,
           2.5944033703199794,
           -0.7217707998144359,
           7.630055249967244,
           -0.5975174783465855,
           0.5340875930759684,
           -1.1686062781554505,
           -0.9950009226471175,
           -0.8459475978764804,
           -0.6730829400374456,
           0.4031013800319905,
           0.5193400989147855,
           -0.011847755910280722,
           2.437258347241566,
           -1.2359403664788235,
           -0.3322278773202051,
           0.9155215302543473,
           0.5706011850278536,
           -0.9823464837181615,
           2.3699327312088148,
           -1.1457557548250399,
           2.5460029582877994,
           -1.3179157814339286,
           1.425490148095317,
           -0.2221336661804461,
           -1.322943301508907,
           -1.3417085564676008,
           0.7431897030945129,
           0.7079645628580046,
           -0.8182145124436373,
           -0.9867296482126322,
           -1.343809694339186,
           -1.1348230465522136,
           -0.9772910988725313,
           -1.239823278453448,
           0.4229470508642529,
           -1.1410280258811492,
           -1.3425999804655064,
           -1.1215805484276522,
           -1.4016498150368977,
           -0.4107655564820538,
           -0.9419568606660662,
           -0.38994570323209465,
           0.13037342170479757,
           -1.1003011923675774,
           -1.274657508752814,
           0.7767358497296105,
           -0.8151959333546382,
           -0.9931676099781273,
           -0.3612149104228298,
           -1.105525609067716,
           -0.8349354756695502,
           0.30524460076971915,
           -1.083212427481263,
           1.9481129808786508,
           -1.1375667464534525,
           -0.8866262645458889,
           -1.051244698539848,
           -1.2803813129094628,
           -1.157108816640224,
           -1.1297674565270335,
           -0.8981599994163213,
           -0.8826070174856425,
           -0.46647728505129227,
           -1.1442760716211093,
           -1.1708139917485219,
           0.7094909280365562,
           -1.112312366101321,
           -1.2993692488328188,
           -1.2913817071707452,
           -1.1878909480645412,
           -0.6987551863735153,
           -0.7240671112305093,
           -0.2137788259953035,
           -0.6689195236215819,
           -1.2301255519329974,
           -0.4072329345385495,
           1.6501556362492007,
           -0.441984296304783,
           0.14955606933044852,
           -0.5795694910231926,
           -0.41014317015396423,
           -0.13847791290979075,
           -0.11030938702601208,
           -0.9338994336195834,
           0.1722705305177824,
           0.9149165804402482,
           0.1435525300448749,
           1.1655746237517841,
           -0.6832137505694996,
           0.6845792869997045,
           0.107172160195723,
           -0.8034393867457064,
           -0.6026230104809747,
           -0.08901459755046978,
           -0.7298485223940508,
           0.9998857765574709,
           0.5428195425974655,
           -0.604622341938504,
           -0.7895464967987733,
           0.1621991677120706,
           -0.2671180142444157,
           -0.8807471442553149,
           -0.9355083978671107,
           -0.2905659641177966,
           0.9534813935838378,
           -0.8730612563971266,
           3.565120502616256,
           -0.8866315772991559,
           -1.1876544456620448
          ],
          "coloraxis": "coloraxis",
          "symbol": "circle"
         },
         "mode": "markers",
         "name": "",
         "orientation": "v",
         "showlegend": false,
         "type": "scatter",
         "x": [
          0.21278510652491447,
          0.48241030711809463,
          1.1899629628593462,
          -0.7696575078261174,
          0.382605270275111,
          -0.13844260891178026,
          -0.3819996015619827,
          0.21732476907591303,
          -0.5494921993916607,
          1.677528153760346,
          0.6731484658768223,
          -0.9862718483205427,
          1.1111592589193853,
          0.8244478547132407,
          0.9141477906878416,
          -1.015568707981104,
          0.570275265330184,
          -0.17448760250257478,
          0.43117983215809413,
          -0.3679026254272859,
          -0.2802131900602395,
          -1.178966939763866,
          -0.03198786956864258,
          5.657726750124446,
          1.5194949471978851,
          -0.22541966249102832,
          -1.0838631015262268,
          -1.1580455788735442,
          3.4243439917358485,
          -0.8289534514944923,
          0.17256480313094386,
          -0.7522072532096344,
          -1.0304586265553137,
          -0.365552313316896,
          -1.1321431198513225,
          0.13137238695213266,
          0.007240389128217405,
          0.9636428277175829,
          1.5885339367245963,
          -0.7290418911134848,
          0.23009193044822357,
          -0.15835499822700017,
          0.8074702924433225,
          1.928059899588083,
          0.2257529047676061,
          3.099487322564913,
          1.9317511554993527,
          10.043674144393618,
          0.45031054416633626,
          3.676181795220091,
          -0.9005487371699369,
          -0.5626721148929142,
          -0.26250469483211,
          0.6671027118781876,
          -0.9880974901098415,
          -0.5280950795755458,
          4.703244442337125,
          0.9438009582546544,
          -1.1543417328771595,
          -0.024497741838743183,
          -0.29064982372583487,
          8.650205150034576,
          0.014190930677143436,
          1.4608787237645975,
          -0.8901334620698061,
          5.926946127104616,
          -0.560961661765481,
          0.6039617311816788,
          -0.1361165139477634,
          -1.119975792712253,
          -0.8225996276836842,
          2.5502442452516436,
          -0.7075019743332916,
          -0.264259290241372,
          0.07075112324657018,
          -1.212269579685743,
          -0.5944693962544036,
          2.7962040913471005,
          -1.2143661029205721,
          -0.6776087085142811,
          -1.122253351979364,
          1.0127859860095816,
          0.6388208623004509,
          -1.052723741414198,
          -0.48472308374366363,
          11.473490959355724,
          7.369051046132587,
          1.7981426784928065,
          -1.1059811804557185,
          -0.2938804986300667,
          -1.2704764292291006,
          -0.8183248471433934,
          5.544615828343832,
          -0.4065326337204948,
          0.7371476221129397,
          -0.7963225373396312,
          -0.35995822192658244,
          -1.4662152961479942,
          -1.454865015890932,
          -1.1031117181408165,
          1.237954711062776,
          1.3676883670823285,
          0.18891700231358163,
          0.16615067957616073,
          -0.8600306540773548,
          -0.9466468930434162,
          0.6635803657561324,
          1.4927193632113056,
          0.010254812770999667,
          1.6794938139759599,
          -0.9981759434771418,
          1.4199562115615874,
          -0.5871957418329423,
          -0.893436377139253,
          -1.060856086518744,
          -1.1173709451602198,
          -1.0246489643883285,
          -0.6677169944638942,
          -0.9566489786043566,
          -1.0462224411021506,
          -0.9788388440978167,
          -1.101726341846232,
          -1.332578285764167,
          0.140624781142696,
          -0.7834227844042371,
          -0.2124808494264644,
          -1.0518559884926229,
          0.4293424293754399,
          -0.5020913732831954,
          -0.9220759892288086,
          -1.0568027205657964,
          -1.420501277641222,
          -1.026371670710934,
          -1.2697164274691704,
          -1.1528236562615408,
          -1.1843067060181818,
          0.11680243363236494,
          -0.2989045429941312,
          -0.35810354326371546,
          -0.7220377636161739,
          -0.1925974545323216,
          0.11454596705349662,
          -0.3265222754970888,
          -1.1499441443529694,
          -0.9910035322977784,
          3.4387621749110897,
          -1.1447533123067708,
          -0.8768143671605549,
          -1.3161730379218772,
          -1.0047136748816494,
          -1.0634200672130785,
          -0.8702750979754525,
          -1.0891085826319995,
          -0.39878364552969686,
          -1.530837012930707,
          2.141808996899132,
          1.0339970418606963,
          -1.0450375830780378,
          0.2819884405340954,
          0.9412159658085757,
          0.3713508846974401,
          -1.1167571479059202,
          -0.9632692882665148,
          3.0288038262294235,
          0.07368924845651668,
          1.926106894593596,
          0.6641252721586979,
          -0.7913868063608358,
          -1.3382283160857187,
          -1.2004667697435472,
          0.8255566524999299,
          3.602663727039627,
          -0.2817393408022606,
          1.5285057062205831,
          -0.8733527739911219,
          0.5366633526295361,
          -0.1754190454914904,
          -0.25828456760991597,
          -0.5741258092323172,
          -0.6171633127280147,
          0.0814117289400062,
          4.076901161103388,
          0.5889642806587047,
          6.479024067495813,
          -1.138518845200733,
          -0.8904007403010499,
          -1.1981773001385212,
          0.15165808425439417,
          0.6678170595948446,
          0.8029421773380382,
          -0.7940487223207536,
          -1.3695376218226616,
          -1.1905306860905622,
          0.7483190880676945,
          -1.0470694500124917,
          -0.4006960555226798,
          0.09695787072001932,
          0.3764410825369449,
          -0.7118419826003379,
          -1.1077872056056897,
          2.2205377986321517,
          3.0339834661779617,
          1.0856078430993428,
          -1.2379314655527676,
          -0.9377227189627696,
          2.015132502935967,
          -1.3256615302165862,
          -0.13950053248967223,
          -0.36666945060358747,
          2.046541867777943,
          -0.9076181685265229,
          5.8502901120364825,
          -1.0212963673345459,
          0.04327059814780918,
          0.483038975866377,
          1.2928948348660267,
          3.6585341530411606,
          -1.0419440278276142,
          1.4677518684343014,
          -1.3680997211657755,
          -1.2135389769294556,
          0.22931481458496936,
          -1.1098037193039265,
          -0.6717059513903711,
          -1.2692450825745323,
          -0.7892951218023356,
          0.08913371087238695,
          -1.1155164037894816,
          -0.8814074728181335,
          -0.8644776032589034,
          -0.19933229283082324,
          -0.21359423926926163,
          -0.9276768487609819,
          -0.8950907946332582,
          -0.6006102767345785,
          -0.679821882098253,
          -1.1630602961825824,
          -0.9326780793921916,
          -1.4013451387606644,
          -0.4913721770645635,
          -0.23812595340547707,
          -0.9548849037245,
          -1.0691484671519105,
          -0.37132191698140354,
          0.40717452028751405,
          1.2352782242651796,
          -1.066729702081609,
          -1.3276506380137796,
          -0.7881795333496175,
          -0.8915929247302169,
          -1.1252293094427397,
          5.296232190231089,
          -0.7423375630163218,
          0.4770189751883545,
          0.8611994004210792,
          -1.1832587012500282,
          -0.6928535773360461,
          -0.6538926833639342,
          -0.2608350864786281,
          -0.2768309230301648,
          -0.8356931982851912,
          -1.2555160802902716,
          -1.1102493628098558,
          -0.6023859061522071,
          1.040558571963709,
          1.8659892771465387,
          1.5545305517954764,
          -0.5798239411213282,
          1.200898599889183,
          -1.3165770528482448,
          -1.308262761875447,
          -0.8062917265299439,
          -0.3057475563101041,
          -0.7693483442764566,
          -1.038196902901771,
          -1.3341848439329085,
          -0.2580059188020322,
          -1.1572267633682018,
          -0.8809613675335664,
          0.26966084437106785,
          -0.9742622279935715,
          0.007281211704841481,
          -0.43983933988637364,
          -0.7257256909228746,
          0.32378271927205265,
          -1.0816365551382103,
          -1.1004041705019605,
          -0.8856675389006163,
          -1.273117688222214,
          -1.3407586762558075,
          -0.8723421032777843,
          -0.9173897158847097,
          -0.7439703127337864,
          0.9008231012419322,
          -0.5435001987264694,
          -0.755354512781342,
          -0.9173035324464055,
          -0.32151283034824346,
          0.12930814866736,
          -1.2761253455883985,
          -0.013382911740195283,
          1.8222463522945407,
          0.2810530040455989,
          0.7775054802358718,
          2.287373091620242,
          0.4917775260741224,
          1.9274425773524593,
          -0.9465288989199875,
          -1.1297330101883478,
          1.812847880397723,
          -0.9417579094267624,
          -0.6624175423567503,
          1.939665977218959,
          -1.1871676079240618,
          -0.6033428012252358,
          1.3190332551638517,
          -1.092601734438597,
          -0.5813480985598971,
          -0.9687337640167305,
          3.1865707233768243,
          -0.9574312451345419,
          -0.8338133446214868,
          -0.9972264446225554,
          -0.4178008407560719,
          -0.8376733524778415,
          2.003390927783869,
          -1.1216307730016606,
          -1.2829409286904943,
          -0.7889553749053937,
          -0.9155550087990882,
          -0.8510083890881661,
          2.5944033703199794,
          -0.7217707998144359,
          7.630055249967244,
          -0.5975174783465855,
          0.5340875930759684,
          -1.1686062781554505,
          -0.9950009226471175,
          -0.8459475978764804,
          -0.6730829400374456,
          0.4031013800319905,
          0.5193400989147855,
          -0.011847755910280722,
          2.437258347241566,
          -1.2359403664788235,
          -0.3322278773202051,
          0.9155215302543473,
          0.5706011850278536,
          -0.9823464837181615,
          2.3699327312088148,
          -1.1457557548250399,
          2.5460029582877994,
          -1.3179157814339286,
          1.425490148095317,
          -0.2221336661804461,
          -1.322943301508907,
          -1.3417085564676008,
          0.7431897030945129,
          0.7079645628580046,
          -0.8182145124436373,
          -0.9867296482126322,
          -1.343809694339186,
          -1.1348230465522136,
          -0.9772910988725313,
          -1.239823278453448,
          0.4229470508642529,
          -1.1410280258811492,
          -1.3425999804655064,
          -1.1215805484276522,
          -1.4016498150368977,
          -0.4107655564820538,
          -0.9419568606660662,
          -0.38994570323209465,
          0.13037342170479757,
          -1.1003011923675774,
          -1.274657508752814,
          0.7767358497296105,
          -0.8151959333546382,
          -0.9931676099781273,
          -0.3612149104228298,
          -1.105525609067716,
          -0.8349354756695502,
          0.30524460076971915,
          -1.083212427481263,
          1.9481129808786508,
          -1.1375667464534525,
          -0.8866262645458889,
          -1.051244698539848,
          -1.2803813129094628,
          -1.157108816640224,
          -1.1297674565270335,
          -0.8981599994163213,
          -0.8826070174856425,
          -0.46647728505129227,
          -1.1442760716211093,
          -1.1708139917485219,
          0.7094909280365562,
          -1.112312366101321,
          -1.2993692488328188,
          -1.2913817071707452,
          -1.1878909480645412,
          -0.6987551863735153,
          -0.7240671112305093,
          -0.2137788259953035,
          -0.6689195236215819,
          -1.2301255519329974,
          -0.4072329345385495,
          1.6501556362492007,
          -0.441984296304783,
          0.14955606933044852,
          -0.5795694910231926,
          -0.41014317015396423,
          -0.13847791290979075,
          -0.11030938702601208,
          -0.9338994336195834,
          0.1722705305177824,
          0.9149165804402482,
          0.1435525300448749,
          1.1655746237517841,
          -0.6832137505694996,
          0.6845792869997045,
          0.107172160195723,
          -0.8034393867457064,
          -0.6026230104809747,
          -0.08901459755046978,
          -0.7298485223940508,
          0.9998857765574709,
          0.5428195425974655,
          -0.604622341938504,
          -0.7895464967987733,
          0.1621991677120706,
          -0.2671180142444157,
          -0.8807471442553149,
          -0.9355083978671107,
          -0.2905659641177966,
          0.9534813935838378,
          -0.8730612563971266,
          3.565120502616256,
          -0.8866315772991559,
          -1.1876544456620448
         ],
         "xaxis": "x",
         "y": [
          -0.3388737335012512,
          -0.3340223107639474,
          1.2126531232669409,
          0.766926510251036,
          1.6006967928018587,
          -0.3263417577903503,
          -0.6018021972678749,
          -0.1800179260604221,
          -0.7523192292058445,
          -0.746479705560451,
          -0.37842555683275514,
          -0.27536643720613985,
          0.8398603840003728,
          -0.07837599002915757,
          0.22939961473256082,
          -0.5880530215239668,
          -1.1329625730897777,
          0.3617691544667514,
          0.5912270838082948,
          -0.8006237709583803,
          0.21714471248017064,
          -0.28149956049364677,
          2.5569966426721935,
          4.66583361453335,
          1.3991655998124406,
          -0.6187496010057607,
          -0.054923137790430614,
          -0.30761864528652755,
          -0.15488474653050407,
          1.17232484443221,
          0.3862513998629524,
          -0.5084645638761611,
          -0.061207221736408295,
          1.3152118318483437,
          -0.9346913715919333,
          -1.2089012470173808,
          1.5578979535984923,
          -0.40447561836848356,
          -1.2718337523563297,
          3.6093717113886723,
          2.6948619910555878,
          0.5431667495932209,
          -1.107446618250976,
          -1.7370675610058344,
          -0.9190351014296699,
          0.07760198911071807,
          -0.949884285276708,
          2.0195653350844744,
          -0.5253351468145472,
          -1.313285894958766,
          0.19811861567320765,
          -1.0088908432387076,
          0.965433885554615,
          -1.3113152160370207,
          0.7948025966471995,
          -0.5987848977624137,
          -1.2951947787306353,
          -1.0199063852341894,
          -0.3072751879540414,
          -0.6635128367522685,
          -0.9655616210496737,
          -0.47322845009368086,
          -0.18437172119407377,
          -0.4949697205675693,
          -0.19230510539672807,
          -2.5719970130238585,
          -1.3757615601628146,
          -0.2321680666080036,
          0.5585674443073655,
          -0.6125316578758936,
          1.4766361278054898,
          3.482376187838694,
          0.34047704843623294,
          1.0020445338459132,
          -0.31384710946898897,
          0.7068226841105123,
          0.1150321639628137,
          -1.1494883297488752,
          -0.3165496267470526,
          -0.6054218321599799,
          -0.6765826810604477,
          -1.5799566801460772,
          -0.23150870234385912,
          0.32720281304808074,
          -0.6190579494817583,
          -2.2820466720162096,
          -0.6890892519338145,
          5.129136099721457,
          0.5833053847258578,
          1.2340588277871736,
          -0.047345714246171476,
          0.9442839804766969,
          -0.2157805616220307,
          5.073286891418414,
          -1.0932345131531696,
          -0.9652629547253685,
          -1.3547418123379917,
          -0.9852755720315949,
          -0.9507201990330915,
          0.19533003622556744,
          0.07977407504831664,
          -0.886568441683932,
          -0.5791395228035181,
          4.48948822179525,
          -0.2535491023399317,
          0.009197485206436476,
          -1.057265359073335,
          -0.613692834801933,
          -0.8705076669913299,
          -1.2899646036048602,
          0.1368076192075944,
          -0.5605873855812671,
          1.6558027035958838,
          0.35647779110971817,
          0.3647079497679735,
          -0.12001212285702989,
          -0.37423467687632633,
          -0.3395338233963962,
          0.7630090296563263,
          -0.048143691700390186,
          0.24803389668595982,
          -0.5328608617874857,
          -0.06190459929157891,
          -0.3870972924499796,
          1.5765487387628843,
          4.834272620634155,
          1.0374398614640645,
          0.44945207766034495,
          -1.1186711981690058,
          1.4960107926099644,
          0.331460503797875,
          -0.9002904223761138,
          -0.33584917352580823,
          -0.5461288128085358,
          -0.5610073124664146,
          -0.619347508018727,
          -0.02795782223123117,
          -0.960086063978446,
          0.27827020625266274,
          -0.561282420981805,
          0.5385870104194376,
          0.7406615386450377,
          0.969642934932068,
          0.6249956882389516,
          -0.20207435599702736,
          -0.1514479960840717,
          -0.518837594085915,
          -0.4467939612795625,
          -0.17671171026603683,
          0.8038400982262289,
          -0.0034263199640003337,
          -0.5631548310304442,
          0.17417795266494165,
          -0.40928625161848825,
          -1.0807212841996632,
          -1.2876715353143122,
          -0.6607700644372692,
          0.22164726204602087,
          -0.7432222426030143,
          -1.5586322120110527,
          -0.7989098869800094,
          0.15843476321399627,
          0.06242712916264244,
          -1.414360426015587,
          -0.7101946842299781,
          0.25342038603669287,
          -0.2096996942558683,
          -0.8662784547080398,
          -0.5559608090771597,
          -0.37299314415741175,
          -1.3684958609746798,
          -0.010273887746077232,
          -1.0549680470313432,
          -1.5491267295277413,
          -0.47398333862282055,
          -0.9223283416495286,
          1.9951526358871137,
          0.36701161120048553,
          -0.3602229380448125,
          0.19189219560295934,
          0.03914001557162784,
          6.597056249510479,
          -1.43494050848848,
          10.60302050347907,
          -1.175044168078084,
          -0.32293729450290726,
          -0.3651492088054537,
          -0.366373866192961,
          -0.726137474899948,
          -0.8683221250208398,
          0.7585969477831277,
          -0.36142352099201003,
          -0.7172537040830042,
          -1.3991026323395426,
          -0.45240550859097567,
          1.1801481664190505,
          3.638925444410858,
          -0.8107202505240009,
          -0.020601412790394895,
          -0.544017939082474,
          -0.9983208144858398,
          -0.999049674995131,
          2.398914348575581,
          -1.1008190184847413,
          -0.581643282002451,
          -1.5084059229019349,
          -0.6517593065921671,
          -0.8831592081896447,
          -0.8209423517436814,
          -1.3438861647716625,
          0.49562334266892427,
          -0.5556520385654775,
          -0.19937946363894637,
          -0.7323200393411328,
          -1.1185098883751754,
          -0.6582327985514785,
          -1.9328199661475758,
          0.3377960583399603,
          0.19778631540744274,
          -0.5882812280166791,
          -0.015877481955475947,
          -1.1130886154586983,
          0.23162904653991476,
          0.04527887738234758,
          -0.5305485218640265,
          -0.3190070933785925,
          0.2520781604141379,
          -0.45328336176856765,
          -1.1058907268224565,
          0.45266145708235406,
          1.0285022097731213,
          -0.7199073827114638,
          0.3211634937952731,
          -0.9625554993052955,
          0.7886420239095685,
          -0.8324271334900771,
          -0.39566529859120864,
          0.7359861346999679,
          -0.5749245553104942,
          2.305886042934669,
          2.0734967158336755,
          0.566326109487782,
          0.3329954427473534,
          -0.06945486795164398,
          -0.44224859537037536,
          -0.90186430203021,
          -0.3308255298850368,
          -0.039029527155231496,
          -0.18734401451841703,
          0.1894450802569111,
          -0.5716991603451528,
          0.09052474396837094,
          0.6336952358582342,
          0.4439811893842707,
          0.8567080024311041,
          0.936235192376099,
          -0.5023693022527658,
          0.02841101260201404,
          3.1859653368015084,
          1.8620959659192,
          -0.5387568679766708,
          0.2827254103802446,
          0.22367562481585446,
          -0.550101813842705,
          -1.2185050678962597,
          1.477157670573922,
          -0.6631574406961435,
          1.2354847954464936,
          -0.8175284885248053,
          -0.037253775593425555,
          -0.11487986497951871,
          -0.4660744904467437,
          -0.7949866653175932,
          1.7171534578460201,
          -0.7432994433190828,
          -0.8648188154782545,
          1.3221267774076162,
          1.722906753830945,
          0.5722243122693339,
          0.006448801511994024,
          -0.5726435499145428,
          -0.03903447509730594,
          2.271450156363718,
          1.8775707854126724,
          3.7158109724909316,
          0.8269637097936948,
          -0.5874979224237787,
          0.9974255424112303,
          -0.2197906820755457,
          1.0626563204896942,
          -0.622867077852075,
          -0.3428323855462215,
          -0.2611708842121274,
          -1.0266215897985749,
          0.3222924733739025,
          -0.8282583081665578,
          0.3381143564067616,
          -0.6835217875906029,
          -0.7740365098820234,
          -1.0378605815549418,
          0.07086743760171799,
          -1.2286049885808603,
          -1.233189612310018,
          -1.635185750738486,
          -1.3836833004936968,
          -1.1589083323899276,
          -0.7942603290604089,
          0.03437614373846143,
          -0.6275579513526857,
          -1.03925159533038,
          1.2407283064693548,
          0.5923029172061512,
          -1.9860233646007046,
          0.004838160118734136,
          -0.26337651055535344,
          -0.34398032882470947,
          -0.1727222401115767,
          -0.6352645224953344,
          -0.3227182217213681,
          -0.7943895140505515,
          -0.7736509461370945,
          -0.10993997163856911,
          0.07897112560286244,
          -0.493946746486209,
          0.6810682483801461,
          6.669808005352499,
          -0.23768328979546574,
          -0.9303830746938142,
          1.1218279200460557,
          -0.05197604699928173,
          0.027346804932935103,
          -0.9404923751155417,
          0.8668584194939887,
          -3.464597370083971,
          2.114786768118538,
          0.5324100227374784,
          -0.20265215111415036,
          0.6447119734781466,
          1.1406181616759754,
          0.7449130928602368,
          -1.2137778567621795,
          -0.771679578941415,
          -1.015012704562213,
          -1.9980796059932553,
          -0.5940723899422882,
          -1.244368699186337,
          -0.8622268697265479,
          0.43313798651633617,
          -0.677885988537248,
          -1.2752577273113737,
          -0.48658099789131426,
          -0.9762863508802173,
          -0.9433239937109461,
          -1.5479245973701834,
          0.9816558854019924,
          -1.079691770533691,
          0.5156046362044393,
          -1.7738616226116997,
          0.9289808664539875,
          -0.8304821571025917,
          0.2639497961697697,
          -0.645056465978492,
          -0.800017408701066,
          -0.9333369993017909,
          -0.7694882041689599,
          -0.21918392079625876,
          -0.41502003632043455,
          -0.6795253397808918,
          0.3138642575492206,
          -0.6134848940772281,
          1.3950356034403177,
          1.1253400800723616,
          0.35492853164887483,
          0.3983957589205931,
          -0.46497567470760093,
          -0.7756200555432596,
          -0.19495297646210655,
          1.1158456617346946,
          -0.6583885887516545,
          -1.0253610072453636,
          0.7561436405761675,
          1.2650106487998471,
          1.3983423621459368,
          -0.43567928054586763,
          1.1111896879585963,
          0.023653489113865278,
          -0.576642915518498,
          0.3478039711205856,
          -0.34758635640442115,
          -0.10440709862303811,
          0.04195308387964199,
          -0.4352860798331744,
          -0.8628056830055739,
          1.399008976374499,
          -0.2854856479783543,
          -0.23699848700966356,
          -0.19742540263184125,
          0.5670096660980188,
          0.2406020812367076,
          -0.38749674985908134,
          -0.1728344541074494,
          2.4888951028926187,
          0.1931223787131297,
          0.16304629956125305,
          0.45624458187651634,
          -0.4517238236699362,
          1.5954064453462797,
          -0.8206304640638479,
          -0.6251998164515159,
          0.6999565101370238,
          -0.3025367000145274,
          0.23197357712833502,
          -1.4052617754508818,
          2.1608794317468076,
          -0.053305113135297504,
          -0.3199381801125485,
          -0.9730907687222428,
          -0.8791657763513283,
          -1.450004554419563,
          -0.3283327190033121,
          -1.0908112710003361,
          -0.02236913483676695,
          0.41761503018429913,
          -0.12309508639556262,
          -0.48303320527516935,
          2.0384413222930298,
          -0.0015316193634770142,
          2.8262591096015015,
          -0.6483511537464252,
          -0.14769828737589205,
          -0.6180552414909797,
          1.4746819434230896,
          -0.14034521244525278,
          -0.46365814640258896,
          -0.25447310654920563,
          2.53769826932841,
          1.9155706767556682,
          -1.042640015162147,
          2.3460090390863464e-05,
          -1.0168288321092804
         ],
         "yaxis": "y"
        }
       ],
       "layout": {
        "autosize": true,
        "coloraxis": {
         "colorbar": {
          "title": {
           "text": "PC1"
          }
         },
         "colorscale": [
          [
           0,
           "#30123b"
          ],
          [
           0.07142857142857142,
           "#4145ab"
          ],
          [
           0.14285714285714285,
           "#4675ed"
          ],
          [
           0.21428571428571427,
           "#39a2fc"
          ],
          [
           0.2857142857142857,
           "#1bcfd4"
          ],
          [
           0.35714285714285715,
           "#24eca6"
          ],
          [
           0.42857142857142855,
           "#61fc6c"
          ],
          [
           0.5,
           "#a4fc3b"
          ],
          [
           0.5714285714285714,
           "#d1e834"
          ],
          [
           0.6428571428571429,
           "#f3c63a"
          ],
          [
           0.7142857142857143,
           "#fe9b2d"
          ],
          [
           0.7857142857142857,
           "#f36315"
          ],
          [
           0.8571428571428571,
           "#d93806"
          ],
          [
           0.9285714285714286,
           "#b11901"
          ],
          [
           1,
           "#7a0402"
          ]
         ]
        },
        "legend": {
         "tracegroupgap": 0
        },
        "template": {
         "data": {
          "bar": [
           {
            "error_x": {
             "color": "#2a3f5f"
            },
            "error_y": {
             "color": "#2a3f5f"
            },
            "marker": {
             "line": {
              "color": "#E5ECF6",
              "width": 0.5
             },
             "pattern": {
              "fillmode": "overlay",
              "size": 10,
              "solidity": 0.2
             }
            },
            "type": "bar"
           }
          ],
          "barpolar": [
           {
            "marker": {
             "line": {
              "color": "#E5ECF6",
              "width": 0.5
             },
             "pattern": {
              "fillmode": "overlay",
              "size": 10,
              "solidity": 0.2
             }
            },
            "type": "barpolar"
           }
          ],
          "carpet": [
           {
            "aaxis": {
             "endlinecolor": "#2a3f5f",
             "gridcolor": "white",
             "linecolor": "white",
             "minorgridcolor": "white",
             "startlinecolor": "#2a3f5f"
            },
            "baxis": {
             "endlinecolor": "#2a3f5f",
             "gridcolor": "white",
             "linecolor": "white",
             "minorgridcolor": "white",
             "startlinecolor": "#2a3f5f"
            },
            "type": "carpet"
           }
          ],
          "choropleth": [
           {
            "colorbar": {
             "outlinewidth": 0,
             "ticks": ""
            },
            "type": "choropleth"
           }
          ],
          "contour": [
           {
            "colorbar": {
             "outlinewidth": 0,
             "ticks": ""
            },
            "colorscale": [
             [
              0,
              "#0d0887"
             ],
             [
              0.1111111111111111,
              "#46039f"
             ],
             [
              0.2222222222222222,
              "#7201a8"
             ],
             [
              0.3333333333333333,
              "#9c179e"
             ],
             [
              0.4444444444444444,
              "#bd3786"
             ],
             [
              0.5555555555555556,
              "#d8576b"
             ],
             [
              0.6666666666666666,
              "#ed7953"
             ],
             [
              0.7777777777777778,
              "#fb9f3a"
             ],
             [
              0.8888888888888888,
              "#fdca26"
             ],
             [
              1,
              "#f0f921"
             ]
            ],
            "type": "contour"
           }
          ],
          "contourcarpet": [
           {
            "colorbar": {
             "outlinewidth": 0,
             "ticks": ""
            },
            "type": "contourcarpet"
           }
          ],
          "heatmap": [
           {
            "colorbar": {
             "outlinewidth": 0,
             "ticks": ""
            },
            "colorscale": [
             [
              0,
              "#0d0887"
             ],
             [
              0.1111111111111111,
              "#46039f"
             ],
             [
              0.2222222222222222,
              "#7201a8"
             ],
             [
              0.3333333333333333,
              "#9c179e"
             ],
             [
              0.4444444444444444,
              "#bd3786"
             ],
             [
              0.5555555555555556,
              "#d8576b"
             ],
             [
              0.6666666666666666,
              "#ed7953"
             ],
             [
              0.7777777777777778,
              "#fb9f3a"
             ],
             [
              0.8888888888888888,
              "#fdca26"
             ],
             [
              1,
              "#f0f921"
             ]
            ],
            "type": "heatmap"
           }
          ],
          "heatmapgl": [
           {
            "colorbar": {
             "outlinewidth": 0,
             "ticks": ""
            },
            "colorscale": [
             [
              0,
              "#0d0887"
             ],
             [
              0.1111111111111111,
              "#46039f"
             ],
             [
              0.2222222222222222,
              "#7201a8"
             ],
             [
              0.3333333333333333,
              "#9c179e"
             ],
             [
              0.4444444444444444,
              "#bd3786"
             ],
             [
              0.5555555555555556,
              "#d8576b"
             ],
             [
              0.6666666666666666,
              "#ed7953"
             ],
             [
              0.7777777777777778,
              "#fb9f3a"
             ],
             [
              0.8888888888888888,
              "#fdca26"
             ],
             [
              1,
              "#f0f921"
             ]
            ],
            "type": "heatmapgl"
           }
          ],
          "histogram": [
           {
            "marker": {
             "pattern": {
              "fillmode": "overlay",
              "size": 10,
              "solidity": 0.2
             }
            },
            "type": "histogram"
           }
          ],
          "histogram2d": [
           {
            "colorbar": {
             "outlinewidth": 0,
             "ticks": ""
            },
            "colorscale": [
             [
              0,
              "#0d0887"
             ],
             [
              0.1111111111111111,
              "#46039f"
             ],
             [
              0.2222222222222222,
              "#7201a8"
             ],
             [
              0.3333333333333333,
              "#9c179e"
             ],
             [
              0.4444444444444444,
              "#bd3786"
             ],
             [
              0.5555555555555556,
              "#d8576b"
             ],
             [
              0.6666666666666666,
              "#ed7953"
             ],
             [
              0.7777777777777778,
              "#fb9f3a"
             ],
             [
              0.8888888888888888,
              "#fdca26"
             ],
             [
              1,
              "#f0f921"
             ]
            ],
            "type": "histogram2d"
           }
          ],
          "histogram2dcontour": [
           {
            "colorbar": {
             "outlinewidth": 0,
             "ticks": ""
            },
            "colorscale": [
             [
              0,
              "#0d0887"
             ],
             [
              0.1111111111111111,
              "#46039f"
             ],
             [
              0.2222222222222222,
              "#7201a8"
             ],
             [
              0.3333333333333333,
              "#9c179e"
             ],
             [
              0.4444444444444444,
              "#bd3786"
             ],
             [
              0.5555555555555556,
              "#d8576b"
             ],
             [
              0.6666666666666666,
              "#ed7953"
             ],
             [
              0.7777777777777778,
              "#fb9f3a"
             ],
             [
              0.8888888888888888,
              "#fdca26"
             ],
             [
              1,
              "#f0f921"
             ]
            ],
            "type": "histogram2dcontour"
           }
          ],
          "mesh3d": [
           {
            "colorbar": {
             "outlinewidth": 0,
             "ticks": ""
            },
            "type": "mesh3d"
           }
          ],
          "parcoords": [
           {
            "line": {
             "colorbar": {
              "outlinewidth": 0,
              "ticks": ""
             }
            },
            "type": "parcoords"
           }
          ],
          "pie": [
           {
            "automargin": true,
            "type": "pie"
           }
          ],
          "scatter": [
           {
            "fillpattern": {
             "fillmode": "overlay",
             "size": 10,
             "solidity": 0.2
            },
            "type": "scatter"
           }
          ],
          "scatter3d": [
           {
            "line": {
             "colorbar": {
              "outlinewidth": 0,
              "ticks": ""
             }
            },
            "marker": {
             "colorbar": {
              "outlinewidth": 0,
              "ticks": ""
             }
            },
            "type": "scatter3d"
           }
          ],
          "scattercarpet": [
           {
            "marker": {
             "colorbar": {
              "outlinewidth": 0,
              "ticks": ""
             }
            },
            "type": "scattercarpet"
           }
          ],
          "scattergeo": [
           {
            "marker": {
             "colorbar": {
              "outlinewidth": 0,
              "ticks": ""
             }
            },
            "type": "scattergeo"
           }
          ],
          "scattergl": [
           {
            "marker": {
             "colorbar": {
              "outlinewidth": 0,
              "ticks": ""
             }
            },
            "type": "scattergl"
           }
          ],
          "scattermapbox": [
           {
            "marker": {
             "colorbar": {
              "outlinewidth": 0,
              "ticks": ""
             }
            },
            "type": "scattermapbox"
           }
          ],
          "scatterpolar": [
           {
            "marker": {
             "colorbar": {
              "outlinewidth": 0,
              "ticks": ""
             }
            },
            "type": "scatterpolar"
           }
          ],
          "scatterpolargl": [
           {
            "marker": {
             "colorbar": {
              "outlinewidth": 0,
              "ticks": ""
             }
            },
            "type": "scatterpolargl"
           }
          ],
          "scatterternary": [
           {
            "marker": {
             "colorbar": {
              "outlinewidth": 0,
              "ticks": ""
             }
            },
            "type": "scatterternary"
           }
          ],
          "surface": [
           {
            "colorbar": {
             "outlinewidth": 0,
             "ticks": ""
            },
            "colorscale": [
             [
              0,
              "#0d0887"
             ],
             [
              0.1111111111111111,
              "#46039f"
             ],
             [
              0.2222222222222222,
              "#7201a8"
             ],
             [
              0.3333333333333333,
              "#9c179e"
             ],
             [
              0.4444444444444444,
              "#bd3786"
             ],
             [
              0.5555555555555556,
              "#d8576b"
             ],
             [
              0.6666666666666666,
              "#ed7953"
             ],
             [
              0.7777777777777778,
              "#fb9f3a"
             ],
             [
              0.8888888888888888,
              "#fdca26"
             ],
             [
              1,
              "#f0f921"
             ]
            ],
            "type": "surface"
           }
          ],
          "table": [
           {
            "cells": {
             "fill": {
              "color": "#EBF0F8"
             },
             "line": {
              "color": "white"
             }
            },
            "header": {
             "fill": {
              "color": "#C8D4E3"
             },
             "line": {
              "color": "white"
             }
            },
            "type": "table"
           }
          ]
         },
         "layout": {
          "annotationdefaults": {
           "arrowcolor": "#2a3f5f",
           "arrowhead": 0,
           "arrowwidth": 1
          },
          "autotypenumbers": "strict",
          "coloraxis": {
           "colorbar": {
            "outlinewidth": 0,
            "ticks": ""
           }
          },
          "colorscale": {
           "diverging": [
            [
             0,
             "#8e0152"
            ],
            [
             0.1,
             "#c51b7d"
            ],
            [
             0.2,
             "#de77ae"
            ],
            [
             0.3,
             "#f1b6da"
            ],
            [
             0.4,
             "#fde0ef"
            ],
            [
             0.5,
             "#f7f7f7"
            ],
            [
             0.6,
             "#e6f5d0"
            ],
            [
             0.7,
             "#b8e186"
            ],
            [
             0.8,
             "#7fbc41"
            ],
            [
             0.9,
             "#4d9221"
            ],
            [
             1,
             "#276419"
            ]
           ],
           "sequential": [
            [
             0,
             "#0d0887"
            ],
            [
             0.1111111111111111,
             "#46039f"
            ],
            [
             0.2222222222222222,
             "#7201a8"
            ],
            [
             0.3333333333333333,
             "#9c179e"
            ],
            [
             0.4444444444444444,
             "#bd3786"
            ],
            [
             0.5555555555555556,
             "#d8576b"
            ],
            [
             0.6666666666666666,
             "#ed7953"
            ],
            [
             0.7777777777777778,
             "#fb9f3a"
            ],
            [
             0.8888888888888888,
             "#fdca26"
            ],
            [
             1,
             "#f0f921"
            ]
           ],
           "sequentialminus": [
            [
             0,
             "#0d0887"
            ],
            [
             0.1111111111111111,
             "#46039f"
            ],
            [
             0.2222222222222222,
             "#7201a8"
            ],
            [
             0.3333333333333333,
             "#9c179e"
            ],
            [
             0.4444444444444444,
             "#bd3786"
            ],
            [
             0.5555555555555556,
             "#d8576b"
            ],
            [
             0.6666666666666666,
             "#ed7953"
            ],
            [
             0.7777777777777778,
             "#fb9f3a"
            ],
            [
             0.8888888888888888,
             "#fdca26"
            ],
            [
             1,
             "#f0f921"
            ]
           ]
          },
          "colorway": [
           "#636efa",
           "#EF553B",
           "#00cc96",
           "#ab63fa",
           "#FFA15A",
           "#19d3f3",
           "#FF6692",
           "#B6E880",
           "#FF97FF",
           "#FECB52"
          ],
          "font": {
           "color": "#2a3f5f"
          },
          "geo": {
           "bgcolor": "white",
           "lakecolor": "white",
           "landcolor": "#E5ECF6",
           "showlakes": true,
           "showland": true,
           "subunitcolor": "white"
          },
          "hoverlabel": {
           "align": "left"
          },
          "hovermode": "closest",
          "mapbox": {
           "style": "light"
          },
          "paper_bgcolor": "white",
          "plot_bgcolor": "#E5ECF6",
          "polar": {
           "angularaxis": {
            "gridcolor": "white",
            "linecolor": "white",
            "ticks": ""
           },
           "bgcolor": "#E5ECF6",
           "radialaxis": {
            "gridcolor": "white",
            "linecolor": "white",
            "ticks": ""
           }
          },
          "scene": {
           "xaxis": {
            "backgroundcolor": "#E5ECF6",
            "gridcolor": "white",
            "gridwidth": 2,
            "linecolor": "white",
            "showbackground": true,
            "ticks": "",
            "zerolinecolor": "white"
           },
           "yaxis": {
            "backgroundcolor": "#E5ECF6",
            "gridcolor": "white",
            "gridwidth": 2,
            "linecolor": "white",
            "showbackground": true,
            "ticks": "",
            "zerolinecolor": "white"
           },
           "zaxis": {
            "backgroundcolor": "#E5ECF6",
            "gridcolor": "white",
            "gridwidth": 2,
            "linecolor": "white",
            "showbackground": true,
            "ticks": "",
            "zerolinecolor": "white"
           }
          },
          "shapedefaults": {
           "line": {
            "color": "#2a3f5f"
           }
          },
          "ternary": {
           "aaxis": {
            "gridcolor": "white",
            "linecolor": "white",
            "ticks": ""
           },
           "baxis": {
            "gridcolor": "white",
            "linecolor": "white",
            "ticks": ""
           },
           "bgcolor": "#E5ECF6",
           "caxis": {
            "gridcolor": "white",
            "linecolor": "white",
            "ticks": ""
           }
          },
          "title": {
           "x": 0.05
          },
          "xaxis": {
           "automargin": true,
           "gridcolor": "white",
           "linecolor": "white",
           "ticks": "",
           "title": {
            "standoff": 15
           },
           "zerolinecolor": "white",
           "zerolinewidth": 2
          },
          "yaxis": {
           "automargin": true,
           "gridcolor": "white",
           "linecolor": "white",
           "ticks": "",
           "title": {
            "standoff": 15
           },
           "zerolinecolor": "white",
           "zerolinewidth": 2
          }
         }
        },
        "title": {
         "text": "PCA of Sample Data"
        },
        "xaxis": {
         "anchor": "y",
         "autorange": true,
         "domain": [
          0,
          1
         ],
         "range": [
          -2.3199229411642435,
          12.26257688758926
         ],
         "title": {
          "text": "PC1"
         },
         "type": "linear"
        },
        "yaxis": {
         "anchor": "x",
         "autorange": true,
         "domain": [
          0,
          1
         ],
         "range": [
          -4.625517291688688,
          11.763940425083788
         ],
         "title": {
          "text": "PC2"
         },
         "type": "linear"
        }
       }
      },
      "image/png": "[encoded data removed]",
      "text/html": [
       "<div>                            <div id=\"8f01325a-4a88-4e2c-ab13-3bff98cd0f70\" class=\"plotly-graph-div\" style=\"height:525px; width:100%;\"></div>            <script type=\"text/javascript\">                require([\"plotly\"], function(Plotly) {                    window.PLOTLYENV=window.PLOTLYENV || {};                                    if (document.getElementById(\"8f01325a-4a88-4e2c-ab13-3bff98cd0f70\")) {                    Plotly.newPlot(                        \"8f01325a-4a88-4e2c-ab13-3bff98cd0f70\",                        [{\"hovertemplate\":\"PC1=%{marker.color}\\u003cbr\\u003ePC2=%{y}\\u003cextra\\u003e\\u003c\\u002fextra\\u003e\",\"legendgroup\":\"\",\"marker\":{\"color\":[0.21278510652491447,0.48241030711809463,1.1899629628593462,-0.7696575078261174,0.382605270275111,-0.13844260891178026,-0.3819996015619827,0.21732476907591303,-0.5494921993916607,1.677528153760346,0.6731484658768223,-0.9862718483205427,1.1111592589193853,0.8244478547132407,0.9141477906878416,-1.015568707981104,0.570275265330184,-0.17448760250257478,0.43117983215809413,-0.3679026254272859,-0.2802131900602395,-1.178966939763866,-0.03198786956864258,5.657726750124446,1.5194949471978851,-0.22541966249102832,-1.0838631015262268,-1.1580455788735442,3.4243439917358485,-0.8289534514944923,0.17256480313094386,-0.7522072532096344,-1.0304586265553137,-0.365552313316896,-1.1321431198513225,0.13137238695213266,0.007240389128217405,0.9636428277175829,1.5885339367245963,-0.7290418911134848,0.23009193044822357,-0.15835499822700017,0.8074702924433225,1.928059899588083,0.2257529047676061,3.099487322564913,1.9317511554993527,10.043674144393618,0.45031054416633626,3.676181795220091,-0.9005487371699369,-0.5626721148929142,-0.26250469483211,0.6671027118781876,-0.9880974901098415,-0.5280950795755458,4.703244442337125,0.9438009582546544,-1.1543417328771595,-0.024497741838743183,-0.29064982372583487,8.650205150034576,0.014190930677143436,1.4608787237645975,-0.8901334620698061,5.926946127104616,-0.560961661765481,0.6039617311816788,-0.1361165139477634,-1.119975792712253,-0.8225996276836842,2.5502442452516436,-0.7075019743332916,-0.264259290241372,0.07075112324657018,-1.212269579685743,-0.5944693962544036,2.7962040913471005,-1.2143661029205721,-0.6776087085142811,-1.122253351979364,1.0127859860095816,0.6388208623004509,-1.052723741414198,-0.48472308374366363,11.473490959355724,7.369051046132587,1.7981426784928065,-1.1059811804557185,-0.2938804986300667,-1.2704764292291006,-0.8183248471433934,5.544615828343832,-0.4065326337204948,0.7371476221129397,-0.7963225373396312,-0.35995822192658244,-1.4662152961479942,-1.454865015890932,-1.1031117181408165,1.237954711062776,1.3676883670823285,0.18891700231358163,0.16615067957616073,-0.8600306540773548,-0.9466468930434162,0.6635803657561324,1.4927193632113056,0.010254812770999667,1.6794938139759599,-0.9981759434771418,1.4199562115615874,-0.5871957418329423,-0.893436377139253,-1.060856086518744,-1.1173709451602198,-1.0246489643883285,-0.6677169944638942,-0.9566489786043566,-1.0462224411021506,-0.9788388440978167,-1.101726341846232,-1.332578285764167,0.140624781142696,-0.7834227844042371,-0.2124808494264644,-1.0518559884926229,0.4293424293754399,-0.5020913732831954,-0.9220759892288086,-1.0568027205657964,-1.420501277641222,-1.026371670710934,-1.2697164274691704,-1.1528236562615408,-1.1843067060181818,0.11680243363236494,-0.2989045429941312,-0.35810354326371546,-0.7220377636161739,-0.1925974545323216,0.11454596705349662,-0.3265222754970888,-1.1499441443529694,-0.9910035322977784,3.4387621749110897,-1.1447533123067708,-0.8768143671605549,-1.3161730379218772,-1.0047136748816494,-1.0634200672130785,-0.8702750979754525,-1.0891085826319995,-0.39878364552969686,-1.530837012930707,2.141808996899132,1.0339970418606963,-1.0450375830780378,0.2819884405340954,0.9412159658085757,0.3713508846974401,-1.1167571479059202,-0.9632692882665148,3.0288038262294235,0.07368924845651668,1.926106894593596,0.6641252721586979,-0.7913868063608358,-1.3382283160857187,-1.2004667697435472,0.8255566524999299,3.602663727039627,-0.2817393408022606,1.5285057062205831,-0.8733527739911219,0.5366633526295361,-0.1754190454914904,-0.25828456760991597,-0.5741258092323172,-0.6171633127280147,0.0814117289400062,4.076901161103388,0.5889642806587047,6.479024067495813,-1.138518845200733,-0.8904007403010499,-1.1981773001385212,0.15165808425439417,0.6678170595948446,0.8029421773380382,-0.7940487223207536,-1.3695376218226616,-1.1905306860905622,0.7483190880676945,-1.0470694500124917,-0.4006960555226798,0.09695787072001932,0.3764410825369449,-0.7118419826003379,-1.1077872056056897,2.2205377986321517,3.0339834661779617,1.0856078430993428,-1.2379314655527676,-0.9377227189627696,2.015132502935967,-1.3256615302165862,-0.13950053248967223,-0.36666945060358747,2.046541867777943,-0.9076181685265229,5.8502901120364825,-1.0212963673345459,0.04327059814780918,0.483038975866377,1.2928948348660267,3.6585341530411606,-1.0419440278276142,1.4677518684343014,-1.3680997211657755,-1.2135389769294556,0.22931481458496936,-1.1098037193039265,-0.6717059513903711,-1.2692450825745323,-0.7892951218023356,0.08913371087238695,-1.1155164037894816,-0.8814074728181335,-0.8644776032589034,-0.19933229283082324,-0.21359423926926163,-0.9276768487609819,-0.8950907946332582,-0.6006102767345785,-0.679821882098253,-1.1630602961825824,-0.9326780793921916,-1.4013451387606644,-0.4913721770645635,-0.23812595340547707,-0.9548849037245,-1.0691484671519105,-0.37132191698140354,0.40717452028751405,1.2352782242651796,-1.066729702081609,-1.3276506380137796,-0.7881795333496175,-0.8915929247302169,-1.1252293094427397,5.296232190231089,-0.7423375630163218,0.4770189751883545,0.8611994004210792,-1.1832587012500282,-0.6928535773360461,-0.6538926833639342,-0.2608350864786281,-0.2768309230301648,-0.8356931982851912,-1.2555160802902716,-1.1102493628098558,-0.6023859061522071,1.040558571963709,1.8659892771465387,1.5545305517954764,-0.5798239411213282,1.200898599889183,-1.3165770528482448,-1.308262761875447,-0.8062917265299439,-0.3057475563101041,-0.7693483442764566,-1.038196902901771,-1.3341848439329085,-0.2580059188020322,-1.1572267633682018,-0.8809613675335664,0.26966084437106785,-0.9742622279935715,0.007281211704841481,-0.43983933988637364,-0.7257256909228746,0.32378271927205265,-1.0816365551382103,-1.1004041705019605,-0.8856675389006163,-1.273117688222214,-1.3407586762558075,-0.8723421032777843,-0.9173897158847097,-0.7439703127337864,0.9008231012419322,-0.5435001987264694,-0.755354512781342,-0.9173035324464055,-0.32151283034824346,0.12930814866736,-1.2761253455883985,-0.013382911740195283,1.8222463522945407,0.2810530040455989,0.7775054802358718,2.287373091620242,0.4917775260741224,1.9274425773524593,-0.9465288989199875,-1.1297330101883478,1.812847880397723,-0.9417579094267624,-0.6624175423567503,1.939665977218959,-1.1871676079240618,-0.6033428012252358,1.3190332551638517,-1.092601734438597,-0.5813480985598971,-0.9687337640167305,3.1865707233768243,-0.9574312451345419,-0.8338133446214868,-0.9972264446225554,-0.4178008407560719,-0.8376733524778415,2.003390927783869,-1.1216307730016606,-1.2829409286904943,-0.7889553749053937,-0.9155550087990882,-0.8510083890881661,2.5944033703199794,-0.7217707998144359,7.630055249967244,-0.5975174783465855,0.5340875930759684,-1.1686062781554505,-0.9950009226471175,-0.8459475978764804,-0.6730829400374456,0.4031013800319905,0.5193400989147855,-0.011847755910280722,2.437258347241566,-1.2359403664788235,-0.3322278773202051,0.9155215302543473,0.5706011850278536,-0.9823464837181615,2.3699327312088148,-1.1457557548250399,2.5460029582877994,-1.3179157814339286,1.425490148095317,-0.2221336661804461,-1.322943301508907,-1.3417085564676008,0.7431897030945129,0.7079645628580046,-0.8182145124436373,-0.9867296482126322,-1.343809694339186,-1.1348230465522136,-0.9772910988725313,-1.239823278453448,0.4229470508642529,-1.1410280258811492,-1.3425999804655064,-1.1215805484276522,-1.4016498150368977,-0.4107655564820538,-0.9419568606660662,-0.38994570323209465,0.13037342170479757,-1.1003011923675774,-1.274657508752814,0.7767358497296105,-0.8151959333546382,-0.9931676099781273,-0.3612149104228298,-1.105525609067716,-0.8349354756695502,0.30524460076971915,-1.083212427481263,1.9481129808786508,-1.1375667464534525,-0.8866262645458889,-1.051244698539848,-1.2803813129094628,-1.157108816640224,-1.1297674565270335,-0.8981599994163213,-0.8826070174856425,-0.46647728505129227,-1.1442760716211093,-1.1708139917485219,0.7094909280365562,-1.112312366101321,-1.2993692488328188,-1.2913817071707452,-1.1878909480645412,-0.6987551863735153,-0.7240671112305093,-0.2137788259953035,-0.6689195236215819,-1.2301255519329974,-0.4072329345385495,1.6501556362492007,-0.441984296304783,0.14955606933044852,-0.5795694910231926,-0.41014317015396423,-0.13847791290979075,-0.11030938702601208,-0.9338994336195834,0.1722705305177824,0.9149165804402482,0.1435525300448749,1.1655746237517841,-0.6832137505694996,0.6845792869997045,0.107172160195723,-0.8034393867457064,-0.6026230104809747,-0.08901459755046978,-0.7298485223940508,0.9998857765574709,0.5428195425974655,-0.604622341938504,-0.7895464967987733,0.1621991677120706,-0.2671180142444157,-0.8807471442553149,-0.9355083978671107,-0.2905659641177966,0.9534813935838378,-0.8730612563971266,3.565120502616256,-0.8866315772991559,-1.1876544456620448],\"coloraxis\":\"coloraxis\",\"symbol\":\"circle\"},\"mode\":\"markers\",\"name\":\"\",\"orientation\":\"v\",\"showlegend\":false,\"x\":[0.21278510652491447,0.48241030711809463,1.1899629628593462,-0.7696575078261174,0.382605270275111,-0.13844260891178026,-0.3819996015619827,0.21732476907591303,-0.5494921993916607,1.677528153760346,0.6731484658768223,-0.9862718483205427,1.1111592589193853,0.8244478547132407,0.9141477906878416,-1.015568707981104,0.570275265330184,-0.17448760250257478,0.43117983215809413,-0.3679026254272859,-0.2802131900602395,-1.178966939763866,-0.03198786956864258,5.657726750124446,1.5194949471978851,-0.22541966249102832,-1.0838631015262268,-1.1580455788735442,3.4243439917358485,-0.8289534514944923,0.17256480313094386,-0.7522072532096344,-1.0304586265553137,-0.365552313316896,-1.1321431198513225,0.13137238695213266,0.007240389128217405,0.9636428277175829,1.5885339367245963,-0.7290418911134848,0.23009193044822357,-0.15835499822700017,0.8074702924433225,1.928059899588083,0.2257529047676061,3.099487322564913,1.9317511554993527,10.043674144393618,0.45031054416633626,3.676181795220091,-0.9005487371699369,-0.5626721148929142,-0.26250469483211,0.6671027118781876,-0.9880974901098415,-0.5280950795755458,4.703244442337125,0.9438009582546544,-1.1543417328771595,-0.024497741838743183,-0.29064982372583487,8.650205150034576,0.014190930677143436,1.4608787237645975,-0.8901334620698061,5.926946127104616,-0.560961661765481,0.6039617311816788,-0.1361165139477634,-1.119975792712253,-0.8225996276836842,2.5502442452516436,-0.7075019743332916,-0.264259290241372,0.07075112324657018,-1.212269579685743,-0.5944693962544036,2.7962040913471005,-1.2143661029205721,-0.6776087085142811,-1.122253351979364,1.0127859860095816,0.6388208623004509,-1.052723741414198,-0.48472308374366363,11.473490959355724,7.369051046132587,1.7981426784928065,-1.1059811804557185,-0.2938804986300667,-1.2704764292291006,-0.8183248471433934,5.544615828343832,-0.4065326337204948,0.7371476221129397,-0.7963225373396312,-0.35995822192658244,-1.4662152961479942,-1.454865015890932,-1.1031117181408165,1.237954711062776,1.3676883670823285,0.18891700231358163,0.16615067957616073,-0.8600306540773548,-0.9466468930434162,0.6635803657561324,1.4927193632113056,0.010254812770999667,1.6794938139759599,-0.9981759434771418,1.4199562115615874,-0.5871957418329423,-0.893436377139253,-1.060856086518744,-1.1173709451602198,-1.0246489643883285,-0.6677169944638942,-0.9566489786043566,-1.0462224411021506,-0.9788388440978167,-1.101726341846232,-1.332578285764167,0.140624781142696,-0.7834227844042371,-0.2124808494264644,-1.0518559884926229,0.4293424293754399,-0.5020913732831954,-0.9220759892288086,-1.0568027205657964,-1.420501277641222,-1.026371670710934,-1.2697164274691704,-1.1528236562615408,-1.1843067060181818,0.11680243363236494,-0.2989045429941312,-0.35810354326371546,-0.7220377636161739,-0.1925974545323216,0.11454596705349662,-0.3265222754970888,-1.1499441443529694,-0.9910035322977784,3.4387621749110897,-1.1447533123067708,-0.8768143671605549,-1.3161730379218772,-1.0047136748816494,-1.0634200672130785,-0.8702750979754525,-1.0891085826319995,-0.39878364552969686,-1.530837012930707,2.141808996899132,1.0339970418606963,-1.0450375830780378,0.2819884405340954,0.9412159658085757,0.3713508846974401,-1.1167571479059202,-0.9632692882665148,3.0288038262294235,0.07368924845651668,1.926106894593596,0.6641252721586979,-0.7913868063608358,-1.3382283160857187,-1.2004667697435472,0.8255566524999299,3.602663727039627,-0.2817393408022606,1.5285057062205831,-0.8733527739911219,0.5366633526295361,-0.1754190454914904,-0.25828456760991597,-0.5741258092323172,-0.6171633127280147,0.0814117289400062,4.076901161103388,0.5889642806587047,6.479024067495813,-1.138518845200733,-0.8904007403010499,-1.1981773001385212,0.15165808425439417,0.6678170595948446,0.8029421773380382,-0.7940487223207536,-1.3695376218226616,-1.1905306860905622,0.7483190880676945,-1.0470694500124917,-0.4006960555226798,0.09695787072001932,0.3764410825369449,-0.7118419826003379,-1.1077872056056897,2.2205377986321517,3.0339834661779617,1.0856078430993428,-1.2379314655527676,-0.9377227189627696,2.015132502935967,-1.3256615302165862,-0.13950053248967223,-0.36666945060358747,2.046541867777943,-0.9076181685265229,5.8502901120364825,-1.0212963673345459,0.04327059814780918,0.483038975866377,1.2928948348660267,3.6585341530411606,-1.0419440278276142,1.4677518684343014,-1.3680997211657755,-1.2135389769294556,0.22931481458496936,-1.1098037193039265,-0.6717059513903711,-1.2692450825745323,-0.7892951218023356,0.08913371087238695,-1.1155164037894816,-0.8814074728181335,-0.8644776032589034,-0.19933229283082324,-0.21359423926926163,-0.9276768487609819,-0.8950907946332582,-0.6006102767345785,-0.679821882098253,-1.1630602961825824,-0.9326780793921916,-1.4013451387606644,-0.4913721770645635,-0.23812595340547707,-0.9548849037245,-1.0691484671519105,-0.37132191698140354,0.40717452028751405,1.2352782242651796,-1.066729702081609,-1.3276506380137796,-0.7881795333496175,-0.8915929247302169,-1.1252293094427397,5.296232190231089,-0.7423375630163218,0.4770189751883545,0.8611994004210792,-1.1832587012500282,-0.6928535773360461,-0.6538926833639342,-0.2608350864786281,-0.2768309230301648,-0.8356931982851912,-1.2555160802902716,-1.1102493628098558,-0.6023859061522071,1.040558571963709,1.8659892771465387,1.5545305517954764,-0.5798239411213282,1.200898599889183,-1.3165770528482448,-1.308262761875447,-0.8062917265299439,-0.3057475563101041,-0.7693483442764566,-1.038196902901771,-1.3341848439329085,-0.2580059188020322,-1.1572267633682018,-0.8809613675335664,0.26966084437106785,-0.9742622279935715,0.007281211704841481,-0.43983933988637364,-0.7257256909228746,0.32378271927205265,-1.0816365551382103,-1.1004041705019605,-0.8856675389006163,-1.273117688222214,-1.3407586762558075,-0.8723421032777843,-0.9173897158847097,-0.7439703127337864,0.9008231012419322,-0.5435001987264694,-0.755354512781342,-0.9173035324464055,-0.32151283034824346,0.12930814866736,-1.2761253455883985,-0.013382911740195283,1.8222463522945407,0.2810530040455989,0.7775054802358718,2.287373091620242,0.4917775260741224,1.9274425773524593,-0.9465288989199875,-1.1297330101883478,1.812847880397723,-0.9417579094267624,-0.6624175423567503,1.939665977218959,-1.1871676079240618,-0.6033428012252358,1.3190332551638517,-1.092601734438597,-0.5813480985598971,-0.9687337640167305,3.1865707233768243,-0.9574312451345419,-0.8338133446214868,-0.9972264446225554,-0.4178008407560719,-0.8376733524778415,2.003390927783869,-1.1216307730016606,-1.2829409286904943,-0.7889553749053937,-0.9155550087990882,-0.8510083890881661,2.5944033703199794,-0.7217707998144359,7.630055249967244,-0.5975174783465855,0.5340875930759684,-1.1686062781554505,-0.9950009226471175,-0.8459475978764804,-0.6730829400374456,0.4031013800319905,0.5193400989147855,-0.011847755910280722,2.437258347241566,-1.2359403664788235,-0.3322278773202051,0.9155215302543473,0.5706011850278536,-0.9823464837181615,2.3699327312088148,-1.1457557548250399,2.5460029582877994,-1.3179157814339286,1.425490148095317,-0.2221336661804461,-1.322943301508907,-1.3417085564676008,0.7431897030945129,0.7079645628580046,-0.8182145124436373,-0.9867296482126322,-1.343809694339186,-1.1348230465522136,-0.9772910988725313,-1.239823278453448,0.4229470508642529,-1.1410280258811492,-1.3425999804655064,-1.1215805484276522,-1.4016498150368977,-0.4107655564820538,-0.9419568606660662,-0.38994570323209465,0.13037342170479757,-1.1003011923675774,-1.274657508752814,0.7767358497296105,-0.8151959333546382,-0.9931676099781273,-0.3612149104228298,-1.105525609067716,-0.8349354756695502,0.30524460076971915,-1.083212427481263,1.9481129808786508,-1.1375667464534525,-0.8866262645458889,-1.051244698539848,-1.2803813129094628,-1.157108816640224,-1.1297674565270335,-0.8981599994163213,-0.8826070174856425,-0.46647728505129227,-1.1442760716211093,-1.1708139917485219,0.7094909280365562,-1.112312366101321,-1.2993692488328188,-1.2913817071707452,-1.1878909480645412,-0.6987551863735153,-0.7240671112305093,-0.2137788259953035,-0.6689195236215819,-1.2301255519329974,-0.4072329345385495,1.6501556362492007,-0.441984296304783,0.14955606933044852,-0.5795694910231926,-0.41014317015396423,-0.13847791290979075,-0.11030938702601208,-0.9338994336195834,0.1722705305177824,0.9149165804402482,0.1435525300448749,1.1655746237517841,-0.6832137505694996,0.6845792869997045,0.107172160195723,-0.8034393867457064,-0.6026230104809747,-0.08901459755046978,-0.7298485223940508,0.9998857765574709,0.5428195425974655,-0.604622341938504,-0.7895464967987733,0.1621991677120706,-0.2671180142444157,-0.8807471442553149,-0.9355083978671107,-0.2905659641177966,0.9534813935838378,-0.8730612563971266,3.565120502616256,-0.8866315772991559,-1.1876544456620448],\"xaxis\":\"x\",\"y\":[-0.3388737335012512,-0.3340223107639474,1.2126531232669409,0.766926510251036,1.6006967928018587,-0.3263417577903503,-0.6018021972678749,-0.1800179260604221,-0.7523192292058445,-0.746479705560451,-0.37842555683275514,-0.27536643720613985,0.8398603840003728,-0.07837599002915757,0.22939961473256082,-0.5880530215239668,-1.1329625730897777,0.3617691544667514,0.5912270838082948,-0.8006237709583803,0.21714471248017064,-0.28149956049364677,2.5569966426721935,4.66583361453335,1.3991655998124406,-0.6187496010057607,-0.054923137790430614,-0.30761864528652755,-0.15488474653050407,1.17232484443221,0.3862513998629524,-0.5084645638761611,-0.061207221736408295,1.3152118318483437,-0.9346913715919333,-1.2089012470173808,1.5578979535984923,-0.40447561836848356,-1.2718337523563297,3.6093717113886723,2.6948619910555878,0.5431667495932209,-1.107446618250976,-1.7370675610058344,-0.9190351014296699,0.07760198911071807,-0.949884285276708,2.0195653350844744,-0.5253351468145472,-1.313285894958766,0.19811861567320765,-1.0088908432387076,0.965433885554615,-1.3113152160370207,0.7948025966471995,-0.5987848977624137,-1.2951947787306353,-1.0199063852341894,-0.3072751879540414,-0.6635128367522685,-0.9655616210496737,-0.47322845009368086,-0.18437172119407377,-0.4949697205675693,-0.19230510539672807,-2.5719970130238585,-1.3757615601628146,-0.2321680666080036,0.5585674443073655,-0.6125316578758936,1.4766361278054898,3.482376187838694,0.34047704843623294,1.0020445338459132,-0.31384710946898897,0.7068226841105123,0.1150321639628137,-1.1494883297488752,-0.3165496267470526,-0.6054218321599799,-0.6765826810604477,-1.5799566801460772,-0.23150870234385912,0.32720281304808074,-0.6190579494817583,-2.2820466720162096,-0.6890892519338145,5.129136099721457,0.5833053847258578,1.2340588277871736,-0.047345714246171476,0.9442839804766969,-0.2157805616220307,5.073286891418414,-1.0932345131531696,-0.9652629547253685,-1.3547418123379917,-0.9852755720315949,-0.9507201990330915,0.19533003622556744,0.07977407504831664,-0.886568441683932,-0.5791395228035181,4.48948822179525,-0.2535491023399317,0.009197485206436476,-1.057265359073335,-0.613692834801933,-0.8705076669913299,-1.2899646036048602,0.1368076192075944,-0.5605873855812671,1.6558027035958838,0.35647779110971817,0.3647079497679735,-0.12001212285702989,-0.37423467687632633,-0.3395338233963962,0.7630090296563263,-0.048143691700390186,0.24803389668595982,-0.5328608617874857,-0.06190459929157891,-0.3870972924499796,1.5765487387628843,4.834272620634155,1.0374398614640645,0.44945207766034495,-1.1186711981690058,1.4960107926099644,0.331460503797875,-0.9002904223761138,-0.33584917352580823,-0.5461288128085358,-0.5610073124664146,-0.619347508018727,-0.02795782223123117,-0.960086063978446,0.27827020625266274,-0.561282420981805,0.5385870104194376,0.7406615386450377,0.969642934932068,0.6249956882389516,-0.20207435599702736,-0.1514479960840717,-0.518837594085915,-0.4467939612795625,-0.17671171026603683,0.8038400982262289,-0.0034263199640003337,-0.5631548310304442,0.17417795266494165,-0.40928625161848825,-1.0807212841996632,-1.2876715353143122,-0.6607700644372692,0.22164726204602087,-0.7432222426030143,-1.5586322120110527,-0.7989098869800094,0.15843476321399627,0.06242712916264244,-1.414360426015587,-0.7101946842299781,0.25342038603669287,-0.2096996942558683,-0.8662784547080398,-0.5559608090771597,-0.37299314415741175,-1.3684958609746798,-0.010273887746077232,-1.0549680470313432,-1.5491267295277413,-0.47398333862282055,-0.9223283416495286,1.9951526358871137,0.36701161120048553,-0.3602229380448125,0.19189219560295934,0.03914001557162784,6.597056249510479,-1.43494050848848,10.60302050347907,-1.175044168078084,-0.32293729450290726,-0.3651492088054537,-0.366373866192961,-0.726137474899948,-0.8683221250208398,0.7585969477831277,-0.36142352099201003,-0.7172537040830042,-1.3991026323395426,-0.45240550859097567,1.1801481664190505,3.638925444410858,-0.8107202505240009,-0.020601412790394895,-0.544017939082474,-0.9983208144858398,-0.999049674995131,2.398914348575581,-1.1008190184847413,-0.581643282002451,-1.5084059229019349,-0.6517593065921671,-0.8831592081896447,-0.8209423517436814,-1.3438861647716625,0.49562334266892427,-0.5556520385654775,-0.19937946363894637,-0.7323200393411328,-1.1185098883751754,-0.6582327985514785,-1.9328199661475758,0.3377960583399603,0.19778631540744274,-0.5882812280166791,-0.015877481955475947,-1.1130886154586983,0.23162904653991476,0.04527887738234758,-0.5305485218640265,-0.3190070933785925,0.2520781604141379,-0.45328336176856765,-1.1058907268224565,0.45266145708235406,1.0285022097731213,-0.7199073827114638,0.3211634937952731,-0.9625554993052955,0.7886420239095685,-0.8324271334900771,-0.39566529859120864,0.7359861346999679,-0.5749245553104942,2.305886042934669,2.0734967158336755,0.566326109487782,0.3329954427473534,-0.06945486795164398,-0.44224859537037536,-0.90186430203021,-0.3308255298850368,-0.039029527155231496,-0.18734401451841703,0.1894450802569111,-0.5716991603451528,0.09052474396837094,0.6336952358582342,0.4439811893842707,0.8567080024311041,0.936235192376099,-0.5023693022527658,0.02841101260201404,3.1859653368015084,1.8620959659192,-0.5387568679766708,0.2827254103802446,0.22367562481585446,-0.550101813842705,-1.2185050678962597,1.477157670573922,-0.6631574406961435,1.2354847954464936,-0.8175284885248053,-0.037253775593425555,-0.11487986497951871,-0.4660744904467437,-0.7949866653175932,1.7171534578460201,-0.7432994433190828,-0.8648188154782545,1.3221267774076162,1.722906753830945,0.5722243122693339,0.006448801511994024,-0.5726435499145428,-0.03903447509730594,2.271450156363718,1.8775707854126724,3.7158109724909316,0.8269637097936948,-0.5874979224237787,0.9974255424112303,-0.2197906820755457,1.0626563204896942,-0.622867077852075,-0.3428323855462215,-0.2611708842121274,-1.0266215897985749,0.3222924733739025,-0.8282583081665578,0.3381143564067616,-0.6835217875906029,-0.7740365098820234,-1.0378605815549418,0.07086743760171799,-1.2286049885808603,-1.233189612310018,-1.635185750738486,-1.3836833004936968,-1.1589083323899276,-0.7942603290604089,0.03437614373846143,-0.6275579513526857,-1.03925159533038,1.2407283064693548,0.5923029172061512,-1.9860233646007046,0.004838160118734136,-0.26337651055535344,-0.34398032882470947,-0.1727222401115767,-0.6352645224953344,-0.3227182217213681,-0.7943895140505515,-0.7736509461370945,-0.10993997163856911,0.07897112560286244,-0.493946746486209,0.6810682483801461,6.669808005352499,-0.23768328979546574,-0.9303830746938142,1.1218279200460557,-0.05197604699928173,0.027346804932935103,-0.9404923751155417,0.8668584194939887,-3.464597370083971,2.114786768118538,0.5324100227374784,-0.20265215111415036,0.6447119734781466,1.1406181616759754,0.7449130928602368,-1.2137778567621795,-0.771679578941415,-1.015012704562213,-1.9980796059932553,-0.5940723899422882,-1.244368699186337,-0.8622268697265479,0.43313798651633617,-0.677885988537248,-1.2752577273113737,-0.48658099789131426,-0.9762863508802173,-0.9433239937109461,-1.5479245973701834,0.9816558854019924,-1.079691770533691,0.5156046362044393,-1.7738616226116997,0.9289808664539875,-0.8304821571025917,0.2639497961697697,-0.645056465978492,-0.800017408701066,-0.9333369993017909,-0.7694882041689599,-0.21918392079625876,-0.41502003632043455,-0.6795253397808918,0.3138642575492206,-0.6134848940772281,1.3950356034403177,1.1253400800723616,0.35492853164887483,0.3983957589205931,-0.46497567470760093,-0.7756200555432596,-0.19495297646210655,1.1158456617346946,-0.6583885887516545,-1.0253610072453636,0.7561436405761675,1.2650106487998471,1.3983423621459368,-0.43567928054586763,1.1111896879585963,0.023653489113865278,-0.576642915518498,0.3478039711205856,-0.34758635640442115,-0.10440709862303811,0.04195308387964199,-0.4352860798331744,-0.8628056830055739,1.399008976374499,-0.2854856479783543,-0.23699848700966356,-0.19742540263184125,0.5670096660980188,0.2406020812367076,-0.38749674985908134,-0.1728344541074494,2.4888951028926187,0.1931223787131297,0.16304629956125305,0.45624458187651634,-0.4517238236699362,1.5954064453462797,-0.8206304640638479,-0.6251998164515159,0.6999565101370238,-0.3025367000145274,0.23197357712833502,-1.4052617754508818,2.1608794317468076,-0.053305113135297504,-0.3199381801125485,-0.9730907687222428,-0.8791657763513283,-1.450004554419563,-0.3283327190033121,-1.0908112710003361,-0.02236913483676695,0.41761503018429913,-0.12309508639556262,-0.48303320527516935,2.0384413222930298,-0.0015316193634770142,2.8262591096015015,-0.6483511537464252,-0.14769828737589205,-0.6180552414909797,1.4746819434230896,-0.14034521244525278,-0.46365814640258896,-0.25447310654920563,2.53769826932841,1.9155706767556682,-1.042640015162147,2.3460090390863464e-05,-1.0168288321092804],\"yaxis\":\"y\",\"type\":\"scatter\"}],                        {\"template\":{\"data\":{\"histogram2dcontour\":[{\"type\":\"histogram2dcontour\",\"colorbar\":{\"outlinewidth\":0,\"ticks\":\"\"},\"colorscale\":[[0.0,\"#0d0887\"],[0.1111111111111111,\"#46039f\"],[0.2222222222222222,\"#7201a8\"],[0.3333333333333333,\"#9c179e\"],[0.4444444444444444,\"#bd3786\"],[0.5555555555555556,\"#d8576b\"],[0.6666666666666666,\"#ed7953\"],[0.7777777777777778,\"#fb9f3a\"],[0.8888888888888888,\"#fdca26\"],[1.0,\"#f0f921\"]]}],\"choropleth\":[{\"type\":\"choropleth\",\"colorbar\":{\"outlinewidth\":0,\"ticks\":\"\"}}],\"histogram2d\":[{\"type\":\"histogram2d\",\"colorbar\":{\"outlinewidth\":0,\"ticks\":\"\"},\"colorscale\":[[0.0,\"#0d0887\"],[0.1111111111111111,\"#46039f\"],[0.2222222222222222,\"#7201a8\"],[0.3333333333333333,\"#9c179e\"],[0.4444444444444444,\"#bd3786\"],[0.5555555555555556,\"#d8576b\"],[0.6666666666666666,\"#ed7953\"],[0.7777777777777778,\"#fb9f3a\"],[0.8888888888888888,\"#fdca26\"],[1.0,\"#f0f921\"]]}],\"heatmap\":[{\"type\":\"heatmap\",\"colorbar\":{\"outlinewidth\":0,\"ticks\":\"\"},\"colorscale\":[[0.0,\"#0d0887\"],[0.1111111111111111,\"#46039f\"],[0.2222222222222222,\"#7201a8\"],[0.3333333333333333,\"#9c179e\"],[0.4444444444444444,\"#bd3786\"],[0.5555555555555556,\"#d8576b\"],[0.6666666666666666,\"#ed7953\"],[0.7777777777777778,\"#fb9f3a\"],[0.8888888888888888,\"#fdca26\"],[1.0,\"#f0f921\"]]}],\"heatmapgl\":[{\"type\":\"heatmapgl\",\"colorbar\":{\"outlinewidth\":0,\"ticks\":\"\"},\"colorscale\":[[0.0,\"#0d0887\"],[0.1111111111111111,\"#46039f\"],[0.2222222222222222,\"#7201a8\"],[0.3333333333333333,\"#9c179e\"],[0.4444444444444444,\"#bd3786\"],[0.5555555555555556,\"#d8576b\"],[0.6666666666666666,\"#ed7953\"],[0.7777777777777778,\"#fb9f3a\"],[0.8888888888888888,\"#fdca26\"],[1.0,\"#f0f921\"]]}],\"contourcarpet\":[{\"type\":\"contourcarpet\",\"colorbar\":{\"outlinewidth\":0,\"ticks\":\"\"}}],\"contour\":[{\"type\":\"contour\",\"colorbar\":{\"outlinewidth\":0,\"ticks\":\"\"},\"colorscale\":[[0.0,\"#0d0887\"],[0.1111111111111111,\"#46039f\"],[0.2222222222222222,\"#7201a8\"],[0.3333333333333333,\"#9c179e\"],[0.4444444444444444,\"#bd3786\"],[0.5555555555555556,\"#d8576b\"],[0.6666666666666666,\"#ed7953\"],[0.7777777777777778,\"#fb9f3a\"],[0.8888888888888888,\"#fdca26\"],[1.0,\"#f0f921\"]]}],\"surface\":[{\"type\":\"surface\",\"colorbar\":{\"outlinewidth\":0,\"ticks\":\"\"},\"colorscale\":[[0.0,\"#0d0887\"],[0.1111111111111111,\"#46039f\"],[0.2222222222222222,\"#7201a8\"],[0.3333333333333333,\"#9c179e\"],[0.4444444444444444,\"#bd3786\"],[0.5555555555555556,\"#d8576b\"],[0.6666666666666666,\"#ed7953\"],[0.7777777777777778,\"#fb9f3a\"],[0.8888888888888888,\"#fdca26\"],[1.0,\"#f0f921\"]]}],\"mesh3d\":[{\"type\":\"mesh3d\",\"colorbar\":{\"outlinewidth\":0,\"ticks\":\"\"}}],\"scatter\":[{\"fillpattern\":{\"fillmode\":\"overlay\",\"size\":10,\"solidity\":0.2},\"type\":\"scatter\"}],\"parcoords\":[{\"type\":\"parcoords\",\"line\":{\"colorbar\":{\"outlinewidth\":0,\"ticks\":\"\"}}}],\"scatterpolargl\":[{\"type\":\"scatterpolargl\",\"marker\":{\"colorbar\":{\"outlinewidth\":0,\"ticks\":\"\"}}}],\"bar\":[{\"error_x\":{\"color\":\"#2a3f5f\"},\"error_y\":{\"color\":\"#2a3f5f\"},\"marker\":{\"line\":{\"color\":\"#E5ECF6\",\"width\":0.5},\"pattern\":{\"fillmode\":\"overlay\",\"size\":10,\"solidity\":0.2}},\"type\":\"bar\"}],\"scattergeo\":[{\"type\":\"scattergeo\",\"marker\":{\"colorbar\":{\"outlinewidth\":0,\"ticks\":\"\"}}}],\"scatterpolar\":[{\"type\":\"scatterpolar\",\"marker\":{\"colorbar\":{\"outlinewidth\":0,\"ticks\":\"\"}}}],\"histogram\":[{\"marker\":{\"pattern\":{\"fillmode\":\"overlay\",\"size\":10,\"solidity\":0.2}},\"type\":\"histogram\"}],\"scattergl\":[{\"type\":\"scattergl\",\"marker\":{\"colorbar\":{\"outlinewidth\":0,\"ticks\":\"\"}}}],\"scatter3d\":[{\"type\":\"scatter3d\",\"line\":{\"colorbar\":{\"outlinewidth\":0,\"ticks\":\"\"}},\"marker\":{\"colorbar\":{\"outlinewidth\":0,\"ticks\":\"\"}}}],\"scattermapbox\":[{\"type\":\"scattermapbox\",\"marker\":{\"colorbar\":{\"outlinewidth\":0,\"ticks\":\"\"}}}],\"scatterternary\":[{\"type\":\"scatterternary\",\"marker\":{\"colorbar\":{\"outlinewidth\":0,\"ticks\":\"\"}}}],\"scattercarpet\":[{\"type\":\"scattercarpet\",\"marker\":{\"colorbar\":{\"outlinewidth\":0,\"ticks\":\"\"}}}],\"carpet\":[{\"aaxis\":{\"endlinecolor\":\"#2a3f5f\",\"gridcolor\":\"white\",\"linecolor\":\"white\",\"minorgridcolor\":\"white\",\"startlinecolor\":\"#2a3f5f\"},\"baxis\":{\"endlinecolor\":\"#2a3f5f\",\"gridcolor\":\"white\",\"linecolor\":\"white\",\"minorgridcolor\":\"white\",\"startlinecolor\":\"#2a3f5f\"},\"type\":\"carpet\"}],\"table\":[{\"cells\":{\"fill\":{\"color\":\"#EBF0F8\"},\"line\":{\"color\":\"white\"}},\"header\":{\"fill\":{\"color\":\"#C8D4E3\"},\"line\":{\"color\":\"white\"}},\"type\":\"table\"}],\"barpolar\":[{\"marker\":{\"line\":{\"color\":\"#E5ECF6\",\"width\":0.5},\"pattern\":{\"fillmode\":\"overlay\",\"size\":10,\"solidity\":0.2}},\"type\":\"barpolar\"}],\"pie\":[{\"automargin\":true,\"type\":\"pie\"}]},\"layout\":{\"autotypenumbers\":\"strict\",\"colorway\":[\"#636efa\",\"#EF553B\",\"#00cc96\",\"#ab63fa\",\"#FFA15A\",\"#19d3f3\",\"#FF6692\",\"#B6E880\",\"#FF97FF\",\"#FECB52\"],\"font\":{\"color\":\"#2a3f5f\"},\"hovermode\":\"closest\",\"hoverlabel\":{\"align\":\"left\"},\"paper_bgcolor\":\"white\",\"plot_bgcolor\":\"#E5ECF6\",\"polar\":{\"bgcolor\":\"#E5ECF6\",\"angularaxis\":{\"gridcolor\":\"white\",\"linecolor\":\"white\",\"ticks\":\"\"},\"radialaxis\":{\"gridcolor\":\"white\",\"linecolor\":\"white\",\"ticks\":\"\"}},\"ternary\":{\"bgcolor\":\"#E5ECF6\",\"aaxis\":{\"gridcolor\":\"white\",\"linecolor\":\"white\",\"ticks\":\"\"},\"baxis\":{\"gridcolor\":\"white\",\"linecolor\":\"white\",\"ticks\":\"\"},\"caxis\":{\"gridcolor\":\"white\",\"linecolor\":\"white\",\"ticks\":\"\"}},\"coloraxis\":{\"colorbar\":{\"outlinewidth\":0,\"ticks\":\"\"}},\"colorscale\":{\"sequential\":[[0.0,\"#0d0887\"],[0.1111111111111111,\"#46039f\"],[0.2222222222222222,\"#7201a8\"],[0.3333333333333333,\"#9c179e\"],[0.4444444444444444,\"#bd3786\"],[0.5555555555555556,\"#d8576b\"],[0.6666666666666666,\"#ed7953\"],[0.7777777777777778,\"#fb9f3a\"],[0.8888888888888888,\"#fdca26\"],[1.0,\"#f0f921\"]],\"sequentialminus\":[[0.0,\"#0d0887\"],[0.1111111111111111,\"#46039f\"],[0.2222222222222222,\"#7201a8\"],[0.3333333333333333,\"#9c179e\"],[0.4444444444444444,\"#bd3786\"],[0.5555555555555556,\"#d8576b\"],[0.6666666666666666,\"#ed7953\"],[0.7777777777777778,\"#fb9f3a\"],[0.8888888888888888,\"#fdca26\"],[1.0,\"#f0f921\"]],\"diverging\":[[0,\"#8e0152\"],[0.1,\"#c51b7d\"],[0.2,\"#de77ae\"],[0.3,\"#f1b6da\"],[0.4,\"#fde0ef\"],[0.5,\"#f7f7f7\"],[0.6,\"#e6f5d0\"],[0.7,\"#b8e186\"],[0.8,\"#7fbc41\"],[0.9,\"#4d9221\"],[1,\"#276419\"]]},\"xaxis\":{\"gridcolor\":\"white\",\"linecolor\":\"white\",\"ticks\":\"\",\"title\":{\"standoff\":15},\"zerolinecolor\":\"white\",\"automargin\":true,\"zerolinewidth\":2},\"yaxis\":{\"gridcolor\":\"white\",\"linecolor\":\"white\",\"ticks\":\"\",\"title\":{\"standoff\":15},\"zerolinecolor\":\"white\",\"automargin\":true,\"zerolinewidth\":2},\"scene\":{\"xaxis\":{\"backgroundcolor\":\"#E5ECF6\",\"gridcolor\":\"white\",\"linecolor\":\"white\",\"showbackground\":true,\"ticks\":\"\",\"zerolinecolor\":\"white\",\"gridwidth\":2},\"yaxis\":{\"backgroundcolor\":\"#E5ECF6\",\"gridcolor\":\"white\",\"linecolor\":\"white\",\"showbackground\":true,\"ticks\":\"\",\"zerolinecolor\":\"white\",\"gridwidth\":2},\"zaxis\":{\"backgroundcolor\":\"#E5ECF6\",\"gridcolor\":\"white\",\"linecolor\":\"white\",\"showbackground\":true,\"ticks\":\"\",\"zerolinecolor\":\"white\",\"gridwidth\":2}},\"shapedefaults\":{\"line\":{\"color\":\"#2a3f5f\"}},\"annotationdefaults\":{\"arrowcolor\":\"#2a3f5f\",\"arrowhead\":0,\"arrowwidth\":1},\"geo\":{\"bgcolor\":\"white\",\"landcolor\":\"#E5ECF6\",\"subunitcolor\":\"white\",\"showland\":true,\"showlakes\":true,\"lakecolor\":\"white\"},\"title\":{\"x\":0.05},\"mapbox\":{\"style\":\"light\"}}},\"xaxis\":{\"anchor\":\"y\",\"domain\":[0.0,1.0],\"title\":{\"text\":\"PC1\"}},\"yaxis\":{\"anchor\":\"x\",\"domain\":[0.0,1.0],\"title\":{\"text\":\"PC2\"}},\"coloraxis\":{\"colorbar\":{\"title\":{\"text\":\"PC1\"}},\"colorscale\":[[0.0,\"#30123b\"],[0.07142857142857142,\"#4145ab\"],[0.14285714285714285,\"#4675ed\"],[0.21428571428571427,\"#39a2fc\"],[0.2857142857142857,\"#1bcfd4\"],[0.35714285714285715,\"#24eca6\"],[0.42857142857142855,\"#61fc6c\"],[0.5,\"#a4fc3b\"],[0.5714285714285714,\"#d1e834\"],[0.6428571428571429,\"#f3c63a\"],[0.7142857142857143,\"#fe9b2d\"],[0.7857142857142857,\"#f36315\"],[0.8571428571428571,\"#d93806\"],[0.9285714285714286,\"#b11901\"],[1.0,\"#7a0402\"]]},\"legend\":{\"tracegroupgap\":0},\"title\":{\"text\":\"PCA of Sample Data\"}},                        {\"responsive\": true}                    ).then(function(){\n",
       "                            \n",
       "var gd = document.getElementById('8f01325a-4a88-4e2c-ab13-3bff98cd0f70');\n",
       "var x = new MutationObserver(function (mutations, observer) {{\n",
       "        var display = window.getComputedStyle(gd).display;\n",
       "        if (!display || display === 'none') {{\n",
       "            console.log([gd, 'removed!']);\n",
       "            Plotly.purge(gd);\n",
       "            observer.disconnect();\n",
       "        }}\n",
       "}});\n",
       "\n",
       "// Listen for the removal of the full notebook cells\n",
       "var notebookContainer = gd.closest('#notebook-container');\n",
       "if (notebookContainer) {{\n",
       "    x.observe(notebookContainer, {childList: true});\n",
       "}}\n",
       "\n",
       "// Listen for the clearing of the current output cell\n",
       "var outputEl = gd.closest('.output');\n",
       "if (outputEl) {{\n",
       "    x.observe(outputEl, {childList: true});\n",
       "}}\n",
       "\n",
       "                        })                };                });            </script>        </div>"
      ]
     },
     "metadata": {},
     "output_type": "display_data"
    }
   ],
   "source": [
    "pca2 = PCA(n_components=2)  # Reduce to 2 dimensions for visualization\n",
    "X_pca2 = pca2.fit_transform(X_scaled)\n",
    "\n",
    "# Create a DataFrame for plotting\n",
    "df = pd.DataFrame(data=X_pca2, columns=['PC1', 'PC2'])\n",
    "\n",
    "# Plot using plotly\n",
    "fig = px.scatter(df, x='PC1', y='PC2',color=df['PC1'], color_continuous_scale='Turbo',title='PCA of Sample Data')\n",
    "fig.show()"
   ]
  },
  {
   "cell_type": "markdown",
   "id": "07aec197-74d1-41fd-ba90-9727809c75f7",
   "metadata": {},
   "source": [
    "#### Although we can visualize the clusters since we have reduced its dimentionality and PC1,PC2,PC3 together captures the most variance of almost 80% of the data set PCA is not the best model to provide us more insight on the clusters formed as at some level information relating to the original features is lost during this process "
   ]
  },
  {
   "cell_type": "markdown",
   "id": "193765ae",
   "metadata": {},
   "source": [
    "# Part V - Conclusion"
   ]
  },
  {
   "cell_type": "markdown",
   "id": "1fc26f00",
   "metadata": {},
   "source": [
    "From the model you developed and the exploratory data analysis (EDA) conducted, generate four bullet points as your findings."
   ]
  },
  {
   "cell_type": "markdown",
   "id": "53926690-1326-474a-a110-f1dfdc93ca7b",
   "metadata": {},
   "source": [
    "1) This data set was fairly clean with no missing values however outliers played a part during the EDA proces and with respect to the size of this data set ommision of those data point was not going to be helpful hence I proceeded with the method of capping to preserve the data point and off set some of the effects it may have caused by keeping it at its original value.\n",
    "\n",
    "2) PCA allows use to visualize the clusters better by reducing the dimensions down, but it is hard to interpret it as it transforms the original set of features into a new set of orthogonal components. but i can give us and idea to explore the model with other options.\n",
    "\n",
    "3) Different models can tend to produce different optimal clusters but they would generally similar. From the above models we can see that with this data set for Wholesale the Kmeans clustering gave us a better model with a silhouette score just under 50%.\n",
    "\n",
    "4) Various scores can be used to verify and asses the performance of the model.For this assginment I decided to stick with silhouette score."
   ]
  }
 ],
 "metadata": {
  "kernelspec": {
   "display_name": "Python 3 (ipykernel)",
   "language": "python",
   "name": "python3"
  },
  "language_info": {
   "codemirror_mode": {
    "name": "ipython",
    "version": 3
   },
   "file_extension": ".py",
   "mimetype": "text/x-python",
   "name": "python",
   "nbconvert_exporter": "python",
   "pygments_lexer": "ipython3",
   "version": "3.11.5"
  }
 },
 "nbformat": 4,
 "nbformat_minor": 5
}
